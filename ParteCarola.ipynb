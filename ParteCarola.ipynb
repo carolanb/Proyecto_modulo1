{
 "cells": [
  {
   "cell_type": "markdown",
   "metadata": {},
   "source": [
    "___\n",
    "<img style=\"float: left; margin: 30px 15px 15px 15px;\" src=\"https://d33wubrfki0l68.cloudfront.net/4ec62c1c925a380c912ddad740d18554c6822a11/fabe4/img/sponsors/iteso-university.png\" width=\"300\" height=\"500\" /> \n",
    "    \n",
    "    \n",
    "### <font color='navy'> Simulación de procesos financieros. \n",
    "\n",
    "**Nombres:** Carola Navarro Badía y Ana Luisa Espinoza López.\n",
    "\n",
    "**Fecha:** 06 de octubre del 2023.\n",
    "\n",
    "**Expediente** : if722049 e if734753.\n",
    "**Profesor:** Oscar David Jaramillo Zuluaga.\n",
    "    \n",
    "**Link Github**: Link con el enlace del repositorio del creador del proyecto\n",
    "\n",
    "# Proyecto TEMA-2"
   ]
  },
  {
   "cell_type": "markdown",
   "metadata": {},
   "source": [
    "<img style=\"float: right; margin: 0px 0px 15px 15px;\" src=\"https://upload.wikimedia.org/wikipedia/commons/b/b6/Proyecto_en_construccion.jpg\" width=\"300px\" height=\"100px\" />\n",
    "\n",
    "\n",
    "# Proyecto Módulo 2- Guía.\n",
    "> Se especifican los componentes básicos que deberá tener cada proyecto. El proyecto debe ser un problema que utilice datos reales, ya sea de una empresa física real o de alguna página de internet que proporcione bases de datos confiables. Con la información obtenida, se pretende utilizar todas las herramientas vistas durante el curso para la correcta modelación y simulación del cierto problema con ciertas variables de interés."
   ]
  },
  {
   "attachments": {
    "nodos%20proyecto.png": {
     "image/png": "[encoded data removed]"
    }
   },
   "cell_type": "markdown",
   "metadata": {},
   "source": [
    "___\n",
    "## 1. Entregable.\n",
    "Los trabajos deben tener los siguientes componentes básicos.\n",
    "\n",
    "### 1.1 Probabilidades para apuestas F1\n",
    "> Carreras de Fórmula 1 de la temporada 2020.\n",
    "\n",
    "### 1.2 Objetivos.\n",
    "\n",
    "> #### 1.1 Generar información de probabilidad para apuestas en temporada 2021 de F1.\n",
    "\n",
    "> #### 1.2 Objetivos específicos\n",
    ">  - De forma detallada describen cada una de los componentes del trabajo.\n",
    ">  - En conjunto garantizan la consecución del objetivo general.\n",
    "\n",
    "Referencia:\n",
    "- https://es.slideshare.net/rosbur/metodologia-objetivos-generales-y-especficos\n",
    "\n",
    "### 1.3 Definición del problema.\n",
    "> Se seleccionó una base de datos de las carreras de Fórmula 1 de la temporada 2020. Dicho dataset contiene los datos de telemetría, condiciones de pista, tiempos de sectores de pista por cada carrera y los datos de pilotos. En estos archivos se encuentran datos de tiempo de vuelta por piloto por cada gran premio, en total de la vuelta y en cada sector. En el data set se presentan otros datos de telemetría, condiciones de temperatura de la pista y desgaste de llantas los cuales no serán utilizados para este proyecto \n",
    "\n",
    "> Con este dataset buscamos modelar las distribuciones de probabilidad de ganar el gran premio, hacer la vuelta rápida o abandonar el gran premio. Se tomarán en cuenta los datos de tiempo por vuelta de cada piloto para 4 gran premios, los cuales serán los nodos. Se esocogieron como nodos puesto que en las casas de apuesta, las apuestas se realizan por gran premio, se seleccionaron los GP de Monza, Monaco, Silverstone y Spa ya que son de los más populares.\n",
    "\n",
    "> A continuación se presenta un diagrama con los flujos y nodos a simular \n",
    "\n",
    "![nodos%20proyecto.png](attachment:nodos%20proyecto.png)\n",
    "\n",
    "### 1.4 Nodos y variables que se decidieron simular y porqué\n",
    "> Se seleccionaron como nodos 4 Grandes Premios de la temporada 2020. Se seleccionaron como nodos los Grandes Premios porque en cada carrera se realizan apuestas sobre qué piloto será el ganador, quién hará la vuelta rápida, quién es más probable a abandonar, entre otras. Utilizando los GP como nodos permite utilizar los datos de todos los pilotos por lo que se pierde menos información. En esta línea, cada Gran Premio tiene condiciones distintas, por lo que la tendencia del tiempo por vuelta cambia de acuerdo a la pista, clasificando los datos por GP evita el sesgo de datos.\n",
    "\n",
    "> Nodo 1: Gran Premio de Monza\n",
    "\n",
    "\n",
    "> Nodo 2: Gran Premio de Monaco\n",
    "\n",
    "\n",
    "> Nodo 3: Gran Premio de Silverstone\n",
    "\n",
    "\n",
    "> Nodo 4: Gran Premio de Spa\n",
    "\n",
    "\n",
    "> Ahora, para las variables, en cada gran premio se simularán 3 variables: \n",
    "    - El ganador\n",
    "    - Quién realiza la vuelta rápida \n",
    "    - Quién es más probable a abandonar la carrera. \n",
    "\n",
    "> En los datos se tienen el tiempo en segundos por vuelta de cada piloto de cada gran premio. Para determinar el ganador de la carrera se suman los tiempos de las vueltas de cada piloto (los pilotos que tengan el mismo número de vueltas que las totales del circuito) y el que tenga menor tiempo es el ganador. Para la vuelta rápida, de los pilotos con el mismo número de vueltas que las totales del circuito, se revisa cual fue el menor tiempo y cuál fue el piloto. Finalmente, para determinar los pilotos que abandonaron la carrera se revisará por Gran Premio quienes tienen menos vueltas que las totales del circuito. \n",
    "\n",
    "  \n",
    "\n",
    "### 1.5 Definición de hipótesis y supuestos.\n",
    ">  Para poder modelar un proceso de negocio o cualquiera otro proceso en el área de las ingenierías o ciencias sociales, después de identificar el objeto de estudio, es importante indicar cuales son los supuestos que se dan por verdaderos a lo largo de la ejecución del proceso. Estos supuestos se deben indicar en forma de variables e hipótesis (son diferentes), porque si puedes definir en un valor el supuesto lo llamaremos \"supuesto constante\" y si no es posible identificarlo con un número entonces será una hipótesis que afectará la construcción de los escenarios posibles del proceso.\n",
    "\n",
    "   > Al ser una temporada pasada, la simulación con estos datos históricos (Temporada 2020) serán útiles para la temporada del 2021 de la Fórmula 1. Para validar que las simulaciones permitan la realización de conclusiones congruentes para la temporada 2021, se compararán con los resultados de la temporada 2021 (SoyMotor, 2021). Nuestras hipótesis son las siguientes:\n",
    "   \n",
    "   - Ganadores más problables del GP Monza: \n",
    "       1. Max Verstappen\n",
    "       2. Lewis Hamilton\n",
    "       3. Lando Norris    \n",
    "       \n",
    "       \n",
    "   - Ganadores más problables del GP Monaco: \n",
    "       1. Max Verstappen\n",
    "       2. Carlos Sainz\n",
    "       3. Lando Norris    \n",
    "       \n",
    "       \n",
    "   - Ganadores más problables del GP Silverstone: \n",
    "       1. Lewis Hamilton\n",
    "       2. Charles Leclerc\n",
    "       3. Valtteri Bottas\n",
    "       \n",
    "       \n",
    "   - Ganadores más problables del GP Spa: \n",
    "       1. Max Verstappen\n",
    "       2. George Russell\n",
    "       3. Lewis Hamilton \n",
    "       \n",
    "       \n",
    "   - Pilotos más probables a realizar la vuelta rápida:\n",
    "        1. Monza: Daniel Ricciardo\n",
    "        2. Monaco: Lewis Hamilton\n",
    "        3. Silverstone: Sergio Perez\n",
    "        4. Spa: Max Verstappen\n",
    "        \n",
    "        \n",
    "   - Pilotos más probables a abandonar la carrera:\n",
    "        1. George Russell\n",
    "        2. Valtteri Bottas\n",
    "        3. Nicholas Latifi"
   ]
  },
  {
   "cell_type": "markdown",
   "metadata": {},
   "source": [
    "### 1.6 Obtención de bases de datos\n",
    "> El tercer paso del proyecto es indicar de dónde se obtendrán las bases de datos, que indican como se han comportado las variables que identificaste en tu proceso de negocio que vas a simular. En esta investigación debes haber encontrado información propia de la empresa, organización o institución que vas a simular y otra parte de la información debe provenir de investigación que realices en fuentes de información públicas o privadas como las que tiene SECOBI, ahí normalmente y dependiendo del problema elegido, se investigan variables económicas, como tasas de interés, inflación, tipo de cambio, etc., de varios años, por poner un ejemplo.\n",
    "\n"
   ]
  },
  {
   "cell_type": "markdown",
   "metadata": {},
   "source": [
    ">La base de datos que se utilizará para este proyecto fue obtenida de \"https://www.kaggle.com/datasets/coni57/f1-2020-race-data\" en la cual se pueden ver los tiempos de cada piloto en distintas pistas, las llantas utilizadas y las condiciones de cada pista. Esta base de datos se divide en cuatro categorías: \n",
    "\n",
    "1. Datos de la sesión \n",
    "    - Incluye: nombre del GP, clima, temperatura del aire y de la pista y total de vueltas por pista\n",
    "    \n",
    "    \n",
    "2. Datos de participantes\n",
    "    - Incluye: lista del nombre de pilotos, un index de piloto, escudería, maxRPM y idleRPM\n",
    "\n",
    "\n",
    "3. Datos de tiempos de la carrera\n",
    "    - Incluye: índice de pilotos, tiempo total de vuelta, posición, vuelta actual y tiempos por sector\n",
    "\n",
    "\n",
    "4. Datos de telemetría\n",
    "    - Incluye: combustible, desgaste de llanta, entre otros.\n",
    "\n",
    "Para los objetivos de este proyecto, se utilizaron datos de las primeras tres categorías. En total la base de datos se componía de 88 archivos de excel por lo que se requirió procesar los datos utilizando la librería de pandas para poder utilizar los datos.\n"
   ]
  },
  {
   "cell_type": "code",
   "execution_count": 1,
   "metadata": {},
   "outputs": [],
   "source": [
    "import pandas as pd"
   ]
  },
  {
   "cell_type": "code",
   "execution_count": 2,
   "metadata": {
    "scrolled": true
   },
   "outputs": [
    {
     "data": {
      "text/html": [
       "<div>\n",
       "<style scoped>\n",
       "    .dataframe tbody tr th:only-of-type {\n",
       "        vertical-align: middle;\n",
       "    }\n",
       "\n",
       "    .dataframe tbody tr th {\n",
       "        vertical-align: top;\n",
       "    }\n",
       "\n",
       "    .dataframe thead th {\n",
       "        text-align: right;\n",
       "    }\n",
       "</style>\n",
       "<table border=\"1\" class=\"dataframe\">\n",
       "  <thead>\n",
       "    <tr style=\"text-align: right;\">\n",
       "      <th></th>\n",
       "      <th>pilot_index</th>\n",
       "      <th>LapTime</th>\n",
       "      <th>carPosition</th>\n",
       "      <th>currentLapNum</th>\n",
       "      <th>GP</th>\n",
       "      <th>driverId</th>\n",
       "    </tr>\n",
       "  </thead>\n",
       "  <tbody>\n",
       "    <tr>\n",
       "      <th>0</th>\n",
       "      <td>0</td>\n",
       "      <td>92.11968</td>\n",
       "      <td>16</td>\n",
       "      <td>1</td>\n",
       "      <td>Mexico</td>\n",
       "      <td>Pierre Gasly</td>\n",
       "    </tr>\n",
       "    <tr>\n",
       "      <th>1</th>\n",
       "      <td>0</td>\n",
       "      <td>82.83808</td>\n",
       "      <td>17</td>\n",
       "      <td>2</td>\n",
       "      <td>Mexico</td>\n",
       "      <td>Pierre Gasly</td>\n",
       "    </tr>\n",
       "    <tr>\n",
       "      <th>2</th>\n",
       "      <td>0</td>\n",
       "      <td>83.18610</td>\n",
       "      <td>16</td>\n",
       "      <td>3</td>\n",
       "      <td>Mexico</td>\n",
       "      <td>Pierre Gasly</td>\n",
       "    </tr>\n",
       "    <tr>\n",
       "      <th>3</th>\n",
       "      <td>0</td>\n",
       "      <td>83.25229</td>\n",
       "      <td>15</td>\n",
       "      <td>4</td>\n",
       "      <td>Mexico</td>\n",
       "      <td>Pierre Gasly</td>\n",
       "    </tr>\n",
       "    <tr>\n",
       "      <th>4</th>\n",
       "      <td>0</td>\n",
       "      <td>83.40625</td>\n",
       "      <td>14</td>\n",
       "      <td>5</td>\n",
       "      <td>Mexico</td>\n",
       "      <td>Pierre Gasly</td>\n",
       "    </tr>\n",
       "    <tr>\n",
       "      <th>...</th>\n",
       "      <td>...</td>\n",
       "      <td>...</td>\n",
       "      <td>...</td>\n",
       "      <td>...</td>\n",
       "      <td>...</td>\n",
       "      <td>...</td>\n",
       "    </tr>\n",
       "    <tr>\n",
       "      <th>12904</th>\n",
       "      <td>19</td>\n",
       "      <td>97.41235</td>\n",
       "      <td>1</td>\n",
       "      <td>25</td>\n",
       "      <td>Austin</td>\n",
       "      <td>Valtteri Bottas</td>\n",
       "    </tr>\n",
       "    <tr>\n",
       "      <th>12905</th>\n",
       "      <td>19</td>\n",
       "      <td>97.20898</td>\n",
       "      <td>1</td>\n",
       "      <td>26</td>\n",
       "      <td>Austin</td>\n",
       "      <td>Valtteri Bottas</td>\n",
       "    </tr>\n",
       "    <tr>\n",
       "      <th>12906</th>\n",
       "      <td>19</td>\n",
       "      <td>97.19995</td>\n",
       "      <td>1</td>\n",
       "      <td>27</td>\n",
       "      <td>Austin</td>\n",
       "      <td>Valtteri Bottas</td>\n",
       "    </tr>\n",
       "    <tr>\n",
       "      <th>12907</th>\n",
       "      <td>19</td>\n",
       "      <td>95.96313</td>\n",
       "      <td>1</td>\n",
       "      <td>28</td>\n",
       "      <td>Austin</td>\n",
       "      <td>Valtteri Bottas</td>\n",
       "    </tr>\n",
       "    <tr>\n",
       "      <th>12908</th>\n",
       "      <td>19</td>\n",
       "      <td>0.00889</td>\n",
       "      <td>1</td>\n",
       "      <td>29</td>\n",
       "      <td>Austin</td>\n",
       "      <td>Valtteri Bottas</td>\n",
       "    </tr>\n",
       "  </tbody>\n",
       "</table>\n",
       "<p>12909 rows × 6 columns</p>\n",
       "</div>"
      ],
      "text/plain": [
       "       pilot_index   LapTime  carPosition  currentLapNum      GP  \\\n",
       "0                0  92.11968           16              1  Mexico   \n",
       "1                0  82.83808           17              2  Mexico   \n",
       "2                0  83.18610           16              3  Mexico   \n",
       "3                0  83.25229           15              4  Mexico   \n",
       "4                0  83.40625           14              5  Mexico   \n",
       "...            ...       ...          ...            ...     ...   \n",
       "12904           19  97.41235            1             25  Austin   \n",
       "12905           19  97.20898            1             26  Austin   \n",
       "12906           19  97.19995            1             27  Austin   \n",
       "12907           19  95.96313            1             28  Austin   \n",
       "12908           19   0.00889            1             29  Austin   \n",
       "\n",
       "              driverId  \n",
       "0         Pierre Gasly  \n",
       "1         Pierre Gasly  \n",
       "2         Pierre Gasly  \n",
       "3         Pierre Gasly  \n",
       "4         Pierre Gasly  \n",
       "...                ...  \n",
       "12904  Valtteri Bottas  \n",
       "12905  Valtteri Bottas  \n",
       "12906  Valtteri Bottas  \n",
       "12907  Valtteri Bottas  \n",
       "12908  Valtteri Bottas  \n",
       "\n",
       "[12909 rows x 6 columns]"
      ]
     },
     "execution_count": 2,
     "metadata": {},
     "output_type": "execute_result"
    }
   ],
   "source": [
    "#datos procesados en crudo\n",
    "data_raw= pd.read_excel(\"data.xlsx\")\n",
    "dt = pd.DataFrame(data_raw)\n",
    "dt"
   ]
  },
  {
   "cell_type": "code",
   "execution_count": 3,
   "metadata": {},
   "outputs": [],
   "source": [
    "def datos_nodos(l:'lista de nombres de GP',dt:'dataFrame con todos los datos'):\n",
    "    a = dt[dt['GP'] == l[0]]\n",
    "    b = dt[dt['GP'] == l[1]]\n",
    "    c = dt[dt['GP'] == l[2]]\n",
    "    d = dt[dt['GP'] == l[3]]\n",
    "    return a,b,c,d"
   ]
  },
  {
   "cell_type": "code",
   "execution_count": 4,
   "metadata": {},
   "outputs": [],
   "source": [
    "# Datos tentativos para nodos\n",
    "l = ['Monza','Monaco','Silverstone','Spa']\n",
    "Monza_GP, Monaco_GP, Silverstone_GP, Spa_GP = datos_nodos(l,dt)"
   ]
  },
  {
   "cell_type": "code",
   "execution_count": 5,
   "metadata": {
    "scrolled": true
   },
   "outputs": [
    {
     "name": "stderr",
     "output_type": "stream",
     "text": [
      "/Users/carolanavarro/Desktop/anaconda3/lib/python3.7/site-packages/pandas/core/frame.py:4913: SettingWithCopyWarning: \n",
      "A value is trying to be set on a copy of a slice from a DataFrame\n",
      "\n",
      "See the caveats in the documentation: https://pandas.pydata.org/pandas-docs/stable/user_guide/indexing.html#returning-a-view-versus-a-copy\n",
      "  errors=errors,\n"
     ]
    }
   ],
   "source": [
    "dataframes = [Monza_GP, Monaco_GP, Silverstone_GP, Spa_GP]\n",
    "for df in dataframes:\n",
    "    df.drop('pilot_index', axis=1, inplace=True)"
   ]
  },
  {
   "cell_type": "markdown",
   "metadata": {},
   "source": [
    "## Piloto más probable a realizar la vuelta rápida\n",
    "### <font color='navy'> Nodos 1 & 2."
   ]
  },
  {
   "cell_type": "code",
   "execution_count": 6,
   "metadata": {},
   "outputs": [],
   "source": [
    "import numpy as np\n",
    "import matplotlib.pyplot as plt\n",
    "import seaborn as sns\n",
    "import scipy.stats as st \n",
    "from collections import Counter"
   ]
  },
  {
   "cell_type": "code",
   "execution_count": 7,
   "metadata": {},
   "outputs": [],
   "source": [
    "import warnings\n",
    "warnings.filterwarnings(\"ignore\")"
   ]
  },
  {
   "cell_type": "markdown",
   "metadata": {},
   "source": [
    "#### Funciones"
   ]
  },
  {
   "cell_type": "code",
   "execution_count": 8,
   "metadata": {},
   "outputs": [],
   "source": [
    "def hist2(sim_data,xlim1,xlim2,titulo):\n",
    "    hist_data = sim_data.groupby('Gran Premio')['Tiempo Simulado']\n",
    "    \n",
    "    plt.figure(figsize=(7, 5))\n",
    "    [plt.hist(data, bins=150, alpha=0.5, label=gp, density=True) for gp, data in hist_data]\n",
    "    \n",
    "    plt.title(titulo)\n",
    "    plt.xlabel('Tiempo Simulado (s)')\n",
    "    plt.xlim(xlim1, xlim2)\n",
    "    plt.legend()\n",
    "    plt.show()\n",
    "\n",
    "def boxplt(sim_data):\n",
    "    gp_data = sim_data['Gran Premio'].unique()\n",
    "    dt = [sim_data[sim_data['Gran Premio'] == gp]['Tiempo Simulado'] for gp in gp_data]\n",
    "    d_boxplt = pd.DataFrame({'Tiempo Simulado': pd.concat(dt),\n",
    "                                'Gran Premio': [gp for gp, data in zip(gp_data, dt) for _ in data]})\n",
    "\n",
    "    plt.figure(figsize=(7, 5))\n",
    "    sns.boxplot(x='Gran Premio', y='Tiempo Simulado', data=d_boxplt)\n",
    "    plt.xlabel('Gran Premio')\n",
    "    plt.ylabel('Tiempo Simulado (s)')\n",
    "    plt.title('Boxplot de Tiempo Simulado por Gran Premio')\n",
    "    plt.show()\n",
    "\n",
    "def remove_outliers(sim_data):\n",
    "    Q1 = sim_data['Tiempo Simulado'].quantile(0.25)\n",
    "    Q3 = sim_data['Tiempo Simulado'].quantile(0.75)\n",
    "    IQR = Q3 - Q1\n",
    "    lower_limit = Q1 - 1.5 * IQR\n",
    "    upper_limit = Q3 + 1.5 * IQR\n",
    "\n",
    "    s_data = sim_data[(sim_data['Tiempo Simulado'] >= lower_limit) & (sim_data['Tiempo Simulado'] <= upper_limit)]\n",
    "    \n",
    "    return s_data,lower_limit,upper_limit\n",
    "\n",
    "#gráfico de barras que por color permita observar piloto de vuelta rápida\n",
    "def g_barras(min_times:'serie de Pd con el tiempo mínimo de cada piloto'):\n",
    "    def set_colors(data):\n",
    "        bar_colors = ['blue'] * len(data)  # Colores por defecto para las barras\n",
    "        min_index = data.idxmin()\n",
    "        m = data.index.get_loc(min_index)  # Posición del valor mínimo\n",
    "        bar_colors[m] = 'red'  # Color rojo para la barra del valor mínimo\n",
    "        return bar_colors, m\n",
    "    def graf(data,axes,m):\n",
    "        data.plot(kind='bar', ax=axes[i], color=bar_colors)\n",
    "        axes[i].set_xlabel('Piloto')\n",
    "        axes[i].get_xticklabels()[m].set_color('red') #cambia color del nombre del piloto con vuelta rápida\n",
    "\n",
    "    s_data = sim_data[(sim_data[columna] >= lower_limit) & (sim_data[columna] <= upper_limit)]\n",
    "    \n",
    "    return s_data,lower_limit,upper_limit\n",
    "\n",
    "\n",
    "def gaussian_KDE(dataframe,columna,label,x1,x2):\n",
    "    kde = st.gaussian_kde(dataframe[columna])\n",
    "    # Generar puntos para el gráfico del KDE\n",
    "    x = range(x1, x2)\n",
    "    y = kde(x)\n",
    "    plt.plot(x, y, label=label)\n",
    "    plt.title('Kernel Density Estimation')\n",
    "    plt.legend()\n",
    "    plt.fill_between(x, y, alpha=0.5)\n",
    "\n",
    "def define_pdist(df,columna):\n",
    "    data = df[columna].values\n",
    "    rv_continuas = [d_i for d_i in dir(st) if isinstance(getattr(st, d_i), getattr(st, 'rv_continuous'))]\n",
    "    error = pd.DataFrame(columns=['distribucion', 'error'])\n",
    "    i = 0\n",
    "    for d_i in rv_continuas[30:55] + ['loglaplace'] + ['rdist'] + ['t']+ ['exponnorm']+ ['chi']:\n",
    "        try:\n",
    "            params = getattr(st, d_i).fit(data)\n",
    "            data_hat = getattr(st, d_i).pdf(x, *params)\n",
    "            ax.plot(x, data_hat, label=d_i)\n",
    "            error.loc[i, :] = [d_i, np.mean((y - data_hat)**2)]\n",
    "            i += 1\n",
    "        except ValueError:\n",
    "            pass\n",
    "    error.set_index('distribucion', inplace=True)\n",
    "    error.sort_values('error', inplace=True)\n",
    "    return error\n",
    "\n",
    "def set_colors(data:'lista de datos',m:'index del valor a resaltar'): \n",
    "    bar_colors = ['blue'] * len(data)  \n",
    "    bar_colors[m] = 'red'\n",
    "    return bar_colors\n",
    "\n",
    "#grafico de barras con los pilotos más probables de hacer la vuelta rápida\n",
    "def visual_resultados_vr(resultados:'lista resultados simulación',title):\n",
    "    frecuencia = {nombre: sum(1 for x in resultados if x == nombre) for nombre in resultados} \n",
    "    piloto_vr =  max(frecuencia, key=frecuencia.get)\n",
    "    drivers = list(frecuencia.keys())\n",
    "    repeticiones = list(frecuencia.values())\n",
    "    m = drivers.index(piloto_vr) \n",
    "    bar_colors = set_colors(drivers,m)\n",
    "    plt.bar(drivers, repeticiones, color=bar_colors)\n",
    "    plt.xlabel('Pilotos')\n",
    "    plt.ylabel('Frecuencia')\n",
    "    plt.title(title)\n",
    "    plt.xticks(rotation=90)  # Rotar los nombres en el eje x para una mejor visualización\n",
    "\n",
    "    plt.gca().get_xticklabels()[m].set_color('red') \n",
    "    #gca devuelve los ejes del gráfico y permite que con el indice m obtenga su etiqueta correspondiente\n",
    "    plt.show()"
   ]
  },
  {
   "cell_type": "markdown",
   "metadata": {},
   "source": [
    "### Determinación de posibles distribuciones de probabilidad"
   ]
  },
  {
   "cell_type": "code",
   "execution_count": 9,
   "metadata": {
    "scrolled": true
   },
   "outputs": [],
   "source": [
    "nodos_1_2 = pd.concat([Monza_GP, Monaco_GP], ignore_index=True) #nodos 1 y 2\n",
    "\n",
    "#obtiene el promedio de vueltas de los pilotos en cada gran premio con los datos de 2020\n",
    "avlaps = nodos_1_2.groupby(['GP', 'driverId'])['LapTime'].mean()\n"
   ]
  },
  {
   "cell_type": "code",
   "execution_count": 10,
   "metadata": {
    "scrolled": true
   },
   "outputs": [
    {
     "name": "stdout",
     "output_type": "stream",
     "text": [
      "El piloto más probable a hacer la vuelta rápida en Monaco es: Charles Leclerc\n",
      "El piloto más probable a hacer la vuelta rápida en Monza es: Sergio Perez\n"
     ]
    }
   ],
   "source": [
    "N = 10000\n",
    "\n",
    "sim_lap_t = [(gp,pilot,time) for (gp, pilot), avg_time in avlaps.items() for time in np.random.normal(avg_time, scale=1, size=N)]\n",
    "# np.random.normal(avg_time, scale=1, size=N) N tiempos distribuidos en la media con desviación estándar de 1, por piloto por GP \n",
    "\n",
    "\n",
    "#DataFrame con los tiempos simulados\n",
    "sim_data = pd.DataFrame(sim_lap_t, columns=['Gran Premio', 'Piloto', 'Tiempo Simulado'])\n",
    "\n",
    "#Rango intercuartílico para eliminar outliers\n",
    "s_data, low_l, up_l = remove_outliers(sim_data)\n",
    "min_times = s_data.groupby(['Gran Premio', 'Piloto'])['Tiempo Simulado'].min() #para visualizar los t_min de c/piloto\n",
    "\n",
    "#lista con los nombres de los pilotos con menor tiempo de vuelta en la simulación en cada GP\n",
    "p_vr = list(s_data.loc[s_data.groupby('Gran Premio')['Tiempo Simulado'].idxmin()]['Piloto']) \n",
    "\n",
    "print(f'El piloto más probable a hacer la vuelta rápida en Monaco es: {p_vr[0]}')\n",
    "print(f'El piloto más probable a hacer la vuelta rápida en Monza es: {p_vr[1]}')"
   ]
  },
  {
   "cell_type": "markdown",
   "metadata": {},
   "source": [
    "\n",
    "## 1.7 Visualización de resultados de simulación.\n",
    "> Se deben simular al menos 4  \"nodos\" o \"escenarios\" en tu problema. Para la segunda entrega debes haber elaborado un programa que simule dos de ellos, los primeros dos de tu diagrama.\n",
    "> Para la entrega final deben de tener los 4 nodos con todas sus simulaciones.\n",
    "\n"
   ]
  },
  {
   "cell_type": "markdown",
   "metadata": {},
   "source": [
    "### Simulación Vuelta Rápida"
   ]
  },
  {
   "cell_type": "markdown",
   "metadata": {},
   "source": [
    "A continuación, en los siguientes gráficos se puede observar la distribución de los tiempos por vuelta que se simularon para cada gran premio. Los tiempos que corresponden a la vuelta rápida se encontrarían en las colas de la distribución. En el primer histograma se muestran los datos de la simulación con datos outliers que afectan tanto la visualización como la distribución."
   ]
  },
  {
   "cell_type": "code",
   "execution_count": 11,
   "metadata": {
    "scrolled": true
   },
   "outputs": [
    {
     "data": {
      "image/png": "[encoded data removed]",
      "text/plain": [
       "<Figure size 504x360 with 1 Axes>"
      ]
     },
     "metadata": {
      "needs_background": "light"
     },
     "output_type": "display_data"
    }
   ],
   "source": [
    "hist2(sim_data,65,400,'Tiempos simulados montecarlo crudo')"
   ]
  },
  {
   "cell_type": "markdown",
   "metadata": {},
   "source": [
    "Para visualizar y analizar los datos de forma correcta, se eliminaron los outliers de los datos simulados. Se decidió eliminarlos puesto que en carreras de F1 tienen regulaciones de aerodinámica que garantizan cierto rango de velocidades. En esta línea, un valor atípico superior significaría una falla mecánica y uno inferior es una velocidad atípica o una colisión y para el propósito de identificar una vuelta rápida no son útiles. Para eliminarlos, se utilizará el método del rango intercuartílico."
   ]
  },
  {
   "cell_type": "code",
   "execution_count": 12,
   "metadata": {
    "scrolled": true
   },
   "outputs": [
    {
     "data": {
      "image/png": "[encoded data removed]",
      "text/plain": [
       "<Figure size 504x360 with 1 Axes>"
      ]
     },
     "metadata": {
      "needs_background": "light"
     },
     "output_type": "display_data"
    }
   ],
   "source": [
    "hist2(s_data, low_l, up_l,'Tiempos simulados sin outliers')"
   ]
  },
  {
   "cell_type": "code",
   "execution_count": 13,
   "metadata": {
    "scrolled": true
   },
   "outputs": [
    {
     "data": {
      "image/png": "[encoded data removed]",
      "text/plain": [
       "<Figure size 504x360 with 1 Axes>"
      ]
     },
     "metadata": {
      "needs_background": "light"
     },
     "output_type": "display_data"
    }
   ],
   "source": [
    "boxplt(s_data)"
   ]
  },
  {
   "cell_type": "markdown",
   "metadata": {},
   "source": [
    "**Vuelta rápida por Gran Premio, utilizando 10, 000 simulaciones por piloto:**\n",
    "\n",
    "El tiempo mínimo es en segundos. El piloto con la vuelta rápida en cada gran premio se indicará de color rojo en el gráfico de barras."
   ]
  },
  {
   "cell_type": "markdown",
   "metadata": {},
   "source": [
    "## Piloto más probable a ganar el GP\n",
    "### <font color='navy'> Nodos 1 & 2."
   ]
  },
  {
   "cell_type": "markdown",
   "metadata": {},
   "source": [
    "#### Funciones"
   ]
  },
  {
   "cell_type": "code",
   "execution_count": 14,
   "metadata": {},
   "outputs": [
    {
     "data": {
      "image/png": "[encoded data removed]",
      "text/plain": [
       "<Figure size 432x288 with 1 Axes>"
      ]
     },
     "metadata": {
      "needs_background": "light"
     },
     "output_type": "display_data"
    }
   ],
   "source": [
    "from scipy.stats import gaussian_kde\n",
    "# Datos de ejemplo\n",
    "dt = np.random.normal(size=1000)\n",
    "\n",
    "# Calcula el KDE\n",
    "kde = gaussian_kde(dt)\n",
    "\n",
    "# Evalúa el KDE en un conjunto de puntos para generar la curva de densidad\n",
    "x = np.linspace(min(dt), max(dt), 1000)\n",
    "y = kde(x)\n",
    "\n",
    "# Grafica el KDE\n",
    "plt.figure()\n",
    "plt.plot(x, y, label='KDE')\n",
    "plt.hist(dt, density=True, alpha=0.5, label='Histograma')\n",
    "plt.legend()\n",
    "plt.xlabel('Valores')\n",
    "plt.ylabel('Densidad')\n",
    "plt.title('Kernel Density Estimation')\n",
    "plt.show()\n"
   ]
  },
  {
   "cell_type": "markdown",
   "metadata": {},
   "source": [
    "# Ganadores más probables del GP"
   ]
  },
  {
   "cell_type": "markdown",
   "metadata": {},
   "source": [
    "## Monza"
   ]
  },
  {
   "cell_type": "code",
   "execution_count": 15,
   "metadata": {},
   "outputs": [
    {
     "ename": "NameError",
     "evalue": "name 'stats' is not defined",
     "output_type": "error",
     "traceback": [
      "\u001b[0;31m---------------------------------------------------------------------------\u001b[0m",
      "\u001b[0;31mNameError\u001b[0m                                 Traceback (most recent call last)",
      "\u001b[0;32m<ipython-input-15-ca19aa0d9d55>\u001b[0m in \u001b[0;36m<module>\u001b[0;34m\u001b[0m\n\u001b[1;32m     12\u001b[0m     \u001b[0;32mfor\u001b[0m \u001b[0mpiloto\u001b[0m \u001b[0;32min\u001b[0m \u001b[0mMonza_GP\u001b[0m\u001b[0;34m[\u001b[0m\u001b[0;34m'driverId'\u001b[0m\u001b[0;34m]\u001b[0m\u001b[0;34m.\u001b[0m\u001b[0munique\u001b[0m\u001b[0;34m(\u001b[0m\u001b[0;34m)\u001b[0m\u001b[0;34m:\u001b[0m\u001b[0;34m\u001b[0m\u001b[0;34m\u001b[0m\u001b[0m\n\u001b[1;32m     13\u001b[0m         \u001b[0mdatos_piloto\u001b[0m \u001b[0;34m=\u001b[0m \u001b[0mMonza_GP\u001b[0m\u001b[0;34m[\u001b[0m\u001b[0mMonza_GP\u001b[0m\u001b[0;34m[\u001b[0m\u001b[0;34m'driverId'\u001b[0m\u001b[0;34m]\u001b[0m \u001b[0;34m==\u001b[0m \u001b[0mpiloto\u001b[0m\u001b[0;34m]\u001b[0m\u001b[0;34m[\u001b[0m\u001b[0;34m'LapTime'\u001b[0m\u001b[0;34m]\u001b[0m\u001b[0;34m\u001b[0m\u001b[0;34m\u001b[0m\u001b[0m\n\u001b[0;32m---> 14\u001b[0;31m         \u001b[0mparams\u001b[0m \u001b[0;34m=\u001b[0m \u001b[0mgetattr\u001b[0m\u001b[0;34m(\u001b[0m\u001b[0mstats\u001b[0m\u001b[0;34m,\u001b[0m \u001b[0mdist_name\u001b[0m\u001b[0;34m)\u001b[0m\u001b[0;34m.\u001b[0m\u001b[0mfit\u001b[0m\u001b[0;34m(\u001b[0m\u001b[0mdatos_piloto\u001b[0m\u001b[0;34m)\u001b[0m\u001b[0;34m\u001b[0m\u001b[0;34m\u001b[0m\u001b[0m\n\u001b[0m\u001b[1;32m     15\u001b[0m         \u001b[0mparams_df\u001b[0m \u001b[0;34m=\u001b[0m \u001b[0mparams_df\u001b[0m\u001b[0;34m.\u001b[0m\u001b[0mappend\u001b[0m\u001b[0;34m(\u001b[0m\u001b[0;34m{\u001b[0m\u001b[0;34m'Piloto'\u001b[0m\u001b[0;34m:\u001b[0m \u001b[0mpiloto\u001b[0m\u001b[0;34m,\u001b[0m \u001b[0;34m'Parametros'\u001b[0m\u001b[0;34m:\u001b[0m \u001b[0mparams\u001b[0m\u001b[0;34m}\u001b[0m\u001b[0;34m,\u001b[0m \u001b[0mignore_index\u001b[0m\u001b[0;34m=\u001b[0m\u001b[0;32mTrue\u001b[0m\u001b[0;34m)\u001b[0m\u001b[0;34m\u001b[0m\u001b[0;34m\u001b[0m\u001b[0m\n\u001b[1;32m     16\u001b[0m \u001b[0;34m\u001b[0m\u001b[0m\n",
      "\u001b[0;31mNameError\u001b[0m: name 'stats' is not defined"
     ]
    }
   ],
   "source": [
    "# Lista de distribuciones de probabilidad\n",
    "dist_list = ['bradford', 'beta', 'expon', 'exponnorm', 'norm', 'uniform', 'foldnorm', 'gennorm', 'ksone', 'kappa4', 'johnsonsb']\n",
    "\n",
    "# Crear un diccionario para almacenar los resultados de ajuste de cada distribución\n",
    "resultados = {}\n",
    "\n",
    "# Iterar a través de las distribuciones y ajustar a los datos de LapTime para cada piloto\n",
    "for dist_name in dist_list:\n",
    "    # Crear un DataFrame para almacenar los parámetros de ajuste para cada piloto\n",
    "    params_df = pd.DataFrame(columns=['Piloto', 'Parametros'])\n",
    "    \n",
    "    for piloto in Monza_GP['driverId'].unique():\n",
    "        datos_piloto = Monza_GP[Monza_GP['driverId'] == piloto]['LapTime']\n",
    "        params = getattr(stats, dist_name).fit(datos_piloto)\n",
    "        params_df = params_df.append({'Piloto': piloto, 'Parametros': params}, ignore_index=True)\n",
    "    \n",
    "    resultados[dist_name] = params_df\n",
    "\n",
    "# Obtener la media de cada distribución para cada piloto\n",
    "medias = {}\n",
    "for dist_name, params_df in resultados.items():\n",
    "    params_df['Media'] = params_df['Parametros'].apply(lambda x: np.mean(x))\n",
    "    piloto_ganador = params_df[params_df['Media'] == params_df['Media'].min()]['Piloto'].values[0]\n",
    "    medias[dist_name] = (piloto_ganador, params_df['Media'].min())\n",
    "\n",
    "# Determinar la distribución con la media más baja (es decir, el piloto más probable a ganar)\n",
    "mejor_dist = min(medias, key=lambda x: medias[x][1])\n",
    "\n",
    "print(f\"La distribución {mejor_dist} tiene al piloto {medias[mejor_dist][0]} como el más probable a ganar.\")"
   ]
  },
  {
   "cell_type": "markdown",
   "metadata": {},
   "source": [
    "Histograma de frecuencia "
   ]
  },
  {
   "cell_type": "code",
   "execution_count": 37,
   "metadata": {},
   "outputs": [
    {
     "data": {
      "text/plain": [
       "<matplotlib.axes._subplots.AxesSubplot at 0x1a27ef0cd0>"
      ]
     },
     "execution_count": 37,
     "metadata": {},
     "output_type": "execute_result"
    },
    {
     "data": {
      "image/png": "[encoded data removed]",
      "text/plain": [
       "<Figure size 432x288 with 1 Axes>"
      ]
     },
     "metadata": {
      "needs_background": "light"
     },
     "output_type": "display_data"
    }
   ],
   "source": [
    "Monza=Monza_GP.groupby(['driverId','carPosition'])['GP'].count().hist()\n",
    "Monza"
   ]
  },
  {
   "cell_type": "code",
   "execution_count": 21,
   "metadata": {},
   "outputs": [
    {
     "data": {
      "text/html": [
       "<div>\n",
       "<style scoped>\n",
       "    .dataframe tbody tr th:only-of-type {\n",
       "        vertical-align: middle;\n",
       "    }\n",
       "\n",
       "    .dataframe tbody tr th {\n",
       "        vertical-align: top;\n",
       "    }\n",
       "\n",
       "    .dataframe thead th {\n",
       "        text-align: right;\n",
       "    }\n",
       "</style>\n",
       "<table border=\"1\" class=\"dataframe\">\n",
       "  <thead>\n",
       "    <tr style=\"text-align: right;\">\n",
       "      <th></th>\n",
       "      <th>LapTime</th>\n",
       "      <th>carPosition</th>\n",
       "      <th>currentLapNum</th>\n",
       "      <th>GP</th>\n",
       "      <th>driverId</th>\n",
       "    </tr>\n",
       "  </thead>\n",
       "  <tbody>\n",
       "    <tr>\n",
       "      <th>683</th>\n",
       "      <td>47.23124</td>\n",
       "      <td>7</td>\n",
       "      <td>27</td>\n",
       "      <td>Monza</td>\n",
       "      <td>Lance Stroll</td>\n",
       "    </tr>\n",
       "    <tr>\n",
       "      <th>710</th>\n",
       "      <td>74.99310</td>\n",
       "      <td>3</td>\n",
       "      <td>27</td>\n",
       "      <td>Monza</td>\n",
       "      <td>Max Verstappen</td>\n",
       "    </tr>\n",
       "    <tr>\n",
       "      <th>737</th>\n",
       "      <td>42.16925</td>\n",
       "      <td>9</td>\n",
       "      <td>27</td>\n",
       "      <td>Monza</td>\n",
       "      <td>Sergio Perez</td>\n",
       "    </tr>\n",
       "    <tr>\n",
       "      <th>764</th>\n",
       "      <td>66.52277</td>\n",
       "      <td>4</td>\n",
       "      <td>27</td>\n",
       "      <td>Monza</td>\n",
       "      <td>Charles Leclerc</td>\n",
       "    </tr>\n",
       "    <tr>\n",
       "      <th>817</th>\n",
       "      <td>53.86311</td>\n",
       "      <td>5</td>\n",
       "      <td>27</td>\n",
       "      <td>Monza</td>\n",
       "      <td>Esteban Ocon</td>\n",
       "    </tr>\n",
       "    <tr>\n",
       "      <th>844</th>\n",
       "      <td>78.97684</td>\n",
       "      <td>2</td>\n",
       "      <td>27</td>\n",
       "      <td>Monza</td>\n",
       "      <td>Lewis Hamilton</td>\n",
       "    </tr>\n",
       "    <tr>\n",
       "      <th>879</th>\n",
       "      <td>50.37990</td>\n",
       "      <td>6</td>\n",
       "      <td>27</td>\n",
       "      <td>Monza</td>\n",
       "      <td>Carlos Sainz</td>\n",
       "    </tr>\n",
       "    <tr>\n",
       "      <th>962</th>\n",
       "      <td>46.17452</td>\n",
       "      <td>8</td>\n",
       "      <td>27</td>\n",
       "      <td>Monza</td>\n",
       "      <td>Lando Norris</td>\n",
       "    </tr>\n",
       "    <tr>\n",
       "      <th>989</th>\n",
       "      <td>20.50826</td>\n",
       "      <td>10</td>\n",
       "      <td>27</td>\n",
       "      <td>Monza</td>\n",
       "      <td>Daniil Kvyat</td>\n",
       "    </tr>\n",
       "    <tr>\n",
       "      <th>1016</th>\n",
       "      <td>8.90251</td>\n",
       "      <td>11</td>\n",
       "      <td>27</td>\n",
       "      <td>Monza</td>\n",
       "      <td>Pierre Gasly</td>\n",
       "    </tr>\n",
       "    <tr>\n",
       "      <th>1067</th>\n",
       "      <td>6.85152</td>\n",
       "      <td>12</td>\n",
       "      <td>27</td>\n",
       "      <td>Monza</td>\n",
       "      <td>Daniel Ricciardo</td>\n",
       "    </tr>\n",
       "    <tr>\n",
       "      <th>1146</th>\n",
       "      <td>83.47047</td>\n",
       "      <td>1</td>\n",
       "      <td>27</td>\n",
       "      <td>Monza</td>\n",
       "      <td>Valtteri Bottas</td>\n",
       "    </tr>\n",
       "  </tbody>\n",
       "</table>\n",
       "</div>"
      ],
      "text/plain": [
       "       LapTime  carPosition  currentLapNum     GP          driverId\n",
       "683   47.23124            7             27  Monza      Lance Stroll\n",
       "710   74.99310            3             27  Monza    Max Verstappen\n",
       "737   42.16925            9             27  Monza      Sergio Perez\n",
       "764   66.52277            4             27  Monza   Charles Leclerc\n",
       "817   53.86311            5             27  Monza      Esteban Ocon\n",
       "844   78.97684            2             27  Monza    Lewis Hamilton\n",
       "879   50.37990            6             27  Monza      Carlos Sainz\n",
       "962   46.17452            8             27  Monza      Lando Norris\n",
       "989   20.50826           10             27  Monza      Daniil Kvyat\n",
       "1016   8.90251           11             27  Monza      Pierre Gasly\n",
       "1067   6.85152           12             27  Monza  Daniel Ricciardo\n",
       "1146  83.47047            1             27  Monza   Valtteri Bottas"
      ]
     },
     "execution_count": 21,
     "metadata": {},
     "output_type": "execute_result"
    }
   ],
   "source": [
    "Monza_GP[Monza_GP.currentLapNum == Monza_GP.currentLapNum.max()]"
   ]
  },
  {
   "cell_type": "code",
   "execution_count": 39,
   "metadata": {},
   "outputs": [
    {
     "data": {
      "image/png": "[encoded data removed]",
      "text/plain": [
       "<Figure size 720x432 with 1 Axes>"
      ]
     },
     "metadata": {
      "needs_background": "light"
     },
     "output_type": "display_data"
    }
   ],
   "source": [
    "import matplotlib.pyplot as plt\n",
    "\n",
    "# Obtener los datos de carPosition\n",
    "car_position_data = Monza_GP['carPosition']\n",
    "\n",
    "# Crear un histograma de frecuencia\n",
    "plt.figure(figsize=(10, 6))\n",
    "plt.hist(car_position_data, bins=10, edgecolor='black', alpha=0.7)\n",
    "plt.xlabel('Posición del Coche')\n",
    "plt.ylabel('Frecuencia')\n",
    "plt.title('Histograma de Frecuencia de Posición del Coche')\n",
    "plt.grid(True)\n",
    "plt.show()"
   ]
  },
  {
   "cell_type": "code",
   "execution_count": 41,
   "metadata": {},
   "outputs": [
    {
     "data": {
      "image/png": "[encoded data removed]",
      "text/plain": [
       "<Figure size 720x504 with 1 Axes>"
      ]
     },
     "metadata": {
      "needs_background": "light"
     },
     "output_type": "display_data"
    },
    {
     "data": {
      "text/html": [
       "<div>\n",
       "<style scoped>\n",
       "    .dataframe tbody tr th:only-of-type {\n",
       "        vertical-align: middle;\n",
       "    }\n",
       "\n",
       "    .dataframe tbody tr th {\n",
       "        vertical-align: top;\n",
       "    }\n",
       "\n",
       "    .dataframe thead th {\n",
       "        text-align: right;\n",
       "    }\n",
       "</style>\n",
       "<table border=\"1\" class=\"dataframe\">\n",
       "  <thead>\n",
       "    <tr style=\"text-align: right;\">\n",
       "      <th></th>\n",
       "      <th>distribución</th>\n",
       "      <th>error</th>\n",
       "    </tr>\n",
       "  </thead>\n",
       "  <tbody>\n",
       "    <tr>\n",
       "      <th>0</th>\n",
       "      <td>beta</td>\n",
       "      <td>0.000517</td>\n",
       "    </tr>\n",
       "    <tr>\n",
       "      <th>1</th>\n",
       "      <td>betaprime</td>\n",
       "      <td>0.000714</td>\n",
       "    </tr>\n",
       "    <tr>\n",
       "      <th>2</th>\n",
       "      <td>bradford</td>\n",
       "      <td>0.000427</td>\n",
       "    </tr>\n",
       "    <tr>\n",
       "      <th>3</th>\n",
       "      <td>burr</td>\n",
       "      <td>0.000426</td>\n",
       "    </tr>\n",
       "    <tr>\n",
       "      <th>4</th>\n",
       "      <td>burr12</td>\n",
       "      <td>0.00066</td>\n",
       "    </tr>\n",
       "    <tr>\n",
       "      <th>5</th>\n",
       "      <td>cauchy</td>\n",
       "      <td>0.001049</td>\n",
       "    </tr>\n",
       "  </tbody>\n",
       "</table>\n",
       "</div>"
      ],
      "text/plain": [
       "  distribución     error\n",
       "0         beta  0.000517\n",
       "1    betaprime  0.000714\n",
       "2     bradford  0.000427\n",
       "3         burr  0.000426\n",
       "4       burr12   0.00066\n",
       "5       cauchy  0.001049"
      ]
     },
     "execution_count": 41,
     "metadata": {},
     "output_type": "execute_result"
    }
   ],
   "source": [
    "#Buscando distribuciones para hd\n",
    "continuous_dist = [dist_i for dist_i in dir(st) if isinstance(getattr(st, dist_i), getattr(st, 'rv_continuous'))] \n",
    "\n",
    "fig, ax = plt.subplots(1,1, figsize = (10,7))\n",
    "\n",
    "y, x, _ = ax.hist(car_position_data, bins = 15, density = True)\n",
    "x = x[1:]\n",
    "i = 0\n",
    "\n",
    "error_df = pd.DataFrame(columns = ['distribución', 'error'])\n",
    "for d in continuous_dist[4:10]:\n",
    "    param = getattr(st,d).fit(car_position_data)\n",
    "    y_hat = getattr(st, d).pdf(x, *param)\n",
    "    error = np.mean((y - y_hat)**2)\n",
    "    error_df.loc[i, 'distribución'] = d\n",
    "    error_df.loc[i, 'error'] = error\n",
    "    i+=1\n",
    "    ax.plot(x, y_hat,label = f'{d}')\n",
    "plt.legend()\n",
    "plt.show()\n",
    "\n",
    "error_df"
   ]
  },
  {
   "cell_type": "code",
   "execution_count": 28,
   "metadata": {},
   "outputs": [
    {
     "name": "stdout",
     "output_type": "stream",
     "text": [
      "['bradford', 0.0795870590093305]\n",
      "['beta', 0.18540911878480215]\n",
      "['expon', 0.17033100447858035]\n",
      "['exponnorm', 0.08366590665456042]\n",
      "['norm', 0.08366669294254442]\n",
      "['uniform', 0.08442534908700328]\n",
      "['foldnorm', 0.07628029989872098]\n",
      "['gennorm', 0.052427533815306626]\n",
      "['ksone', 0.09021005666815894]\n",
      "['kappa4', 0.06927538560230773]\n",
      "['johnsonsb', 0.05475130905174175]\n"
     ]
    }
   ],
   "source": [
    "import scipy.stats as stats\n",
    "\n",
    "dist_list = ['bradford', 'beta', 'expon', 'exponnorm', 'norm', 'uniform', 'foldnorm', 'gennorm', 'ksone', 'kappa4', 'johnsonsb']\n",
    "\n",
    "results = []\n",
    "\n",
    "for distribution_name in dist_list:\n",
    "    params = getattr(stats, distribution_name).fit(car_position_data)\n",
    "    # Obtener la distribución ajustada a los datos\n",
    "    fitted_distribution = getattr(stats, distribution_name)(*params)\n",
    "    # Calcular el ajuste de la distribución utilizando el criterio de Akaike\n",
    "    aic = stats.kstest(car_position_data, distribution_name, params)[0]\n",
    "    results.append([distribution_name, aic])\n",
    "\n",
    "# Imprimir la tabla de errores\n",
    "for result in results:\n",
    "    print(result)"
   ]
  },
  {
   "cell_type": "code",
   "execution_count": null,
   "metadata": {},
   "outputs": [],
   "source": [
    "#Parámetros de distibución beta en nuestros datos\n",
    "params_Monza = st.beta.fit(car_position_data)\n",
    "params_Monza"
   ]
  },
  {
   "cell_type": "code",
   "execution_count": null,
   "metadata": {},
   "outputs": [],
   "source": [
    "# Prueba de hipótesis\n",
    "st.kstest(car_position_data, lambda car_position_data: st.beta.cdf(car_position_data,*params_Monza))"
   ]
  },
  {
   "cell_type": "code",
   "execution_count": null,
   "metadata": {},
   "outputs": [],
   "source": [
    "params1 = getattr(st, dist).fit(Monza_GP['carPosition'])\n",
    "\n",
    "random_hat1 = getattr(st, dist).rvs(*params1, size = 100)\n",
    "\n",
    "plt.hist(Monza_GP['carPosition'], bins =15, label = 'data real', density = True)\n",
    "plt.hist(random_hat1, bins = 20, density = True, alpha = .5, label = 'data estimado')\n",
    "plt.legend()\n",
    "plt.show()"
   ]
  },
  {
   "cell_type": "code",
   "execution_count": null,
   "metadata": {},
   "outputs": [],
   "source": [
    "divisiones = 15\n",
    "fig, ax = plt.subplots(2,1, figsize=(8,10))\n",
    "fig.tight_layout(pad=3.0)\n",
    "\n",
    "y, x, _ = ax[0].hist(car_position_data, divisiones, density=True, label='Histograma mediciones')\n",
    "\n",
    "dist = 'beta'\n",
    "params = getattr(st, dist).fit(car_position_data)\n",
    "y_hat = getattr(st, dist).pdf(x, *params)\n",
    "ax[0].plot(x, y_hat,'r--', label='Distribución ajustada')\n",
    "ax[0].set_ylabel('Probability')\n",
    "ax[0].grid()\n",
    "ax[0].legend()\n",
    "\n",
    "grap2 = st.probplot(car_position_data, dist=dist, sparams=getattr(st, dist).fit(x)[:-2], plot=ax[1], fit=True)\n",
    "ax[1].grid()\n",
    "ax[1].set_title('Usando paquete scipy')\n",
    "\n",
    "plt.legend()\n",
    "plt.show()"
   ]
  },
  {
   "cell_type": "code",
   "execution_count": null,
   "metadata": {},
   "outputs": [],
   "source": [
    "from sklearn.model_selection import GridSearchCV\n",
    "#Kernel\n",
    "x_grid = np.linspace(-4.5, 3.5)\n",
    "grid = GridSearchCV(KernelDensity(),\n",
    "                    {'bandwidth': np.linspace(0.1, 1.0, 30)},\n",
    "                    cv=20) \n",
    "grid.fit(car_position_data[:, None])\n",
    "print(grid.best_params_)"
   ]
  },
  {
   "cell_type": "code",
   "execution_count": null,
   "metadata": {},
   "outputs": [],
   "source": [
    "sns.histplot(dt=car_position_data, kde=True,kde_kws={'bw_method': 0.1}, color='r', bins=20)  # Utiliza sns.histplot en versiones anteriores de Seaborn\n",
    "plt.show()"
   ]
  },
  {
   "cell_type": "markdown",
   "metadata": {},
   "source": [
    "## Mónaco"
   ]
  },
  {
   "cell_type": "code",
   "execution_count": null,
   "metadata": {},
   "outputs": [],
   "source": [
    "# Lista de distribuciones de probabilidad\n",
    "dist_list = ['bradford', 'beta', 'expon', 'exponnorm', 'norm', 'uniform', 'foldnorm', 'gennorm', 'ksone', 'kappa4', 'johnsonsb']\n",
    "\n",
    "# Crear un diccionario para almacenar los resultados de ajuste de cada distribución\n",
    "resultados = {}\n",
    "\n",
    "# Iterar a través de las distribuciones y ajustar a los datos de LapTime para cada piloto\n",
    "for dist_name in dist_list:\n",
    "    # Crear un DataFrame para almacenar los parámetros de ajuste para cada piloto\n",
    "    params_df = pd.DataFrame(columns=['Piloto', 'Parametros'])\n",
    "    \n",
    "    for piloto in Monaco_GP['driverId'].unique():\n",
    "        datos_piloto = Monaco_GP[Monaco_GP['driverId'] == piloto]['LapTime']\n",
    "        params = getattr(stats, dist_name).fit(datos_piloto)\n",
    "        params_df = params_df.append({'Piloto': piloto, 'Parametros': params}, ignore_index=True)\n",
    "    \n",
    "    resultados[dist_name] = params_df\n",
    "\n",
    "# Obtener la media de cada distribución para cada piloto\n",
    "medias = {}\n",
    "for dist_name, params_df in resultados.items():\n",
    "    params_df['Media'] = params_df['Parametros'].apply(lambda x: np.mean(x))\n",
    "    piloto_ganador = params_df[params_df['Media'] == params_df['Media'].min()]['Piloto'].values[0]\n",
    "    medias[dist_name] = (piloto_ganador, params_df['Media'].min())\n",
    "\n",
    "# Determinar la distribución con la media más baja (es decir, el piloto más probable a ganar)\n",
    "mejor_dist = min(medias, key=lambda x: medias[x][1])\n",
    "\n",
    "print(f\"La distribución {mejor_dist} tiene al piloto {medias[mejor_dist][0]} como el más probable a ganar.\")"
   ]
  },
  {
   "cell_type": "markdown",
   "metadata": {},
   "source": [
    "Histograma de frecuencia"
   ]
  },
  {
   "cell_type": "code",
   "execution_count": null,
   "metadata": {},
   "outputs": [],
   "source": [
    "# Obtener los datos de carPosition\n",
    "car_position_data2 = Monaco_GP['carPosition']\n",
    "\n",
    "# Crear un histograma de frecuencia\n",
    "plt.figure(figsize=(10, 6))\n",
    "plt.hist(car_position_data, bins=10, edgecolor='black', alpha=0.7)\n",
    "plt.xlabel('Posición del Coche')\n",
    "plt.ylabel('Frecuencia')\n",
    "plt.title('Histograma de Frecuencia de Posición del Coche')\n",
    "plt.grid(True)\n",
    "plt.show()"
   ]
  },
  {
   "cell_type": "code",
   "execution_count": null,
   "metadata": {},
   "outputs": [],
   "source": [
    "#Buscando distribuciones \n",
    "continuous_dist = [dist_i for dist_i in dir(st) if isinstance(getattr(st, dist_i), getattr(st, 'rv_continuous'))] \n",
    "\n",
    "fig, ax = plt.subplots(1,1, figsize = (10,7))\n",
    "\n",
    "y, x, _ = ax.hist(car_position_data2, bins = 15, density = True)\n",
    "x = x[1:]\n",
    "i = 0\n",
    "\n",
    "error_df = pd.DataFrame(columns = ['distribución', 'error'])\n",
    "for d in continuous_dist[4:10]:\n",
    "    param = getattr(st,d).fit(car_position_data2)\n",
    "    y_hat = getattr(st, d).pdf(x, *param)\n",
    "    error = np.mean((y - y_hat)**2)\n",
    "    error_df.loc[i, 'distribución'] = d\n",
    "    error_df.loc[i, 'error'] = error\n",
    "    i+=1\n",
    "    ax.plot(x, y_hat,label = f'{d}')\n",
    "plt.legend()\n",
    "plt.show()\n",
    "\n",
    "error_df"
   ]
  },
  {
   "cell_type": "code",
   "execution_count": null,
   "metadata": {},
   "outputs": [],
   "source": [
    "#Parámetros de distibución beta en nuestros datos\n",
    "params_Monaco = st.beta.fit(car_position_data2)\n",
    "params_Monaco"
   ]
  },
  {
   "cell_type": "code",
   "execution_count": null,
   "metadata": {},
   "outputs": [],
   "source": [
    "# Prueba de hipótesis\n",
    "st.kstest(Monaco_GP['carPosition'], lambda Monaco_GP['carPosition']: st.beta.cdf(hd,*params_Monaco))"
   ]
  },
  {
   "cell_type": "code",
   "execution_count": null,
   "metadata": {},
   "outputs": [],
   "source": [
    "params1 = getattr(st, dist).fit(Monaco_GP['carPosition'])\n",
    "\n",
    "random_hat1 = getattr(st, dist).rvs(*params1, size = 100)\n",
    "\n",
    "plt.hist(Monaco_GP['carPosition'], bins =15, label = 'data real', density = True)\n",
    "plt.hist(random_hat1, bins = 20, density = True, alpha = .5, label = 'data estimado')\n",
    "plt.legend()\n",
    "plt.show()"
   ]
  },
  {
   "cell_type": "code",
   "execution_count": null,
   "metadata": {},
   "outputs": [],
   "source": [
    "divisiones = 15\n",
    "fig, ax = plt.subplots(2,1, figsize=(8,10))\n",
    "fig.tight_layout(pad=3.0)\n",
    "\n",
    "y, x, _ = ax[0].hist(Monaco_GP['carPosition'], divisiones, density=True, label='Histograma mediciones')\n",
    "\n",
    "dist = 'beta'\n",
    "params = getattr(st, dist).fit(Monaco_GP['carPosition'])\n",
    "y_hat = getattr(st, dist).pdf(x, *params)\n",
    "ax[0].plot(x, y_hat,'r--', label='Distribución ajustada')\n",
    "ax[0].set_ylabel('Probability')\n",
    "ax[0].grid()\n",
    "ax[0].legend()\n",
    "\n",
    "grap2 = st.probplot(Monaco_GP['carPosition'], dist=dist, sparams=getattr(st, dist).fit(x)[:-2], plot=ax[1], fit=True)\n",
    "ax[1].grid()\n",
    "ax[1].set_title('Usando paquete scipy')\n",
    "\n",
    "plt.legend()\n",
    "plt.show()"
   ]
  },
  {
   "cell_type": "code",
   "execution_count": null,
   "metadata": {},
   "outputs": [],
   "source": [
    "x_grid = np.linspace(-4.5, 3.5)\n",
    "grid = GridSearchCV(KernelDensity(),\n",
    "                    {'bandwidth': np.linspace(0.1, 1.0, 30)},\n",
    "                    cv=20) \n",
    "grid.fit(Monaco_GP['carPosition'][:, None])\n",
    "print(grid.best_params_)"
   ]
  },
  {
   "cell_type": "code",
   "execution_count": null,
   "metadata": {},
   "outputs": [],
   "source": [
    "sns.histplot(data=hd, stat='density', kde=True, kde_kws={'bw_method': 0.16206896551724137}, color='r', bins=15)"
   ]
  },
  {
   "cell_type": "markdown",
   "metadata": {},
   "source": [
    "# Más probables de abandonar"
   ]
  },
  {
   "cell_type": "markdown",
   "metadata": {},
   "source": [
    "## Monza"
   ]
  },
  {
   "cell_type": "code",
   "execution_count": 42,
   "metadata": {},
   "outputs": [
    {
     "data": {
      "image/png": "[encoded data removed]",
      "text/plain": [
       "<Figure size 720x432 with 1 Axes>"
      ]
     },
     "metadata": {
      "needs_background": "light"
     },
     "output_type": "display_data"
    }
   ],
   "source": [
    "# Clasificar a los pilotos como abandonados (1) o no abandonados (0) en función de su posición final.\n",
    "Monza_GP['Abandono'] = (Monza_GP['carPosition'] > 10).astype(int)\n",
    "\n",
    "# Crear un histograma de abandonos\n",
    "plt.figure(figsize=(10, 6))\n",
    "plt.hist(Monza_GP['Abandono'], bins=[0, 0.5, 1.5], edgecolor='black', alpha=0.7)\n",
    "plt.xticks([0, 1], ['No Abandono', 'Abandono'])\n",
    "plt.xlabel('Abandono')\n",
    "plt.ylabel('Frecuencia')\n",
    "plt.title('Histograma de Abandono en el GP de Monza')\n",
    "plt.grid(True)\n",
    "plt.show()"
   ]
  },
  {
   "cell_type": "code",
   "execution_count": 43,
   "metadata": {},
   "outputs": [
    {
     "name": "stdout",
     "output_type": "stream",
     "text": [
      "   Distribución  KS Statistic        P-Value\n",
      "0      bradford      0.551020  2.759577e-140\n",
      "1          beta      0.496049  6.821404e-112\n",
      "2         expon      0.551020  2.759560e-140\n",
      "3     exponnorm      0.367665   6.597719e-60\n",
      "4          norm      0.367670   6.573607e-60\n",
      "5       uniform      0.551020  2.759560e-140\n",
      "6      foldnorm      0.551020  2.759570e-140\n",
      "7       gennorm      0.551019  2.762973e-140\n",
      "8         ksone      0.448979   1.216527e-90\n",
      "9        kappa4      0.551020  2.759560e-140\n",
      "10    johnsonsb      0.551020  2.759560e-140\n"
     ]
    }
   ],
   "source": [
    "# Lista para almacenar los resultados de ajuste\n",
    "results = []\n",
    "\n",
    "# Iterar a través de las distribuciones\n",
    "for distribution_name in dist_list:\n",
    "    # Ajustar la distribución a los datos de abandonos\n",
    "    params = getattr(stats, distribution_name).fit(Monza_GP['Abandono'])\n",
    "    # Obtener la distribución ajustada a los datos\n",
    "    fitted_distribution = getattr(stats, distribution_name)(*params)\n",
    "    # Calcular el ajuste de la distribución utilizando una métrica apropiada (puedes usar KS o AIC si es relevante para tus datos)\n",
    "    \n",
    "    # En este ejemplo, utilizaremos la métrica KS (Kolmogorov-Smirnov)\n",
    "    ks_stat, p_value = stats.kstest(Monza_GP['Abandono'], distribution_name, params)\n",
    "    \n",
    "    results.append([distribution_name, ks_stat, p_value])\n",
    "\n",
    "# Crear un DataFrame con los resultados de ajuste\n",
    "result_df = pd.DataFrame(results, columns=['Distribución', 'KS Statistic', 'P-Value'])\n",
    "\n",
    "# Imprimir los resultados\n",
    "print(result_df)\n"
   ]
  },
  {
   "cell_type": "code",
   "execution_count": null,
   "metadata": {},
   "outputs": [],
   "source": []
  },
  {
   "cell_type": "code",
   "execution_count": null,
   "metadata": {},
   "outputs": [],
   "source": []
  },
  {
   "cell_type": "code",
   "execution_count": null,
   "metadata": {},
   "outputs": [],
   "source": []
  },
  {
   "cell_type": "markdown",
   "metadata": {},
   "source": [
    "### 1.6 Conclusiones.\n",
    "> Mucho cuidado, las conclusiones no son cualquier cosa. Se debe concluir respecto a los objetivos planteados de acuerdo a los resultados obtenidos.\n",
    "\n",
    "### 1.7 Referencias.\n",
    "> Citar (en formato APA) la bibliografía utilizada.\n",
    "    - F, S. (2023). STATS F1. https://www.statsf1.com/es/default.aspx"
   ]
  },
  {
   "cell_type": "markdown",
   "metadata": {},
   "source": [
    "___\n",
    "## 2. Especificaciones adicionales.\n",
    "En el grupo deben haber mínimo dos integrantes y máximo tres integrantes. Para propósitos logísticos nada más, por favor enumérense como *integrante 1*, *integrante 2* e *integrante 3*.\n",
    "\n",
    "### 2.1 Notebook de jupyter. \n",
    "> Los anteriores numerales los deben desarrollar todos en un notebook de jupyter y llamarlo de la siguiente manera `ProyectoModulo1_ApellidoN1_ApellidoN2_ApellidoN3`, donde `ApellidoNi` hace referencia al apellido materno y la inicial del primer nombre del integrante `i`.\n",
    "\n",
    "### 2.2 Proyecto en `GitHub`.\n",
    "> El integrante 1 deberá crear un proyecto en `GitHub` llamado **proyecto_modulo1**, donde tendrán todos los archivos relacionados con el proyecto. Los demás integrantes deben hacer un *fork* del proyecto, seguir el proyecto principal con `GitKraken` y hacer al menos dos contribuciones con *pull request* (como se hizo en la tarea). En el proyecto, deben incluir el repositorio remoto del integrante 1.\n",
    "\n",
    "### 2.3 Presentación.\n",
    "> Recuerden que la nota del proyecto es mitad el trabajo, y mitad la presentación. Deben hacer una presentación utlizando un notebook de python para presentar el trabajo durante un horario de clase que se será posteriomente definido. La presentación, además de llevar todos los componentes básicos descritos en el entregable, debe llevar una tabla de contenido.\n",
    "> - Presentación: 10 minutos.\n",
    "> - Seguir estas recomendaciones: https://es.slideshare.net/MeireComputacion/power-point-pautas-para-una-buen-trabajo"
   ]
  },
  {
   "cell_type": "markdown",
   "metadata": {},
   "source": [
    "<script>\n",
    "  $(document).ready(function(){\n",
    "    $('div.prompt').hide();\n",
    "    $('div.back-to-top').hide();\n",
    "    $('nav#menubar').hide();\n",
    "    $('.breadcrumb').hide();\n",
    "    $('.hidden-print').hide();\n",
    "  });\n",
    "</script>\n",
    "\n",
    "<footer id=\"attribution\" style=\"float:right; color:#808080; background:#fff;\">\n",
    "Created with Jupyter by Esteban Jiménez Rodríguez.\n",
    "</footer>"
   ]
  }
 ],
 "metadata": {
  "kernelspec": {
   "display_name": "Python 3",
   "language": "python",
   "name": "python3"
  },
  "language_info": {
   "codemirror_mode": {
    "name": "ipython",
    "version": 3
   },
   "file_extension": ".py",
   "mimetype": "text/x-python",
   "name": "python",
   "nbconvert_exporter": "python",
   "pygments_lexer": "ipython3",
   "version": "3.7.7"
  }
 },
 "nbformat": 4,
 "nbformat_minor": 2
}
