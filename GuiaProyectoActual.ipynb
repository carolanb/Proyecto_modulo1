{
 "cells": [
  {
   "cell_type": "markdown",
   "metadata": {},
   "source": [
    "___\n",
    "<img style=\"float: left; margin: 30px 15px 15px 15px;\" src=\"https://d33wubrfki0l68.cloudfront.net/4ec62c1c925a380c912ddad740d18554c6822a11/fabe4/img/sponsors/iteso-university.png\" width=\"300\" height=\"500\" /> \n",
    "    \n",
    "    \n",
    "### <font color='navy'> Simulación de procesos financieros. \n",
    "\n",
    "**Nombres:** Carola Navarro Badía y Ana Luisa Espinoza López.\n",
    "\n",
    "**Fecha:** 07 de octubre del 2023.\n",
    "\n",
    "**Expediente** : if722049 e if734753.\n",
    "**Profesor:** Oscar David Jaramillo Zuluaga.\n",
    "    \n",
    "**Link Github**: Link con el enlace del repositorio del creador del proyecto\n",
    "\n",
    "# Proyecto TEMA-2"
   ]
  },
  {
   "cell_type": "markdown",
   "metadata": {},
   "source": [
    "<img style=\"float: right; margin: 0px 0px 15px 15px;\" src=\"https://upload.wikimedia.org/wikipedia/commons/b/b6/Proyecto_en_construccion.jpg\" width=\"300px\" height=\"100px\" />\n",
    "\n",
    "\n",
    "# Probabilidades para apuestas de F1 \n",
    "> En este proyecto se realizarán simulaciones de variables de Fórmula 1 utilizadas en casas de apuesta. Las variables de interés son: ganador del gran premio, piloto con vuelta rápida y piloto más probable a abandonar. Para la simulación se utilizarán datos de la temporada 2020 con el fin de simular posibles resultados para la temporada del 2021. Se simularán las variables para los Grand Prix de Monza, Mónaco, Silverstone y Spa."
   ]
  },
  {
   "cell_type": "markdown",
   "metadata": {},
   "source": [
    "# Tabla de Contenido\n",
    "### <font color='navy'> Objetivos\n",
    "### <font color='navy'> Definición del problema\n",
    "### <font color='navy'> Nodos y variables que se decidieron simular y porqué\n",
    "### <font color='navy'> Definición de hipótesis y supuestos\n",
    "### <font color='navy'> Obtención de bases de datos\n",
    "### <font color='navy'> Importación de datos y librerías\n",
    "### <font color='navy'> Piloto más probable a hacer la vuelta rápida\n",
    "> - Funciones utilizadas\n",
    "> - Prueba de Hipótesis\n",
    "> - Determinación de posibles distribuciones de probabilidad\n",
    "> - Simulación de Mónaco\n",
    "> - Simulación de Monza\n",
    "    \n",
    "### <font color='navy'> Piloto más probable a ganar la carrera\n",
    "### <font color='navy'> Piloto más probable a abandonar la carrera\n",
    "    \n",
    "### <font color='navy'> Visualización de la simulación\n",
    "> - Visualización de resultados de vuelta rápida\n",
    "> - Visualización de resultados de posible ganador\n",
    "> - Visualización de resultados de posible abandono\n",
    "    \n",
    "### <font color='navy'> Conclusiones\n",
    "### <font color='navy'> Referencias"
   ]
  },
  {
   "attachments": {
    "nodos%20proyecto.png": {
     "image/png": "[encoded data removed]"
    }
   },
   "cell_type": "markdown",
   "metadata": {},
   "source": [
    "___\n",
    "## 1. Entregable.\n",
    "Los trabajos deben tener los siguientes componentes básicos.\n",
    "\n",
    "### 1.1 Probabilidades para apuestas F1\n",
    "> Carreras de Fórmula 1 de la temporada 2020.\n",
    "\n",
    "### 1.2 Objetivos.\n",
    "\n",
    "> #### 1.1 Generar información de probabilidad para apuestas en temporada 2021 de F1.\n",
    "\n",
    "> #### 1.2 Objetivos específicos\n",
    ">  - Determinar el piloto más probable a ganar los Grand Prix de Mónaco, Monza, Silverstone y Spa.\n",
    ">  - Determinar el piloto más probable a realizar la vuelta rápida de los Grand Prix de de Mónaco, Monza, Silverstone y Spa.\n",
    ">  - Determinar el piloto más probable a abandonar la carrera en los Grand Prix de Mónaco, Monza, Silverstone y Spa.\n",
    "\n",
    "Referencia:\n",
    "- https://es.slideshare.net/rosbur/metodologia-objetivos-generales-y-especficos\n",
    "\n",
    "### 1.3 Definición del problema.\n",
    "> Se seleccionó una base de datos de las carreras de Fórmula 1 de la temporada 2020. Dicho dataset contiene los datos de telemetría, condiciones de pista, tiempos de sectores de pista por cada carrera y los datos de pilotos. En estos archivos se encuentran datos de tiempo de vuelta por piloto por cada gran premio, en total de la vuelta y en cada sector. En el data set se presentan otros datos de telemetría, condiciones de temperatura de la pista y desgaste de llantas los cuales no serán utilizados para este proyecto \n",
    "\n",
    "> Con este dataset buscamos modelar las distribuciones de probabilidad de ganar el gran premio, hacer la vuelta rápida o abandonar el gran premio. Se tomarán en cuenta los datos de tiempo por vuelta de cada piloto para 4 gran premios, los cuales serán los nodos. Se esocogieron como nodos puesto que en las casas de apuesta, las apuestas se realizan por gran premio, se seleccionaron los GP de Monza, Monaco, Silverstone y Spa ya que son de los más populares.\n",
    "\n",
    "> A continuación se presenta un diagrama con los flujos y nodos a simular \n",
    "\n",
    "![nodos%20proyecto.png](attachment:nodos%20proyecto.png)\n",
    "\n",
    "### 1.4 Nodos y variables que se decidieron simular y porqué\n",
    "> Se seleccionaron como nodos 4 Grandes Premios de la temporada 2020. Se seleccionaron como nodos los Grandes Premios porque en cada carrera se realizan apuestas sobre qué piloto será el ganador, quién hará la vuelta rápida, quién es más probable a abandonar, entre otras. Utilizando los GP como nodos permite utilizar los datos de todos los pilotos por lo que se pierde menos información. En esta línea, cada Gran Premio tiene condiciones distintas, por lo que la tendencia del tiempo por vuelta cambia de acuerdo a la pista, clasificando los datos por GP evita el sesgo de datos.\n",
    "\n",
    "> Nodo 1: Gran Premio de Monza\n",
    "- Su longitud es de 5,798 Km, por medidas de Covid-19 se recortó el total de vueltas a 27 en la temporada 2020. Consta de 11 curvas y se conoce como el \"Templo de la Velocidad\" por sus grandes rectas, se considera un circuito muy rápido con facilidad para el rebase. En esta temporada las condiciones de temperatura fueron templadas; la temperatura del aire fue de 26°C y la pista de 33°C.\n",
    "\n",
    "\n",
    "> Nodo 2: Gran Premio de Monaco\n",
    "- Su longitud es de 3,323 Km, el total de vueltas en la temporada del 2020 fue de 39. Este es un circuito callejero con 19 curvas. En este circuito se dificulta el rebase debido a que las rectas son cortas y hay muchas curvas, por lo que los resultados dependen de la habilidad del piloto frente la potencia del motor. Las condiciones de temperatura fueron de 22°C la temperatura del aire y de 30°C la temperatura de la pista. \n",
    "\n",
    "> Nodo 3: Gran Premio de Silverstone\n",
    "- Tiene una longitud de 5,896 Km, se realizaron 26 vueltas en este Gran Premio, recortadas por medidas contra el Covid-19. Es un circuito con mucho prestigio en Europa, consta de 18 curvas. Este circuito también tiene grandes rectas, que en la Segunda Guerra Mundial eran utilizadas como pistas de despegue. En esta pista las condiciones de temperatura fueron iguales que en Monaco con la temperatura del aire de 22°C y 30°C la temperatura de pista.\n",
    "\n",
    "> Nodo 4: Gran Premio de Spa\n",
    "- La longitud de esta pista es de 7,003 Km y con un total de 22 vueltas, el total de vueltas también se redujo por medidas contra el Covid-19. Este circuito tiene 20 curvas, es de los más largos y antiguos. Este circuito es característico por sus condiciones metereológicas impredecibles. En este circuito en 2019 ocurrió una trágica muerte del piloto de Fórmula 2, Antoine Hubert. En la temporada 2020 la temperatura del aire promedio fue de 21°C y la temperatura de pista de 30°C.\n",
    "\n",
    "> Ahora, para las variables, en cada gran premio se simularán 3 variables: \n",
    "    - El ganador\n",
    "    - Quién realiza la vuelta rápida \n",
    "    - Quién es más probable a abandonar la carrera. \n",
    "\n",
    "> Para determinar el ganador se utilizarán los datos de posición de cada piloto durante la carrera. Para la simulación de vuelta rápida, se utilizarán los tiempos por vuelta que realiza cada piloto y finalmente para los abandonos se determinará la probabilidad en base al número de vueltas que realizan (si es menor que el total de vueltas para el circuito).\n",
    "\n",
    "  \n",
    "\n",
    "### 1.5 Definición de hipótesis y supuestos.\n",
    ">  Para poder modelar un proceso de negocio o cualquiera otro proceso en el área de las ingenierías o ciencias sociales, después de identificar el objeto de estudio, es importante indicar cuales son los supuestos que se dan por verdaderos a lo largo de la ejecución del proceso. Estos supuestos se deben indicar en forma de variables e hipótesis (son diferentes), porque si puedes definir en un valor el supuesto lo llamaremos \"supuesto constante\" y si no es posible identificarlo con un número entonces será una hipótesis que afectará la construcción de los escenarios posibles del proceso.\n",
    "\n",
    "   > Al ser una temporada pasada, la simulación con estos datos históricos (Temporada 2020) serán útiles para la temporada del 2021 de la Fórmula 1. Para validar que las simulaciones permitan la realización de conclusiones congruentes para la temporada 2021, se compararán con los resultados de la temporada 2021 (SoyMotor, 2021). Nuestras hipótesis son las siguientes:\n",
    "   \n",
    "   - Ganadores más problables del GP Monza: \n",
    "       1. Max Verstappen\n",
    "       2. Lewis Hamilton\n",
    "       3. Lando Norris    \n",
    "       \n",
    "       \n",
    "   - Ganadores más problables del GP Monaco: \n",
    "       1. Max Verstappen\n",
    "       2. Carlos Sainz\n",
    "       3. Lando Norris    \n",
    "       \n",
    "       \n",
    "   - Ganadores más problables del GP Silverstone: \n",
    "       1. Lewis Hamilton\n",
    "       2. Charles Leclerc\n",
    "       3. Valtteri Bottas\n",
    "       \n",
    "       \n",
    "   - Ganadores más problables del GP Spa: \n",
    "       1. Max Verstappen\n",
    "       2. George Russell\n",
    "       3. Lewis Hamilton \n",
    "       \n",
    "       \n",
    "   - Pilotos más probables a realizar la vuelta rápida:\n",
    "        1. Monza: Daniel Ricciardo\n",
    "        2. Monaco: Lewis Hamilton\n",
    "        3. Silverstone: Sergio Perez\n",
    "        4. Spa: Max Verstappen\n",
    "        \n",
    "        \n",
    "   - Pilotos más probables a abandonar la carrera:\n",
    "        1. George Russell\n",
    "        2. Valtteri Bottas\n",
    "        3. Nicholas Latifi"
   ]
  },
  {
   "cell_type": "markdown",
   "metadata": {},
   "source": [
    "### 1.6 Obtención de bases de datos\n",
    "> El tercer paso del proyecto es indicar de dónde se obtendrán las bases de datos, que indican como se han comportado las variables que identificaste en tu proceso de negocio que vas a simular. En esta investigación debes haber encontrado información propia de la empresa, organización o institución que vas a simular y otra parte de la información debe provenir de investigación que realices en fuentes de información públicas o privadas como las que tiene SECOBI, ahí normalmente y dependiendo del problema elegido, se investigan variables económicas, como tasas de interés, inflación, tipo de cambio, etc., de varios años, por poner un ejemplo.\n",
    "\n"
   ]
  },
  {
   "cell_type": "markdown",
   "metadata": {},
   "source": [
    ">La base de datos que se utilizará para este proyecto fue obtenida de \"https://www.kaggle.com/datasets/coni57/f1-2020-race-data\" en la cual se pueden ver los tiempos de cada piloto en distintas pistas, las llantas utilizadas y las condiciones de cada pista. Esta base de datos se divide en cuatro categorías: \n",
    "\n",
    "1. Datos de la sesión \n",
    "    - Incluye: nombre del GP, clima, temperatura del aire y de la pista y total de vueltas por pista\n",
    "    \n",
    "    \n",
    "2. Datos de participantes\n",
    "    - Incluye: lista del nombre de pilotos, un index de piloto, escudería, maxRPM y idleRPM\n",
    "\n",
    "\n",
    "3. Datos de tiempos de la carrera\n",
    "    - Incluye: índice de pilotos, tiempo total de vuelta, posición, vuelta actual y tiempos por sector\n",
    "\n",
    "\n",
    "4. Datos de telemetría\n",
    "    - Incluye: combustible, desgaste de llanta, entre otros.\n",
    "\n",
    "Para los objetivos de este proyecto, se utilizaron datos de las primeras tres categorías. En total la base de datos se componía de 88 archivos de excel por lo que se requirió procesar los datos utilizando la librería de pandas para poder utilizar los datos.\n"
   ]
  },
  {
   "cell_type": "markdown",
   "metadata": {},
   "source": [
    "## Importación de datos y librerías"
   ]
  },
  {
   "cell_type": "code",
   "execution_count": 1,
   "metadata": {},
   "outputs": [],
   "source": [
    "import pandas as pd\n",
    "import numpy as np\n",
    "import matplotlib.pyplot as plt\n",
    "import seaborn as sns\n",
    "import scipy.stats as st \n",
    "from collections import Counter\n",
    "import warnings\n",
    "warnings.filterwarnings(\"ignore\")"
   ]
  },
  {
   "cell_type": "code",
   "execution_count": 2,
   "metadata": {
    "scrolled": true
   },
   "outputs": [
    {
     "data": {
      "text/html": [
       "<div>\n",
       "<style scoped>\n",
       "    .dataframe tbody tr th:only-of-type {\n",
       "        vertical-align: middle;\n",
       "    }\n",
       "\n",
       "    .dataframe tbody tr th {\n",
       "        vertical-align: top;\n",
       "    }\n",
       "\n",
       "    .dataframe thead th {\n",
       "        text-align: right;\n",
       "    }\n",
       "</style>\n",
       "<table border=\"1\" class=\"dataframe\">\n",
       "  <thead>\n",
       "    <tr style=\"text-align: right;\">\n",
       "      <th></th>\n",
       "      <th>pilot_index</th>\n",
       "      <th>LapTime</th>\n",
       "      <th>carPosition</th>\n",
       "      <th>currentLapNum</th>\n",
       "      <th>GP</th>\n",
       "      <th>driverId</th>\n",
       "    </tr>\n",
       "  </thead>\n",
       "  <tbody>\n",
       "    <tr>\n",
       "      <th>0</th>\n",
       "      <td>0</td>\n",
       "      <td>92.11968</td>\n",
       "      <td>16</td>\n",
       "      <td>1</td>\n",
       "      <td>Mexico</td>\n",
       "      <td>Pierre Gasly</td>\n",
       "    </tr>\n",
       "    <tr>\n",
       "      <th>1</th>\n",
       "      <td>0</td>\n",
       "      <td>82.83808</td>\n",
       "      <td>17</td>\n",
       "      <td>2</td>\n",
       "      <td>Mexico</td>\n",
       "      <td>Pierre Gasly</td>\n",
       "    </tr>\n",
       "    <tr>\n",
       "      <th>2</th>\n",
       "      <td>0</td>\n",
       "      <td>83.18610</td>\n",
       "      <td>16</td>\n",
       "      <td>3</td>\n",
       "      <td>Mexico</td>\n",
       "      <td>Pierre Gasly</td>\n",
       "    </tr>\n",
       "    <tr>\n",
       "      <th>3</th>\n",
       "      <td>0</td>\n",
       "      <td>83.25229</td>\n",
       "      <td>15</td>\n",
       "      <td>4</td>\n",
       "      <td>Mexico</td>\n",
       "      <td>Pierre Gasly</td>\n",
       "    </tr>\n",
       "    <tr>\n",
       "      <th>4</th>\n",
       "      <td>0</td>\n",
       "      <td>83.40625</td>\n",
       "      <td>14</td>\n",
       "      <td>5</td>\n",
       "      <td>Mexico</td>\n",
       "      <td>Pierre Gasly</td>\n",
       "    </tr>\n",
       "    <tr>\n",
       "      <th>...</th>\n",
       "      <td>...</td>\n",
       "      <td>...</td>\n",
       "      <td>...</td>\n",
       "      <td>...</td>\n",
       "      <td>...</td>\n",
       "      <td>...</td>\n",
       "    </tr>\n",
       "    <tr>\n",
       "      <th>12904</th>\n",
       "      <td>19</td>\n",
       "      <td>97.41235</td>\n",
       "      <td>1</td>\n",
       "      <td>25</td>\n",
       "      <td>Austin</td>\n",
       "      <td>Valtteri Bottas</td>\n",
       "    </tr>\n",
       "    <tr>\n",
       "      <th>12905</th>\n",
       "      <td>19</td>\n",
       "      <td>97.20898</td>\n",
       "      <td>1</td>\n",
       "      <td>26</td>\n",
       "      <td>Austin</td>\n",
       "      <td>Valtteri Bottas</td>\n",
       "    </tr>\n",
       "    <tr>\n",
       "      <th>12906</th>\n",
       "      <td>19</td>\n",
       "      <td>97.19995</td>\n",
       "      <td>1</td>\n",
       "      <td>27</td>\n",
       "      <td>Austin</td>\n",
       "      <td>Valtteri Bottas</td>\n",
       "    </tr>\n",
       "    <tr>\n",
       "      <th>12907</th>\n",
       "      <td>19</td>\n",
       "      <td>95.96313</td>\n",
       "      <td>1</td>\n",
       "      <td>28</td>\n",
       "      <td>Austin</td>\n",
       "      <td>Valtteri Bottas</td>\n",
       "    </tr>\n",
       "    <tr>\n",
       "      <th>12908</th>\n",
       "      <td>19</td>\n",
       "      <td>0.00889</td>\n",
       "      <td>1</td>\n",
       "      <td>29</td>\n",
       "      <td>Austin</td>\n",
       "      <td>Valtteri Bottas</td>\n",
       "    </tr>\n",
       "  </tbody>\n",
       "</table>\n",
       "<p>12909 rows × 6 columns</p>\n",
       "</div>"
      ],
      "text/plain": [
       "       pilot_index   LapTime  carPosition  currentLapNum      GP  \\\n",
       "0                0  92.11968           16              1  Mexico   \n",
       "1                0  82.83808           17              2  Mexico   \n",
       "2                0  83.18610           16              3  Mexico   \n",
       "3                0  83.25229           15              4  Mexico   \n",
       "4                0  83.40625           14              5  Mexico   \n",
       "...            ...       ...          ...            ...     ...   \n",
       "12904           19  97.41235            1             25  Austin   \n",
       "12905           19  97.20898            1             26  Austin   \n",
       "12906           19  97.19995            1             27  Austin   \n",
       "12907           19  95.96313            1             28  Austin   \n",
       "12908           19   0.00889            1             29  Austin   \n",
       "\n",
       "              driverId  \n",
       "0         Pierre Gasly  \n",
       "1         Pierre Gasly  \n",
       "2         Pierre Gasly  \n",
       "3         Pierre Gasly  \n",
       "4         Pierre Gasly  \n",
       "...                ...  \n",
       "12904  Valtteri Bottas  \n",
       "12905  Valtteri Bottas  \n",
       "12906  Valtteri Bottas  \n",
       "12907  Valtteri Bottas  \n",
       "12908  Valtteri Bottas  \n",
       "\n",
       "[12909 rows x 6 columns]"
      ]
     },
     "execution_count": 2,
     "metadata": {},
     "output_type": "execute_result"
    }
   ],
   "source": [
    "#datos procesados en crudo\n",
    "data_raw= pd.read_excel(\"data.xlsx\")\n",
    "dt = pd.DataFrame(data_raw)\n",
    "dt"
   ]
  },
  {
   "cell_type": "code",
   "execution_count": 3,
   "metadata": {},
   "outputs": [],
   "source": [
    "def datos_nodos(l:'lista de nombres de GP',dt:'dataFrame con todos los datos'):\n",
    "    a = dt[dt['GP'] == l[0]]\n",
    "    b = dt[dt['GP'] == l[1]]\n",
    "    c = dt[dt['GP'] == l[2]]\n",
    "    d = dt[dt['GP'] == l[3]]\n",
    "    return a,b,c,d"
   ]
  },
  {
   "cell_type": "code",
   "execution_count": 4,
   "metadata": {},
   "outputs": [],
   "source": [
    "# Datos tentativos para nodos\n",
    "l = ['Monza','Monaco','Silverstone','Spa']\n",
    "Monza_GP, Monaco_GP, Silverstone_GP, Spa_GP = datos_nodos(l,dt)"
   ]
  },
  {
   "cell_type": "code",
   "execution_count": 5,
   "metadata": {},
   "outputs": [],
   "source": [
    "dataframes = [Monza_GP, Monaco_GP, Silverstone_GP, Spa_GP]\n",
    "for df in dataframes:\n",
    "    df.drop('pilot_index', axis=1, inplace=True)"
   ]
  },
  {
   "cell_type": "markdown",
   "metadata": {},
   "source": [
    "## Piloto más probable a realizar la vuelta rápida\n",
    "### <font color='navy'> Nodos 1 & 2."
   ]
  },
  {
   "cell_type": "markdown",
   "metadata": {},
   "source": [
    "#### Funciones"
   ]
  },
  {
   "cell_type": "code",
   "execution_count": 6,
   "metadata": {},
   "outputs": [],
   "source": [
    "def hist(sim_data,columna,titulo,bins):    \n",
    "    plt.figure(figsize=(7, 5))\n",
    "    \n",
    "    plt.hist(sim_data[columna], bins=bins, density=True)    \n",
    "    plt.title(titulo)\n",
    "    plt.xlabel('Tiempo(s)')\n",
    "    plt.show();\n",
    "\n",
    "def boxplt(sim_data,title):\n",
    "    plt.figure(figsize=(10, 6))\n",
    "    sns.boxplot(x='Piloto', y='Tiempo Simulado', data=sim_data)\n",
    "    plt.title(title)\n",
    "    plt.xlabel('Piloto')\n",
    "    plt.ylabel('Tiempo Simulado')\n",
    "    plt.xticks(rotation=90)\n",
    "    plt.show()\n",
    "\n",
    "def remove_outliers(sim_data):\n",
    "    Q1 = sim_data['Tiempo Simulado'].quantile(0.25)\n",
    "    Q3 = sim_data['Tiempo Simulado'].quantile(0.75)\n",
    "    IQR = Q3 - Q1\n",
    "    lower_limit = Q1 - 1.5 * IQR\n",
    "    upper_limit = Q3 + 1.5 * IQR\n",
    "\n",
    "    s_data = sim_data[(sim_data['Tiempo Simulado'] >= lower_limit) & (sim_data['Tiempo Simulado'] <= upper_limit)]\n",
    "    \n",
    "    return s_data,lower_limit,upper_limit\n",
    "\n",
    "#gráfico de barras que por color permita observar piloto de vuelta rápida\n",
    "def g_barras(min_times:'serie de Pd con el tiempo mínimo de cada piloto'):\n",
    "    def set_colors(data):\n",
    "        bar_colors = ['blue'] * len(data)  # Colores por defecto para las barras\n",
    "        min_index = data.idxmin()\n",
    "        m = data.index.get_loc(min_index)  # Posición del valor mínimo\n",
    "        bar_colors[m] = 'red'  # Color rojo para la barra del valor mínimo\n",
    "        return bar_colors, m\n",
    "    def graf(data,axes,m):\n",
    "        data.plot(kind='bar', ax=axes[i], color=bar_colors)\n",
    "        axes[i].set_xlabel('Piloto')\n",
    "        axes[i].get_xticklabels()[m].set_color('red') #cambia color del nombre del piloto con vuelta rápida\n",
    "\n",
    "    s_data = sim_data[(sim_data[columna] >= lower_limit) & (sim_data[columna] <= upper_limit)]\n",
    "    \n",
    "    return s_data,lower_limit,upper_limit\n",
    "\n",
    "\n",
    "def gaussian_KDE(dataframe,columna,label,x1,x2):\n",
    "    kde = st.gaussian_kde(dataframe[columna])\n",
    "    # Generar puntos para el gráfico del KDE\n",
    "    x = range(x1, x2)\n",
    "    y = kde(x)\n",
    "    plt.plot(x, y, label=label)\n",
    "    plt.title('Kernel Density Estimation')\n",
    "    plt.legend()\n",
    "    plt.fill_between(x, y, alpha=0.5)\n",
    "\n",
    "def define_pdist(df,columna):\n",
    "    data = df[columna].values\n",
    "    rv_continuas = [d_i for d_i in dir(st) if isinstance(getattr(st, d_i), getattr(st, 'rv_continuous'))]\n",
    "    error = pd.DataFrame(columns=['distribucion', 'error'])\n",
    "    i = 0\n",
    "    for d_i in rv_continuas[30:55] + ['loglaplace'] + ['norm'] + ['t']+ ['exponnorm']+ ['foldnorm'] + ['beta']:\n",
    "        try:\n",
    "            params = getattr(st, d_i).fit(data)\n",
    "            data_hat = getattr(st, d_i).pdf(x, *params)\n",
    "            ax.plot(x, data_hat, label=d_i)\n",
    "            error.loc[i, :] = [d_i, np.mean((y - data_hat)**2)]\n",
    "            i += 1\n",
    "        except ValueError:\n",
    "            pass\n",
    "    error.set_index('distribucion', inplace=True)\n",
    "    error.sort_values('error', inplace=True)\n",
    "    return error\n",
    "\n",
    "def set_colors(data:'lista de datos',m:'index del valor a resaltar'): \n",
    "    bar_colors = ['blue'] * len(data)  \n",
    "    bar_colors[m] = 'red'\n",
    "    return bar_colors\n",
    "\n",
    "#grafico de barras con los pilotos más probables de hacer la vuelta rápida\n",
    "def visual_resultados_vr(resultados:'lista resultados simulación',title):\n",
    "    frecuencia = {nombre: sum(1 for x in resultados if x == nombre) for nombre in resultados} \n",
    "    piloto_vr =  max(frecuencia, key=frecuencia.get)\n",
    "    drivers = list(frecuencia.keys())\n",
    "    repeticiones = list(frecuencia.values())\n",
    "    m = drivers.index(piloto_vr) \n",
    "    bar_colors = set_colors(drivers,m)\n",
    "    plt.bar(drivers, repeticiones, color=bar_colors)\n",
    "    plt.xlabel('Pilotos')\n",
    "    plt.ylabel('Frecuencia')\n",
    "    plt.title(title)\n",
    "    plt.xticks(rotation=90)  # Rotar los nombres en el eje x para una mejor visualización\n",
    "\n",
    "    plt.gca().get_xticklabels()[m].set_color('red') \n",
    "    #gca devuelve los ejes del gráfico y permite que con el indice m obtenga su etiqueta correspondiente\n",
    "    plt.show()\n",
    "\n",
    "def rectangular_KDE(dataframe,columna,label):\n",
    "    datos, ll, ul = remove_outliers2(dataframe,columna)\n",
    "    b = datos[columna].values\n",
    "    kde = st.gaussian_kde(b, bw_method='silverman')  # bw_method es el ancho de banda\n",
    "\n",
    "    # Generar puntos de la gráfica para el KDE\n",
    "    x = np.linspace(np.min(b), np.max(b), 1000)\n",
    "    y = kde.evaluate(x)\n",
    "\n",
    "    # Gráfico del KDE con kernel rectangular\n",
    "    plt.plot(x, y, label=label, color='blue')\n",
    "    plt.fill_between(x, 0, y, alpha=0.5, color='blue')  # Relleno bajo la curva\n",
    "\n",
    "    # Mostrar el gráfico\n",
    "    plt.title('KDE con Kernel Rectangular')\n",
    "    plt.xlabel('Tiempo (s)')\n",
    "    plt.legend()\n",
    "    plt.show()"
   ]
  },
  {
   "cell_type": "markdown",
   "metadata": {},
   "source": [
    "### Prueba de hipótesis\n",
    "Cada circuito tiene una longitud, condiciones ambientales y curvas distintas; incluso existen los circuitos callejeros lo que cambia completamente la dinámica y la dificultad del manejo. Cada piloto y escudería influyen en la velocidad que se puede alcanzar pero los resultados de las carreras también están ampliamente influenciadas por el circuito. Para comprobar que son distintos los rendimientos de los pilotos en cada gran premio se realizará una prueba de hipótesis donde en caso que las medias de las distribuciones sean distintas, significa que el circuito afecta el desempeño de los pilotos."
   ]
  },
  {
   "cell_type": "markdown",
   "metadata": {},
   "source": [
    "**Hipótesis**\n",
    "- Hipótesis nula Ho: $\\mu_{monaco} = \\mu_{monza}$\n",
    "- contra la hipótesis alternativa Ha: $\\mu_{monaco}\\neq \\mu_{monza}$\n",
    "\n",
    "Si se acepta la Ho, significa que el desempeño de los pilotos es independiente al circuito del Gran Premio, por lo que se esperaría ver comportamientos similares en los nodos simulados. Si se rechaza, significaría que si hay influencia del circuito en las velocidades alcanzadas en la carrera y que en cada gran premio hay variación en el rendimiento de cada piloto."
   ]
  },
  {
   "cell_type": "code",
   "execution_count": 7,
   "metadata": {},
   "outputs": [],
   "source": [
    "#Datos crudos de tiempo de cada nodo\n",
    "a = Monaco_GP['LapTime'].values\n",
    "b = Monza_GP['LapTime'].values"
   ]
  },
  {
   "cell_type": "code",
   "execution_count": 8,
   "metadata": {},
   "outputs": [],
   "source": [
    "t_stat, p_value = st.stats.ttest_ind(a, b)\n",
    "alpha = 0.05 #intervalo de confianza de 95%\n",
    "acepto_rechazo = lambda x: print(f'Se acepta la Ho, p_value = {p_value}') if x>alpha else print(f'Se rechaza la Ho, p_value = {p_value}')"
   ]
  },
  {
   "cell_type": "code",
   "execution_count": 9,
   "metadata": {},
   "outputs": [
    {
     "name": "stdout",
     "output_type": "stream",
     "text": [
      "Se rechaza la Ho, p_value = 0.0019577311372587615\n",
      "El estadístico t es: -3.103167726650612\n"
     ]
    }
   ],
   "source": [
    "acepto_rechazo(p_value)\n",
    "print(f'El estadístico t es: {t_stat}')"
   ]
  },
  {
   "cell_type": "markdown",
   "metadata": {},
   "source": [
    "Dado que se rechazó la hipótesis nula, podemos concluir que sí hay una influencia del gran premio en el desempeño de los pilotos y la media de tiempo por vuelta es distinta en cada circuito. Por lo tanto, vale la pena hacer las simulaciones por nodo ya que hay cambios significativos en la distribución de los tiempos en cada carrera. Con esto podemos inferir que habrá un gran premio más rápido que otro y que los tiempos de vuelta se distribuirán de forma distinta."
   ]
  },
  {
   "cell_type": "markdown",
   "metadata": {},
   "source": [
    "### Determinación de posibles distribuciones de probabilidad"
   ]
  },
  {
   "cell_type": "code",
   "execution_count": 10,
   "metadata": {},
   "outputs": [],
   "source": [
    "#medias de cada piloto en nodos 1 y 2\n",
    "avg_monaco = Monaco_GP.groupby('driverId')['LapTime'].mean()\n",
    "avg_monza = Monza_GP.groupby('driverId')['LapTime'].mean()"
   ]
  },
  {
   "cell_type": "markdown",
   "metadata": {},
   "source": [
    "**Comportamiento de datos de tiempo por vuelta en el circuito de Mónaco**"
   ]
  },
  {
   "cell_type": "code",
   "execution_count": 11,
   "metadata": {
    "scrolled": false
   },
   "outputs": [
    {
     "data": {
      "image/png": "[encoded data removed]",
      "text/plain": [
       "<Figure size 432x288 with 1 Axes>"
      ]
     },
     "metadata": {
      "needs_background": "light"
     },
     "output_type": "display_data"
    }
   ],
   "source": [
    "#Comportamiento datos de GP de Mónaco\n",
    "gaussian_KDE(Monaco_GP,'LapTime','Monaco',0,160)"
   ]
  },
  {
   "cell_type": "code",
   "execution_count": 12,
   "metadata": {
    "scrolled": true
   },
   "outputs": [
    {
     "ename": "NameError",
     "evalue": "name 'remove_outliers2' is not defined",
     "output_type": "error",
     "traceback": [
      "\u001b[0;31m---------------------------------------------------------------------------\u001b[0m",
      "\u001b[0;31mNameError\u001b[0m                                 Traceback (most recent call last)",
      "\u001b[0;32m<ipython-input-12-b497cd8a0399>\u001b[0m in \u001b[0;36m<module>\u001b[0;34m\u001b[0m\n\u001b[0;32m----> 1\u001b[0;31m \u001b[0mrectangular_KDE\u001b[0m\u001b[0;34m(\u001b[0m\u001b[0mMonaco_GP\u001b[0m\u001b[0;34m,\u001b[0m\u001b[0;34m'LapTime'\u001b[0m\u001b[0;34m,\u001b[0m\u001b[0;34m'Monaco'\u001b[0m\u001b[0;34m)\u001b[0m\u001b[0;34m\u001b[0m\u001b[0;34m\u001b[0m\u001b[0m\n\u001b[0m",
      "\u001b[0;32m<ipython-input-6-d7370ec162f5>\u001b[0m in \u001b[0;36mrectangular_KDE\u001b[0;34m(dataframe, columna, label)\u001b[0m\n\u001b[1;32m     97\u001b[0m \u001b[0;34m\u001b[0m\u001b[0m\n\u001b[1;32m     98\u001b[0m \u001b[0;32mdef\u001b[0m \u001b[0mrectangular_KDE\u001b[0m\u001b[0;34m(\u001b[0m\u001b[0mdataframe\u001b[0m\u001b[0;34m,\u001b[0m\u001b[0mcolumna\u001b[0m\u001b[0;34m,\u001b[0m\u001b[0mlabel\u001b[0m\u001b[0;34m)\u001b[0m\u001b[0;34m:\u001b[0m\u001b[0;34m\u001b[0m\u001b[0;34m\u001b[0m\u001b[0m\n\u001b[0;32m---> 99\u001b[0;31m     \u001b[0mdatos\u001b[0m\u001b[0;34m,\u001b[0m \u001b[0mll\u001b[0m\u001b[0;34m,\u001b[0m \u001b[0mul\u001b[0m \u001b[0;34m=\u001b[0m \u001b[0mremove_outliers2\u001b[0m\u001b[0;34m(\u001b[0m\u001b[0mdataframe\u001b[0m\u001b[0;34m,\u001b[0m\u001b[0mcolumna\u001b[0m\u001b[0;34m)\u001b[0m\u001b[0;34m\u001b[0m\u001b[0;34m\u001b[0m\u001b[0m\n\u001b[0m\u001b[1;32m    100\u001b[0m     \u001b[0mb\u001b[0m \u001b[0;34m=\u001b[0m \u001b[0mdatos\u001b[0m\u001b[0;34m[\u001b[0m\u001b[0mcolumna\u001b[0m\u001b[0;34m]\u001b[0m\u001b[0;34m.\u001b[0m\u001b[0mvalues\u001b[0m\u001b[0;34m\u001b[0m\u001b[0;34m\u001b[0m\u001b[0m\n\u001b[1;32m    101\u001b[0m     \u001b[0mkde\u001b[0m \u001b[0;34m=\u001b[0m \u001b[0mst\u001b[0m\u001b[0;34m.\u001b[0m\u001b[0mgaussian_kde\u001b[0m\u001b[0;34m(\u001b[0m\u001b[0mb\u001b[0m\u001b[0;34m,\u001b[0m \u001b[0mbw_method\u001b[0m\u001b[0;34m=\u001b[0m\u001b[0;34m'silverman'\u001b[0m\u001b[0;34m)\u001b[0m  \u001b[0;31m# bw_method es el ancho de banda\u001b[0m\u001b[0;34m\u001b[0m\u001b[0;34m\u001b[0m\u001b[0m\n",
      "\u001b[0;31mNameError\u001b[0m: name 'remove_outliers2' is not defined"
     ]
    }
   ],
   "source": [
    "rectangular_KDE(Monaco_GP,'LapTime','Monaco')"
   ]
  },
  {
   "cell_type": "code",
   "execution_count": 13,
   "metadata": {
    "scrolled": false
   },
   "outputs": [
    {
     "ename": "NameError",
     "evalue": "name 'remove_outliers2' is not defined",
     "output_type": "error",
     "traceback": [
      "\u001b[0;31m---------------------------------------------------------------------------\u001b[0m",
      "\u001b[0;31mNameError\u001b[0m                                 Traceback (most recent call last)",
      "\u001b[0;32m<ipython-input-13-6c73a83e1a19>\u001b[0m in \u001b[0;36m<module>\u001b[0;34m\u001b[0m\n\u001b[1;32m      2\u001b[0m \u001b[0mnp\u001b[0m\u001b[0;34m.\u001b[0m\u001b[0mset_printoptions\u001b[0m\u001b[0;34m(\u001b[0m\u001b[0mprecision\u001b[0m\u001b[0;34m=\u001b[0m\u001b[0;36m6\u001b[0m\u001b[0;34m,\u001b[0m \u001b[0msuppress\u001b[0m\u001b[0;34m=\u001b[0m\u001b[0;32mTrue\u001b[0m\u001b[0;34m)\u001b[0m \u001b[0;31m#evitar que los datos estén en notación científica\u001b[0m\u001b[0;34m\u001b[0m\u001b[0;34m\u001b[0m\u001b[0m\n\u001b[1;32m      3\u001b[0m \u001b[0;34m\u001b[0m\u001b[0m\n\u001b[0;32m----> 4\u001b[0;31m \u001b[0mtiempos_monaco\u001b[0m\u001b[0;34m,\u001b[0m \u001b[0mll\u001b[0m\u001b[0;34m,\u001b[0m \u001b[0mul\u001b[0m \u001b[0;34m=\u001b[0m \u001b[0mremove_outliers2\u001b[0m\u001b[0;34m(\u001b[0m\u001b[0mMonaco_GP\u001b[0m\u001b[0;34m,\u001b[0m\u001b[0;34m'LapTime'\u001b[0m\u001b[0;34m)\u001b[0m\u001b[0;34m\u001b[0m\u001b[0;34m\u001b[0m\u001b[0m\n\u001b[0m\u001b[1;32m      5\u001b[0m \u001b[0ma\u001b[0m \u001b[0;34m=\u001b[0m \u001b[0mtiempos_monaco\u001b[0m\u001b[0;34m[\u001b[0m\u001b[0;34m'LapTime'\u001b[0m\u001b[0;34m]\u001b[0m\u001b[0;34m.\u001b[0m\u001b[0mvalues\u001b[0m\u001b[0;34m\u001b[0m\u001b[0;34m\u001b[0m\u001b[0m\n\u001b[1;32m      6\u001b[0m \u001b[0;34m\u001b[0m\u001b[0m\n",
      "\u001b[0;31mNameError\u001b[0m: name 'remove_outliers2' is not defined"
     ]
    }
   ],
   "source": [
    "#Histograma tiempos de vuelta en circuito de Mónaco\n",
    "np.set_printoptions(precision=6, suppress=True) #evitar que los datos estén en notación científica\n",
    "\n",
    "tiempos_monaco, ll, ul = remove_outliers2(Monaco_GP,'LapTime')\n",
    "a = tiempos_monaco['LapTime'].values\n",
    "\n",
    "fig, ax = plt.subplots(1, 1, figsize=(8,5))\n",
    "y, x, _ = ax.hist(a, bins=60, density=True)\n",
    "plt.title('LapTime en GP de Monaco')\n",
    "plt.xlabel('Tiempo (s)')\n",
    "x = x[1:] #obviar el primer valor"
   ]
  },
  {
   "cell_type": "code",
   "execution_count": 14,
   "metadata": {},
   "outputs": [
    {
     "ename": "NameError",
     "evalue": "name 'x' is not defined",
     "output_type": "error",
     "traceback": [
      "\u001b[0;31m---------------------------------------------------------------------------\u001b[0m",
      "\u001b[0;31mNameError\u001b[0m                                 Traceback (most recent call last)",
      "\u001b[0;32m<ipython-input-14-83f41e83b9a5>\u001b[0m in \u001b[0;36m<module>\u001b[0;34m\u001b[0m\n\u001b[0;32m----> 1\u001b[0;31m \u001b[0merror_monaco\u001b[0m \u001b[0;34m=\u001b[0m \u001b[0mdefine_pdist\u001b[0m\u001b[0;34m(\u001b[0m\u001b[0mMonaco_GP\u001b[0m\u001b[0;34m,\u001b[0m\u001b[0;34m'LapTime'\u001b[0m\u001b[0;34m)\u001b[0m\u001b[0;34m\u001b[0m\u001b[0;34m\u001b[0m\u001b[0m\n\u001b[0m",
      "\u001b[0;32m<ipython-input-6-d7370ec162f5>\u001b[0m in \u001b[0;36mdefine_pdist\u001b[0;34m(df, columna)\u001b[0m\n\u001b[1;32m     63\u001b[0m         \u001b[0;32mtry\u001b[0m\u001b[0;34m:\u001b[0m\u001b[0;34m\u001b[0m\u001b[0;34m\u001b[0m\u001b[0m\n\u001b[1;32m     64\u001b[0m             \u001b[0mparams\u001b[0m \u001b[0;34m=\u001b[0m \u001b[0mgetattr\u001b[0m\u001b[0;34m(\u001b[0m\u001b[0mst\u001b[0m\u001b[0;34m,\u001b[0m \u001b[0md_i\u001b[0m\u001b[0;34m)\u001b[0m\u001b[0;34m.\u001b[0m\u001b[0mfit\u001b[0m\u001b[0;34m(\u001b[0m\u001b[0mdata\u001b[0m\u001b[0;34m)\u001b[0m\u001b[0;34m\u001b[0m\u001b[0;34m\u001b[0m\u001b[0m\n\u001b[0;32m---> 65\u001b[0;31m             \u001b[0mdata_hat\u001b[0m \u001b[0;34m=\u001b[0m \u001b[0mgetattr\u001b[0m\u001b[0;34m(\u001b[0m\u001b[0mst\u001b[0m\u001b[0;34m,\u001b[0m \u001b[0md_i\u001b[0m\u001b[0;34m)\u001b[0m\u001b[0;34m.\u001b[0m\u001b[0mpdf\u001b[0m\u001b[0;34m(\u001b[0m\u001b[0mx\u001b[0m\u001b[0;34m,\u001b[0m \u001b[0;34m*\u001b[0m\u001b[0mparams\u001b[0m\u001b[0;34m)\u001b[0m\u001b[0;34m\u001b[0m\u001b[0;34m\u001b[0m\u001b[0m\n\u001b[0m\u001b[1;32m     66\u001b[0m             \u001b[0max\u001b[0m\u001b[0;34m.\u001b[0m\u001b[0mplot\u001b[0m\u001b[0;34m(\u001b[0m\u001b[0mx\u001b[0m\u001b[0;34m,\u001b[0m \u001b[0mdata_hat\u001b[0m\u001b[0;34m,\u001b[0m \u001b[0mlabel\u001b[0m\u001b[0;34m=\u001b[0m\u001b[0md_i\u001b[0m\u001b[0;34m)\u001b[0m\u001b[0;34m\u001b[0m\u001b[0;34m\u001b[0m\u001b[0m\n\u001b[1;32m     67\u001b[0m             \u001b[0merror\u001b[0m\u001b[0;34m.\u001b[0m\u001b[0mloc\u001b[0m\u001b[0;34m[\u001b[0m\u001b[0mi\u001b[0m\u001b[0;34m,\u001b[0m \u001b[0;34m:\u001b[0m\u001b[0;34m]\u001b[0m \u001b[0;34m=\u001b[0m \u001b[0;34m[\u001b[0m\u001b[0md_i\u001b[0m\u001b[0;34m,\u001b[0m \u001b[0mnp\u001b[0m\u001b[0;34m.\u001b[0m\u001b[0mmean\u001b[0m\u001b[0;34m(\u001b[0m\u001b[0;34m(\u001b[0m\u001b[0my\u001b[0m \u001b[0;34m-\u001b[0m \u001b[0mdata_hat\u001b[0m\u001b[0;34m)\u001b[0m\u001b[0;34m**\u001b[0m\u001b[0;36m2\u001b[0m\u001b[0;34m)\u001b[0m\u001b[0;34m]\u001b[0m\u001b[0;34m\u001b[0m\u001b[0;34m\u001b[0m\u001b[0m\n",
      "\u001b[0;31mNameError\u001b[0m: name 'x' is not defined"
     ]
    }
   ],
   "source": [
    "error_monaco = define_pdist(Monaco_GP,'LapTime')"
   ]
  },
  {
   "cell_type": "code",
   "execution_count": null,
   "metadata": {
    "scrolled": false
   },
   "outputs": [],
   "source": [
    "error_monaco.head(5)"
   ]
  },
  {
   "cell_type": "markdown",
   "metadata": {},
   "source": [
    "Analizando con métodos numéricos que distribución sería la apropiada para simular los tiempos de vuelta en el circuito de Mónaco, la distribución de probabilidad con menor error cuadrático es la distribución t. Para hacer esta simulación se requieren los grados de libertad. Cabe mencionar que entre más elevado este número, más se asemeja a una distribución normal. "
   ]
  },
  {
   "cell_type": "markdown",
   "metadata": {},
   "source": [
    "**Comportamiento de datos de tiempo por vuelta en el circuito de Monza**"
   ]
  },
  {
   "cell_type": "code",
   "execution_count": null,
   "metadata": {
    "scrolled": true
   },
   "outputs": [],
   "source": [
    "gaussian_KDE(Monza_GP,'LapTime','Monza',0,170)"
   ]
  },
  {
   "cell_type": "code",
   "execution_count": null,
   "metadata": {},
   "outputs": [],
   "source": [
    "rectangular_KDE(Monza_GP,'LapTime','Monza')"
   ]
  },
  {
   "cell_type": "code",
   "execution_count": null,
   "metadata": {
    "scrolled": false
   },
   "outputs": [],
   "source": [
    "#Histograma tiempos de vuelta en circuito de Monza\n",
    "np.set_printoptions(precision=6, suppress=True) #evitar que los datos estén en notación científica\n",
    "\n",
    "tiempos_monza, ll, ul = remove_outliers2(Monza_GP,'LapTime')\n",
    "b = tiempos_monza['LapTime'].values\n",
    "\n",
    "fig, ax = plt.subplots(1, 1, figsize=(8,5))\n",
    "y, x, _ = ax.hist(b, bins=60, density=True)\n",
    "plt.title('LapTime en GP de Monza')\n",
    "plt.xlabel('Tiempo (s)')\n",
    "x = x[1:] #obviar el primer valor"
   ]
  },
  {
   "cell_type": "code",
   "execution_count": null,
   "metadata": {},
   "outputs": [],
   "source": [
    "error_monza = define_pdist(Monza_GP,'LapTime')"
   ]
  },
  {
   "cell_type": "code",
   "execution_count": null,
   "metadata": {
    "scrolled": false
   },
   "outputs": [],
   "source": [
    "error_monza.head(5)"
   ]
  },
  {
   "cell_type": "markdown",
   "metadata": {},
   "source": [
    "Observando el comportamiento de los datos del Gran Premio de Monza, la distribución de probabilidad con menor error cuadrático es la Johnson su. Para hacer simulaciones con esta distribución, se requiere de la media de cada piloto y dos parámetros de forma y la escala."
   ]
  },
  {
   "cell_type": "markdown",
   "metadata": {},
   "source": [
    "### Simulación"
   ]
  },
  {
   "cell_type": "markdown",
   "metadata": {},
   "source": [
    "#### Simulación Circuito de Monaco"
   ]
  },
  {

   "cell_type": "code",
   "execution_count": null,
   "metadata": {},
   "outputs": [],
   "source": [
    "gp_info= pd.read_excel(\"session_data.xlsx\")\n",
    "GP_info=pd.DataFrame(gp_info)\n",
    "GP_info=GP_info[['totalLaps','trackId']]\n",
    "GP_info.iloc[10]\n"
   ]
  },
  {

   "cell_type": "markdown",
   "metadata": {},
   "source": [
    "Los tiempos de vuelta en el circuito de Mónaco se asemejan a una distribución t. Para realizar simulaciones utilizando esta distribución de probabilidad se necesita calcular los grados de libertad. Si os datos se encuentran en una tabla de contingencia, los GDL se calculan de la siguiente forma:\n",
    "\n",
    "GDL=(núm. Renglones – 1) (núm. Columnas - 1)\n",
    "\n",
    "Sin embargo, los datos no tienen la estructura para calcular los grados de libertad de esta forma, por lo que este parámetro se obtendrá mediante la función fit y se utilizarán las medias particulares de cada piloto en el circuito. "
   ]
  },
  {
   "cell_type": "code",
   "execution_count": null,
   "metadata": {},
   "outputs": [],
   "source": [
    "#Obtener parámetros para la distribución Johnson su\n",
    "df, media_mon, scale_mon = st.t.fit(a) #no se utilizará esta media \n",
    "print(df, media_mon, scale_mon)"
   ]
  },
  {
   "cell_type": "code",
   "execution_count": null,
   "metadata": {},
   "outputs": [],
   "source": [
    "#función específica para simular los tiempos de los pilotos en el GP de Mónaco\n",
    "def vuelta_rapida_mon(N):\n",
    "    sim_lap = [(pilot, time) for (pilot, avg_time) in avg_monaco.items() for time in st.t.rvs(df=df, loc=avg_time, size=N)]\n",
    "    #DataFrame con los tiempos simulados\n",
    "    sim_data_mon = pd.DataFrame(sim_lap, columns=['Piloto', 'Tiempo Simulado'])\n",
    "    #Rango intercuartílico para eliminar outliers\n",
    "    s_data, low_l, up_l = remove_outliers(sim_data_mon) #con rangos intercuartílicos\n",
    "\n",
    "    min_times = s_data.groupby('Piloto')['Tiempo Simulado'].min()\n",
    "    #de min_times se extrae el nombre del piloto con menor tiempo\n",
    "    min_pilot = min_times.idxmin()\n",
    "    piloto = str(min_pilot)\n",
    "    return piloto"
   ]
  },
  {
   "cell_type": "code",
   "execution_count": null,
   "metadata": {},
   "outputs": [],
   "source": [
    "#SIMULACION MONTECARLO\n",
    "\n",
    "monaco21_vr = [vuelta_rapida_mon(10000) for i in range(50)] \n",
    "#Lista con nombres de pilotos que en la simulación hicieron la vuelta rápida\n",
    "\n",
    "count = Counter(monaco21_vr)\n",
    "# Encontrar el piloto más repetido\n",
    "piloto= max(count, key=count.get)\n",
    "p = count[piloto]/50\n",
    "print(f'El piloto más probable a hacer la vuelta rápida en Monaco es: {piloto}, con una probabilidad de: {round(p*100,2)}%')\n"
   ]
  },
  {
   "cell_type": "code",
   "execution_count": null,
   "metadata": {},
   "outputs": [],
   "source": [
    "#simulación que proporciona el dataframe con N tiempos por piloto para visualizar los datos simulados\n",
    "def datasim_monaco(N):\n",
    "    sim_lap = [(pilot, time) for (pilot, avg_time) in avg_monaco.items() for time in st.t.rvs(df=df, loc=avg_time, size=N)]\n",
    "    #DataFrame con los tiempos simulados\n",
    "    sim_data = pd.DataFrame(sim_lap, columns=['Piloto', 'Tiempo Simulado'])\n",
    "\n",
    "    #Rango intercuartílico para eliminar outliers\n",
    "    s_data, low_l, up_l = remove_outliers(sim_data)\n",
    "    \n",
    "    return s_data,sim_data"
   ]
  },
  {
   "cell_type": "code",
   "execution_count": null,
   "metadata": {},
   "outputs": [],
   "source": [
    "#simulación con outliers\n",
    "monaco_conoutliers = datasim_monaco(10000)[1]"
   ]
  },
  {
   "cell_type": "code",
   "execution_count": null,
   "metadata": {},
   "outputs": [],
   "source": [
    "sim_dt_monaco = datasim_monaco(10000)\n",
    "hist(sim_dt_monaco,'Tiempo Simulado','LapTime simulado en GP de Monaco',100)\n",
    "#una distribución t con un parámetro de GDL alto se asemeja a una distribución normal"
   ]
  },
  {
   "cell_type": "markdown",
   "metadata": {},
   "source": [
    "#### Simulación Circuito de Monza"
   ]
  },
  {
   "cell_type": "code",
   "execution_count": null,
   "metadata": {},
   "outputs": [],
   "source": [
    "#Obtener parámetros para la distribución Johnson su\n",
    "a, b, media, scale = st.johnsonsu.fit(b) #b: arreglo con los tiempos de vuelta en monza\n",
    "print(a, b, media, scale) #no se utilizará esta media para la simulación, si no la media particular de cada piloto"
   ]
  },
  {
   "cell_type": "code",
   "execution_count": null,
   "metadata": {},
   "outputs": [],
   "source": [
    "#función específica para simular los tiempos de los pilotos en el GP de Monza\n",
    "\n",
    "def vuelta_rapida_mz(N:'numero de vueltas simuladas por piloto'): \n",
    "    sim_lap_monza = [(pilot, time) for (pilot, avg_time) in avg_monza.items() for time in st.johnsonsu(a, b, loc=avg_time, scale=scale).rvs(size=N)]\n",
    "    #DataFrame con los tiempos simulados\n",
    "    sim_data_mz = pd.DataFrame(sim_lap_monza, columns=['Piloto', 'Tiempo Simulado'])\n",
    "\n",
    "    #Rango intercuartílico para eliminar outliers\n",
    "    s_data_mz, low_l, up_l = remove_outliers(sim_data_mz) #con rangos intercuartílicos\n",
    "\n",
    "    min_times_mz = s_data_mz.groupby('Piloto')['Tiempo Simulado'].min() #serie con los tiempos mínimos de cada piloto\n",
    "\n",
    "    #de min_times se extrae el nombre del piloto con menor tiempo\n",
    "    min_pilot = min_times_mz.idxmin()\n",
    "    piloto = str(min_pilot)\n",
    "    return piloto #devuelve el nombre del piloto con vuelta más rápida en esta simulación"
   ]
  },
  {
   "cell_type": "code",
   "execution_count": null,
   "metadata": {},
   "outputs": [],
   "source": [
    "#SIMULACION MONTECARLO\n",
    "\n",
    "monza21_vr = [vuelta_rapida_mz(10000) for i in range(50)] \n",
    "#Lista con nombres de pilotos que en la simulación hicieron la vuelta rápida\n",
    "\n",
    "count = Counter(monza21_vr)\n",
    "# Encontrar el piloto más repetido\n",
    "piloto= max(count, key=count.get)\n",
    "p = count[piloto]/50\n",
    "print(f'El piloto más probable a hacer la vuelta rápida en Monza es: {piloto}, con una probabilidad de: {round(p*100,2)}%')\n"
   ]
  },
  {
   "cell_type": "code",
   "execution_count": null,
   "metadata": {},
   "outputs": [],
   "source": [
    "#simulación que proporciona el dataframe con N tiempos por piloto para visualizar los datos simulados\n",
    "def datasim_monza(N): \n",
    "    sim_lap_monza = [(pilot, time) for (pilot, avg_time) in avg_monza.items() for time in st.johnsonsu(a, b, loc=avg_time, scale=scale).rvs(size=N)]\n",
    "    #DataFrame con los tiempos simulados\n",
    "    sim_data_mz = pd.DataFrame(sim_lap_monza, columns=['Piloto', 'Tiempo Simulado'])\n",
    "\n",
    "    #Rango intercuartílico para eliminar outliers\n",
    "    s_data, low_l, up_l = remove_outliers(sim_data_mz)\n",
    "    \n",
    "    return s_data"
   ]
  },
  {
   "cell_type": "code",
   "execution_count": null,
   "metadata": {
    "scrolled": true
   },
   "outputs": [],
   "source": [
    "sim_dt_monza=datasim_monza(10000)\n",
    "hist(sim_dt_monza,'Tiempo Simulado','LapTime simulado en GP de Monza',100)"
   ]
  },
  {
   "cell_type": "markdown",
   "metadata": {},
   "source": [
    "## Ganador "
   ]
  },
  {
   "cell_type": "code",
   "execution_count": 22,
   "metadata": {},
   "outputs": [],
   "source": [
    "### Librerias\n",
    "import pandas as pd\n",
    "import numpy as np\n",
    "import scipy.stats as st    \n",
    "import statsmodels.api as sm \n",
    "import matplotlib.pyplot as plt\n",
    "from scipy import optimize\n",
    "\n",
    "from sklearn.neighbors import KernelDensity\n",
    "from scipy.stats import gaussian_kde\n",
    "from statsmodels.nonparametric.kde import KDEUnivariate\n",
    "from statsmodels.nonparametric.kernel_density import KDEMultivariate\n",
    "\n",
    "from sklearn.model_selection import GridSearchCV\n",
    "import seaborn as sns\n",
    "\n",
    "import warnings\n",
    "warnings.filterwarnings(\"ignore\")"
   ]
  },
  {
   "cell_type": "markdown",
   "metadata": {},
   "source": [
    "### Monza"
   ]
  },
  {
   "cell_type": "code",
   "execution_count": 23,
   "metadata": {},
   "outputs": [],
   "source": [
    "Monza = Monza_GP.groupby('driverId')['carPosition'].mean()"
   ]
  },
  {
   "cell_type": "code",
   "execution_count": 24,
   "metadata": {},
   "outputs": [
    {
     "data": {
      "text/plain": [
       "<matplotlib.axes._subplots.AxesSubplot at 0x1a2640e050>"
      ]
     },
     "execution_count": 24,
     "metadata": {},
     "output_type": "execute_result"
    },
    {
     "data": {
      "image/png": "[encoded data removed]",
      "text/plain": [
       "<Figure size 432x288 with 1 Axes>"
      ]
     },
     "metadata": {
      "needs_background": "light"
     },
     "output_type": "display_data"
    }
   ],
   "source": [
    "plt.title('Histograma de frecuencia del piloto en la posición')\n",
    "Monza_GP.groupby(['driverId','carPosition'])['GP'].count().hist()"
   ]
  },
  {
   "cell_type": "code",
   "execution_count": 25,
   "metadata": {},
   "outputs": [
    {
     "data": {
      "image/png": "[encoded data removed]",
      "text/plain": [
       "<Figure size 720x432 with 1 Axes>"
      ]
     },
     "metadata": {
      "needs_background": "light"
     },
     "output_type": "display_data"
    }
   ],
   "source": [
    "# Promedio de la posición del coche para cada piloto\n",
    "promedio_posicion = Monza_GP.groupby('driverId')['carPosition'].mean()\n",
    "\n",
    "# Histograma del promedio de la posición del coche\n",
    "plt.figure(figsize=(10, 6))\n",
    "plt.hist(promedio_posicion, bins=10, edgecolor='black', alpha=0.7)\n",
    "plt.xlabel('Promedio de Posición del Coche')\n",
    "plt.ylabel('Frecuencia')\n",
    "plt.title('Histograma del Promedio de Posición del Coche por Piloto')\n",
    "plt.grid(True)\n",
    "plt.show()"
   ]
  },
  {
   "cell_type": "code",
   "execution_count": 26,
   "metadata": {},
   "outputs": [
    {
     "data": {
      "image/png": "[encoded data removed]",
      "text/plain": [
       "<Figure size 720x504 with 1 Axes>"
      ]
     },
     "metadata": {
      "needs_background": "light"
     },
     "output_type": "display_data"
    },
    {
     "name": "stdout",
     "output_type": "stream",
     "text": [
      "   distribución     error\n",
      "0      bradford  0.001499\n",
      "1          beta  0.001583\n",
      "2         expon     0.002\n",
      "3     exponnorm  0.002266\n",
      "4          norm  0.002266\n",
      "5       uniform  0.001558\n",
      "6      foldnorm   0.00182\n",
      "7       gennorm  0.001558\n",
      "8         ksone  0.001573\n",
      "9        kappa4  0.001473\n",
      "10    johnsonsb  0.002437\n"
     ]
    }
   ],
   "source": [
    "# Lista de distribuciones de probabilidad\n",
    "dist_list = ['bradford', 'beta', 'expon', 'exponnorm', 'norm', 'uniform', 'foldnorm', 'gennorm', 'ksone', 'kappa4', 'johnsonsb']\n",
    "\n",
    "fig, ax = plt.subplots(1, 1, figsize=(10, 7))\n",
    "\n",
    "y, x = np.histogram(promedio_posicion, bins=15, density=True)\n",
    "x = (x + np.roll(x, -1))[:-1] / 2\n",
    "\n",
    "i = 0\n",
    "error_df = pd.DataFrame(columns=['distribución', 'error'])\n",
    "\n",
    "for d in dist_list:\n",
    "    param = getattr(st, d).fit(promedio_posicion)\n",
    "    y_hat = getattr(st, d).pdf(x, *param)\n",
    "    error = np.mean((y - y_hat) ** 2)\n",
    "    error_df.loc[i, 'distribución'] = d\n",
    "    error_df.loc[i, 'error'] = error\n",
    "    i += 1\n",
    "\n",
    "# Ajusta el ancho de las barras del histograma\n",
    "width = x[1] - x[0]\n",
    "\n",
    "# Dibuja el histograma\n",
    "ax.bar(x, y, width=width, alpha=0.5, label='Histograma')\n",
    "\n",
    "# Dibuja las líneas de las distribuciones\n",
    "for d in dist_list:\n",
    "    param = getattr(st, d).fit(promedio_posicion)\n",
    "    y_hat = getattr(st, d).pdf(x, *param)\n",
    "    ax.plot(x, y_hat, label=f'{d}')\n",
    "\n",
    "plt.legend()\n",
    "plt.show()\n",
    "\n",
    "# Error cuadrático medio para cada distribución\n",
    "print(error_df)"
   ]
  },
  {
   "cell_type": "markdown",
   "metadata": {},
   "source": [
    "La que tiene menor error es kappa4"
   ]
  },
  {
   "cell_type": "code",
   "execution_count": 27,
   "metadata": {},
   "outputs": [
    {
     "data": {
      "text/plain": [
       "(1.0719131313624262,\n",
       " 0.9749087985405804,\n",
       " 0.3220321817925935,\n",
       " 17.267485807942418)"
      ]
     },
     "execution_count": 27,
     "metadata": {},
     "output_type": "execute_result"
    }
   ],
   "source": [
    "#Parámetros de distibución kappa4 en nuestros datos\n",
    "params_Monza = st.kappa4.fit(promedio_posicion)\n",
    "params_Monza"
   ]
  },
  {
   "cell_type": "code",
   "execution_count": 28,
   "metadata": {},
   "outputs": [
    {
     "data": {
      "text/plain": [
       "KstestResult(statistic=0.09619192085524242, pvalue=0.9925838083545099)"
      ]
     },
     "execution_count": 28,
     "metadata": {},
     "output_type": "execute_result"
    }
   ],
   "source": [
    "# Prueba de hipótesis\n",
    "st.kstest(promedio_posicion, lambda promedio_posicion: st.kappa4.cdf(promedio_posicion,*params_Monza))"
   ]
  },
  {
   "cell_type": "markdown",
   "metadata": {},
   "source": [
    "Observando nuestro \"p-value\", vemos que al ser considereablemente alta, podemos aceptar la hipótesis nula, de manera que podemos decir que estadísticamente el promedio de la posición del coche le ayuda a ganar el primer lugar de la carrera. "
   ]
  },
  {
   "cell_type": "code",
   "execution_count": 29,
   "metadata": {},
   "outputs": [
    {
     "ename": "NameError",
     "evalue": "name 'dist' is not defined",
     "output_type": "error",
     "traceback": [
      "\u001b[0;31m---------------------------------------------------------------------------\u001b[0m",
      "\u001b[0;31mNameError\u001b[0m                                 Traceback (most recent call last)",
      "\u001b[0;32m<ipython-input-29-10c90c3b12e3>\u001b[0m in \u001b[0;36m<module>\u001b[0;34m\u001b[0m\n\u001b[0;32m----> 1\u001b[0;31m \u001b[0mparams1\u001b[0m \u001b[0;34m=\u001b[0m \u001b[0mgetattr\u001b[0m\u001b[0;34m(\u001b[0m\u001b[0mst\u001b[0m\u001b[0;34m,\u001b[0m \u001b[0mdist\u001b[0m\u001b[0;34m)\u001b[0m\u001b[0;34m.\u001b[0m\u001b[0mfit\u001b[0m\u001b[0;34m(\u001b[0m\u001b[0mpromedio_posicion\u001b[0m\u001b[0;34m)\u001b[0m\u001b[0;34m\u001b[0m\u001b[0;34m\u001b[0m\u001b[0m\n\u001b[0m\u001b[1;32m      2\u001b[0m \u001b[0;34m\u001b[0m\u001b[0m\n\u001b[1;32m      3\u001b[0m \u001b[0mrandom_hat1\u001b[0m \u001b[0;34m=\u001b[0m \u001b[0mgetattr\u001b[0m\u001b[0;34m(\u001b[0m\u001b[0mst\u001b[0m\u001b[0;34m,\u001b[0m \u001b[0mdist\u001b[0m\u001b[0;34m)\u001b[0m\u001b[0;34m.\u001b[0m\u001b[0mrvs\u001b[0m\u001b[0;34m(\u001b[0m\u001b[0;34m*\u001b[0m\u001b[0mparams1\u001b[0m\u001b[0;34m,\u001b[0m \u001b[0msize\u001b[0m \u001b[0;34m=\u001b[0m \u001b[0;36m100\u001b[0m\u001b[0;34m)\u001b[0m\u001b[0;34m\u001b[0m\u001b[0;34m\u001b[0m\u001b[0m\n\u001b[1;32m      4\u001b[0m \u001b[0;34m\u001b[0m\u001b[0m\n\u001b[1;32m      5\u001b[0m \u001b[0mplt\u001b[0m\u001b[0;34m.\u001b[0m\u001b[0mhist\u001b[0m\u001b[0;34m(\u001b[0m\u001b[0mpromedio_posicion\u001b[0m\u001b[0;34m,\u001b[0m \u001b[0mbins\u001b[0m \u001b[0;34m=\u001b[0m\u001b[0;36m15\u001b[0m\u001b[0;34m,\u001b[0m \u001b[0mlabel\u001b[0m \u001b[0;34m=\u001b[0m \u001b[0;34m'data real'\u001b[0m\u001b[0;34m,\u001b[0m \u001b[0mdensity\u001b[0m \u001b[0;34m=\u001b[0m \u001b[0;32mTrue\u001b[0m\u001b[0;34m)\u001b[0m\u001b[0;34m\u001b[0m\u001b[0;34m\u001b[0m\u001b[0m\n",
      "\u001b[0;31mNameError\u001b[0m: name 'dist' is not defined"
     ]
    }
   ],
   "source": [
    "params1 = getattr(st, dist).fit(promedio_posicion)\n",
    "\n",
    "random_hat1 = getattr(st, dist).rvs(*params1, size = 100)\n",
    "\n",
    "plt.hist(promedio_posicion, bins =15, label = 'data real', density = True)\n",
    "plt.hist(random_hat1, bins = 20, density = True, alpha = .5, label = 'data estimado')\n",
    "plt.legend()\n",
    "plt.show()"
   ]
  },
  {
   "cell_type": "code",
   "execution_count": 30,
   "metadata": {},
   "outputs": [
    {
     "ename": "NameError",
     "evalue": "name 'car_position_data' is not defined",
     "output_type": "error",
     "traceback": [
      "\u001b[0;31m---------------------------------------------------------------------------\u001b[0m",
      "\u001b[0;31mNameError\u001b[0m                                 Traceback (most recent call last)",
      "\u001b[0;32m<ipython-input-30-c0d83f20a4e9>\u001b[0m in \u001b[0;36m<module>\u001b[0;34m\u001b[0m\n\u001b[1;32m      2\u001b[0m \u001b[0mfig\u001b[0m\u001b[0;34m,\u001b[0m \u001b[0max\u001b[0m \u001b[0;34m=\u001b[0m \u001b[0mplt\u001b[0m\u001b[0;34m.\u001b[0m\u001b[0msubplots\u001b[0m\u001b[0;34m(\u001b[0m\u001b[0;36m1\u001b[0m\u001b[0;34m,\u001b[0m \u001b[0;36m1\u001b[0m\u001b[0;34m,\u001b[0m \u001b[0mfigsize\u001b[0m\u001b[0;34m=\u001b[0m\u001b[0;34m(\u001b[0m\u001b[0;36m8\u001b[0m\u001b[0;34m,\u001b[0m \u001b[0;36m5\u001b[0m\u001b[0;34m)\u001b[0m\u001b[0;34m)\u001b[0m\u001b[0;34m\u001b[0m\u001b[0;34m\u001b[0m\u001b[0m\n\u001b[1;32m      3\u001b[0m \u001b[0;34m\u001b[0m\u001b[0m\n\u001b[0;32m----> 4\u001b[0;31m \u001b[0mgrap2\u001b[0m \u001b[0;34m=\u001b[0m \u001b[0mst\u001b[0m\u001b[0;34m.\u001b[0m\u001b[0mprobplot\u001b[0m\u001b[0;34m(\u001b[0m\u001b[0mpromedio_posicion\u001b[0m\u001b[0;34m,\u001b[0m \u001b[0mdist\u001b[0m\u001b[0;34m=\u001b[0m\u001b[0;34m'kappa4'\u001b[0m\u001b[0;34m,\u001b[0m \u001b[0msparams\u001b[0m\u001b[0;34m=\u001b[0m\u001b[0mgetattr\u001b[0m\u001b[0;34m(\u001b[0m\u001b[0mst\u001b[0m\u001b[0;34m,\u001b[0m \u001b[0;34m'kappa4'\u001b[0m\u001b[0;34m)\u001b[0m\u001b[0;34m.\u001b[0m\u001b[0mfit\u001b[0m\u001b[0;34m(\u001b[0m\u001b[0mcar_position_data\u001b[0m\u001b[0;34m)\u001b[0m\u001b[0;34m[\u001b[0m\u001b[0;34m:\u001b[0m\u001b[0;34m-\u001b[0m\u001b[0;36m2\u001b[0m\u001b[0;34m]\u001b[0m\u001b[0;34m,\u001b[0m \u001b[0mplot\u001b[0m\u001b[0;34m=\u001b[0m\u001b[0max\u001b[0m\u001b[0;34m,\u001b[0m \u001b[0mfit\u001b[0m\u001b[0;34m=\u001b[0m\u001b[0;32mTrue\u001b[0m\u001b[0;34m)\u001b[0m\u001b[0;34m\u001b[0m\u001b[0;34m\u001b[0m\u001b[0m\n\u001b[0m\u001b[1;32m      5\u001b[0m \u001b[0max\u001b[0m\u001b[0;34m.\u001b[0m\u001b[0mgrid\u001b[0m\u001b[0;34m(\u001b[0m\u001b[0;34m)\u001b[0m\u001b[0;34m\u001b[0m\u001b[0;34m\u001b[0m\u001b[0m\n\u001b[1;32m      6\u001b[0m \u001b[0max\u001b[0m\u001b[0;34m.\u001b[0m\u001b[0mset_title\u001b[0m\u001b[0;34m(\u001b[0m\u001b[0;34m'Gráfico de Probabilidad Utilizando paquete scipy'\u001b[0m\u001b[0;34m)\u001b[0m\u001b[0;34m\u001b[0m\u001b[0;34m\u001b[0m\u001b[0m\n",
      "\u001b[0;31mNameError\u001b[0m: name 'car_position_data' is not defined"
     ]
    },
    {
     "data": {
      "image/png": "[encoded data removed]",
      "text/plain": [
       "<Figure size 576x360 with 1 Axes>"
      ]
     },
     "metadata": {
      "needs_background": "light"
     },
     "output_type": "display_data"
    }
   ],
   "source": [
    "divisiones = 20\n",
    "fig, ax = plt.subplots(1, 1, figsize=(8, 5))\n",
    "\n",
    "grap2 = st.probplot(promedio_posicion, dist='kappa4', sparams=getattr(st, 'kappa4').fit(car_position_data)[:-2], plot=ax, fit=True)\n",
    "ax.grid()\n",
    "ax.set_title('Gráfico de Probabilidad Utilizando paquete scipy')\n",
    "\n",
    "plt.show()"
   ]
  },
  {
   "cell_type": "markdown",
   "metadata": {},
   "source": [
    "### Monaco"
   ]
  },
  {
   "cell_type": "code",
   "execution_count": null,
   "metadata": {},
   "outputs": [],
   "source": [
    "Monaco = Monaco_GP.groupby('driverId')['carPosition'].mean()"
   ]
  },
  {
   "cell_type": "code",
   "execution_count": null,
   "metadata": {},
   "outputs": [],
   "source": [
    "# Calcula el promedio de la posición del coche para cada piloto\n",
    "promedio_posicion2 = Monaco_GP.groupby('driverId')['carPosition'].mean()\n",
    "\n",
    "# Crea un histograma del promedio de la posición del coche\n",
    "plt.figure(figsize=(10, 6))\n",
    "plt.hist(promedio_posicion2, bins=10, edgecolor='black', alpha=0.7)\n",
    "plt.xlabel('Promedio de Posición del Coche')\n",
    "plt.ylabel('Frecuencia')\n",
    "plt.title('Histograma del Promedio de Posición del Coche por Piloto')\n",
    "plt.grid(True)\n",
    "plt.show()"
   ]
  },
  {
   "cell_type": "code",
   "execution_count": null,
   "metadata": {},
   "outputs": [],
   "source": [
    "# Lista de distribuciones de probabilidad\n",
    "dist_list = ['bradford', 'beta', 'expon', 'exponnorm', 'norm', 'uniform', 'foldnorm', 'gennorm', 'ksone', 'kappa4', 'johnsonsb']\n",
    "\n",
    "fig, ax = plt.subplots(1, 1, figsize=(10, 7))\n",
    "\n",
    "y, x = np.histogram(promedio_posicion2, bins=15, density=True)\n",
    "x = (x + np.roll(x, -1))[:-1] / 2\n",
    "\n",
    "i = 0\n",
    "error_df = pd.DataFrame(columns=['distribución', 'error'])\n",
    "\n",
    "for d in dist_list:\n",
    "    param = getattr(st, d).fit(promedio_posicion2)\n",
    "    y_hat = getattr(st, d).pdf(x, *param)\n",
    "    error = np.mean((y - y_hat) ** 2)\n",
    "    error_df.loc[i, 'distribución'] = d\n",
    "    error_df.loc[i, 'error'] = error\n",
    "    i += 1\n",
    "\n",
    "# Ajusta el ancho de las barras del histograma\n",
    "width = x[1] - x[0]\n",
    "\n",
    "# Dibuja el histograma\n",
    "ax.bar(x, y, width=width, alpha=0.5, label='Histograma')\n",
    "\n",
    "# Dibuja las líneas de las distribuciones\n",
    "for d in dist_list:\n",
    "    param = getattr(st, d).fit(promedio_posicion2)\n",
    "    y_hat = getattr(st, d).pdf(x, *param)\n",
    "    ax.plot(x, y_hat, label=f'{d}')\n",
    "\n",
    "plt.legend()\n",
    "plt.show()\n",
    "\n",
    "# Error cuadrático medio para cada distribución\n",
    "print(error_df)"
   ]
  },
  {
   "cell_type": "code",
   "execution_count": null,
   "metadata": {},
   "outputs": [],
   "source": [
    "#Parámetros de distibución beta en nuestros datos\n",
    "params_Monaco = st.beta.fit(promedio_posicion2)\n",
    "params_Monaco"
   ]
  },
  {
   "cell_type": "code",
   "execution_count": null,
   "metadata": {},
   "outputs": [],
   "source": [
    "# Prueba de hipótesis\n",
    "st.kstest(promedio_posicion2, lambda promedio_posicion2: st.beta.cdf(promedio_posicion2,*params_Monaco))"
   ]
  },
  {
   "cell_type": "code",
   "execution_count": null,
   "metadata": {},
   "outputs": [],
   "source": [
    "params1 = getattr(st, dist).fit(promedio_posicion2)\n",
    "\n",
    "random_hat1 = getattr(st, dist).rvs(*params1, size = 100)\n",
    "\n",
    "plt.hist(promedio_posicion2, bins =15, label = 'data real', density = True)\n",
    "plt.hist(random_hat1, bins = 20, density = True, alpha = .5, label = 'data estimado')\n",
    "plt.legend()\n",
    "plt.show()"
   ]
  },
  {
   "cell_type": "code",
   "execution_count": null,
   "metadata": {},
   "outputs": [],
   "source": [
    "divisiones = 20\n",
    "fig, ax = plt.subplots(1, 1, figsize=(8, 5))\n",
    "\n",
    "grap2 = st.probplot(promedio_posicion2, dist='beta', sparams=getattr(st, 'beta').fit(promedio_posicion2)[:-2], plot=ax, fit=True)\n",
    "ax.grid()\n",
    "ax.set_title('Gráfico de Probabilidad Utilizando paquete scipy')\n",
    "\n",
    "plt.show()"
   ]
  },
  {
   "cell_type": "markdown",
   "metadata": {},
   "source": [
    "## Más probable a abandonar "
   ]
  },
  {
   "cell_type": "markdown",
   "metadata": {},
   "source": [
    "### Monza"
   ]
  },
  {
   "cell_type": "code",
   "execution_count": null,
   "metadata": {},
   "outputs": [],
   "source": [
    "def histo(Monza_GP):\n",
    "    # Define el número total de vueltas requeridas\n",
    "    vueltas_totales = 27\n",
    "\n",
    "    # Encuentra el último registro de cada piloto\n",
    "    ultimo_registro = Monza_GP.groupby('driverId')['currentLapNum'].max().reset_index()\n",
    "\n",
    "    # Filtra los pilotos que completaron exactamente las 27 vueltas y los que abandonaron\n",
    "    completaron = ultimo_registro[ultimo_registro['currentLapNum'] == vueltas_totales]\n",
    "    abandonaron = ultimo_registro[ultimo_registro['currentLapNum'] != vueltas_totales]\n",
    "\n",
    "    # Crea el histograma\n",
    "    plt.figure(figsize=(8, 6))\n",
    "    plt.bar(['Completaron', 'Abandonaron'], [len(completaron), len(abandonaron)], color=['green', 'red'], alpha=0.7)\n",
    "    plt.xlabel(\"Estado de los Pilotos\")\n",
    "    plt.ylabel(\"Cantidad de Pilotos\")\n",
    "    plt.title(\"Histograma de Pilotos en Monza (Completado vs. Abandono)\")\n",
    "    plt.show()\n",
    "\n",
    "    # Datos para calcular errores\n",
    "    y, x = np.histogram(completaron['currentLapNum'], bins=15, density=True)\n",
    "    x = (x + np.roll(x, -1))[:-1] / 2\n",
    "\n",
    "    # Inicializa un DataFrame para los errores\n",
    "    error_df = pd.DataFrame(columns=['Distribución', 'Error'])\n",
    "\n",
    "    # Lista de distribuciones de probabilidad\n",
    "    dist_list = ['bradford', 'beta', 'expon', 'exponnorm', 'norm', 'uniform', 'foldnorm', 'gennorm', 'ksone', 'kappa4', 'johnsonsb']\n",
    "\n",
    "    # Ajusta y calcula errores para cada distribución\n",
    "    for dist_name in dist_list:\n",
    "        dist = getattr(st, dist_name)\n",
    "        params = dist.fit(completaron['currentLapNum'])\n",
    "        y_hat = dist.pdf(x, *params)\n",
    "        error = np.mean((y - y_hat) ** 2)\n",
    "        error_df = error_df.append({'Distribución': dist_name, 'Error': error}, ignore_index=True)\n",
    "\n",
    "    # Muestra la tabla de errores\n",
    "    print(error_df)\n",
    "\n",
    "# Llama a la función con tus datos\n",
    "histo(Monza_GP)"
   ]
  },
  {
   "cell_type": "markdown",
   "metadata": {},
   "source": [
    "### Mónaco"
   ]
  },
  {
   "cell_type": "code",
   "execution_count": null,
   "metadata": {},
   "outputs": [],
   "source": [
    "# Define el número total de vueltas requeridas\n",
    "vueltas_totales = 39\n",
    "\n",
    "# Encuentra el último registro de cada piloto\n",
    "ultimo_registro = Monaco_GP.groupby('driverId')['currentLapNum'].max().reset_index()\n",
    "\n",
    "# Filtra los pilotos que completaron exactamente las 39 vueltas y los que abandonaron\n",
    "completaron = ultimo_registro[ultimo_registro['currentLapNum'] == vueltas_totales]\n",
    "abandonaron = ultimo_registro[ultimo_registro['currentLapNum'] != vueltas_totales]\n",
    "\n",
    "# Crea el histograma\n",
    "plt.figure(figsize=(10, 6))\n",
    "plt.bar(['Completaron', 'Abandonaron'], [len(completaron), len(abandonaron)], color=['green', 'red'], alpha=0.7)\n",
    "plt.xlabel(\"Estado de los Pilotos\")\n",
    "plt.ylabel(\"Cantidad de Pilotos\")\n",
    "plt.title(\"Histograma de Pilotos en Monaco (Completado vs. Abandono)\")\n",
    "plt.show()"
   ]
  },
  {
   "cell_type": "markdown",
   "metadata": {},
   "source": [
    "\n",
    "## 1.7 Visualización de resultados de simulación.\n",
    "> Se deben simular al menos 4  \"nodos\" o \"escenarios\" en tu problema. Para la segunda entrega debes haber elaborado un programa que simule dos de ellos, los primeros dos de tu diagrama.\n",
    "> Para la entrega final deben de tener los 4 nodos con todas sus simulaciones.\n",
    "\n"
   ]
  },
  {
   "cell_type": "markdown",
   "metadata": {},
   "source": [
    "### Simulación Vuelta Rápida"
   ]
  },
  {
   "cell_type": "markdown",
   "metadata": {},
   "source": [
    "A continuación, en los siguientes gráficos se puede observar la distribución de los tiempos por vuelta que se simularon para cada gran premio. Los tiempos que corresponden a la vuelta rápida se encontrarían en las colas de la distribución. Para visualizar y analizar los datos de forma correcta, se eliminaron los outliers de los datos simulados. Se decidió eliminarlos puesto que en carreras de F1 tienen regulaciones de aerodinámica que garantizan cierto rango de velocidades. En esta línea, un valor atípico superior significaría una falla mecánica o una vuelta de atraso, mientras que uno inferior es una velocidad atípica o una colisión. Para el propósito de identificar una vuelta rápida los outliers no son útiles. \n",
    "\n",
    "Para eliminarlos, se utilizará el método del rango intercuartílico. En Fórmula 1 la variación entre tiempos es muy poca, por lo que los outliers de la simulación en general serán los pilotos cuyas medias son desproporcionalmente mayores o menores a la media general, por lo que tal vez no aparezcan todos los pilotos en la visualización general."
   ]
  },
  {
   "cell_type": "code",
   "execution_count": null,
   "metadata": {},
   "outputs": [],
   "source": [
    "plt.figure()\n",
    "plt.hist(sim_dt_monaco['Tiempo Simulado'], bins=100, alpha=0.5, label='Monaco')  \n",
    "plt.hist(sim_dt_monza['Tiempo Simulado'], bins=100, alpha=0.5, label='Monza')  \n",
    "plt.legend()\n",
    "plt.title('Histograma de Tiempos simulados en los GP')\n",
    "plt.xlabel('Tiempo (s)')\n",
    "plt.show()"
   ]
  },
  {
   "cell_type": "markdown",
   "metadata": {},
   "source": [
    "**Vuelta rápida en Mónaco**\n",
    "\n",
    "El tiempo mínimo es en segundos. El piloto con la vuelta rápida en cada gran premio se indicará de color rojo en el gráfico de barras. También se observa un boxplot donde aparecen los pilotos cuyos tiempos no se consideraron outliers. Los pilotos con el boxplot más abajo son los más rápidos y los que tienen el boxplot más elevado fueron los más lentos."
   ]
  },
  {
   "cell_type": "code",
   "execution_count": null,
   "metadata": {
    "scrolled": true
   },
   "outputs": [],
   "source": [
    "visual_resultados_vr(monaco21_vr,'Pilotos más probables a hacer la vuelta rápida en Monaco 21')"
   ]
  },
  {
   "cell_type": "markdown",
   "metadata": {},
   "source": [
    "Para ilustrar por qué la decisión de eliminar outliers, se graficó el boxplot para cada piloto. Se puede observar que el tiempo de Nicholas Latifi es mucho mayor al de todos los pilotos por casi dos minutos. Incluirlo en el gráfico no permite visualizar los boxplots de los pilotos de interés, además de que por ser el objetivo identificar el piloto de vuelta rápida, incluir a este piloto no es útil y limita la visualización."
   ]
  },
  {
   "cell_type": "code",
   "execution_count": null,
   "metadata": {},
   "outputs": [],
   "source": [
    "boxplt(monaco_conoutliers,'Tiempos Simulados por Piloto')"
   ]
  },
  {
   "cell_type": "code",
   "execution_count": null,
   "metadata": {
    "scrolled": true
   },
   "outputs": [],
   "source": [
    "boxplt(sim_dt_monaco,'Tiempos Simulados por Piloto') #sin outliers de la simulación"
   ]
  },
  {
   "cell_type": "markdown",
   "metadata": {},
   "source": [
    "**Vuelta rápida en Monza**\n",
    "\n"
   ]
  },
  {
   "cell_type": "code",
   "execution_count": null,
   "metadata": {},
   "outputs": [],
   "source": [
    "visual_resultados_vr(monza21_vr,'Pilotos más probables a hacer la vuelta rápida en Monza 21')"
   ]
  },
  {
   "cell_type": "code",
   "execution_count": null,
   "metadata": {},
   "outputs": [],
   "source": [
    "boxplt(sim_dt_monza,'Tiempos Simulados por Piloto')"
   ]
  },
  {
   "cell_type": "markdown",
   "metadata": {},
   "source": [
    "### Simulacion de ganador del GP "
   ]
  },
  {
   "cell_type": "markdown",
   "metadata": {},
   "source": [
    "### Monza"
   ]
  },
  {
   "cell_type": "code",
   "execution_count": null,
   "metadata": {},
   "outputs": [],
   "source": [
    "# Ajusta la distribución kappa4 a los datos de Monza\n",
    "dist_name = 'kappa4'\n",
    "param = st.kappa4.fit(promedio_posicion)\n",
    "\n",
    "# Simula 1000 escenarios de tiempo de vuelta con la distribución Johnson SB\n",
    "num_simulaciones = 10000\n",
    "tiempos_simulados = st.kappa4.rvs(*param, size=num_simulaciones)\n",
    "\n",
    "# Determina el piloto ganador en cada escenario simulado\n",
    "piloto_ganador_simulaciones = []\n",
    "\n",
    "for _ in range(num_simulaciones):\n",
    "    tiempo_simulado = st.kappa4.rvs(*param)\n",
    "    piloto_ganador_simulaciones.append((tiempo_simulado, Monza_GP[Monza_GP['carPosition'] == min(Monza_GP['carPosition'])]['driverId'].values[0]))\n",
    "\n",
    "# Ordena los pilotos ganadores por tiempo simulado\n",
    "piloto_ganador_simulaciones.sort(key=lambda x: x[0])\n",
    "\n",
    "# El piloto más probable a ganar en Monza en el primer escenario simulado\n",
    "piloto_mas_probable_a_ganar = piloto_ganador_simulaciones[0][1]\n",
    "\n",
    "print(f\"El piloto más probable a ganar en Monza es: {piloto_mas_probable_a_ganar}\")"
   ]
  },
  {
   "cell_type": "code",
   "execution_count": null,
   "metadata": {},
   "outputs": [],
   "source": [
    "# Crea un histograma de los tiempos simulados\n",
    "plt.figure(figsize=(10, 6))\n",
    "plt.hist(tiempos_simulados, bins=30, edgecolor='black', alpha=0.7, density=True, label='Simulación')\n",
    "plt.xlabel('Tiempo de Vuelta Simulado')\n",
    "plt.ylabel('Frecuencia')\n",
    "plt.title('Histograma de Tiempos de Vuelta Simulados en Monza')\n",
    "plt.legend()\n",
    "plt.show()"
   ]
  },
  {
   "cell_type": "code",
   "execution_count": null,
   "metadata": {},
   "outputs": [],
   "source": [
    "# Crea un gráfico de densidad KDE para los tiempos de vuelta simulados\n",
    "plt.figure(figsize=(10, 6))\n",
    "sns.kdeplot(tiempos_simulados, shade=True, label='Simulación', color='blue')\n",
    "plt.xlabel('Tiempo de Vuelta Simulado')\n",
    "plt.ylabel('Densidad')\n",
    "plt.title('Gráfico de Densidad de Tiempos de Vuelta Simulados en Monza')\n",
    "plt.legend()\n",
    "plt.grid(True)\n",
    "plt.show()"
   ]
  },
  {
   "cell_type": "markdown",
   "metadata": {},
   "source": [
    "### Mónaco"
   ]
  },
  {
   "cell_type": "code",
   "execution_count": null,
   "metadata": {},
   "outputs": [],
   "source": [
    "# Ajusta la distribución beta a los datos de Monaco\n",
    "dist_name = 'beta'\n",
    "param = st.beta.fit(promedio_posicion2)\n",
    "\n",
    "# Simula 1000 escenarios de tiempo de vuelta con la distribución Johnson SB\n",
    "num_simulaciones = 10000\n",
    "tiempos_simulados = st.beta.rvs(*param, size=num_simulaciones)\n",
    "\n",
    "# Determina el piloto ganador en cada escenario simulado\n",
    "piloto_ganador_simulaciones = []\n",
    "\n",
    "for _ in range(num_simulaciones):\n",
    "    tiempo_simulado = st.beta.rvs(*param)\n",
    "    piloto_ganador_simulaciones.append((tiempo_simulado, Monaco_GP[Monaco_GP['carPosition'] == min(Monaco_GP['carPosition'])]['driverId'].values[0]))\n",
    "\n",
    "# Ordena los pilotos ganadores por tiempo simulado\n",
    "piloto_ganador_simulaciones.sort(key=lambda x: x[0])\n",
    "\n",
    "# El piloto más probable a ganar en Monza en el primer escenario simulado\n",
    "piloto_mas_probable_a_ganar = piloto_ganador_simulaciones[0][1]\n",
    "\n",
    "print(f\"El piloto más probable a ganar en Monaco es: {piloto_mas_probable_a_ganar}\")"
   ]
  },
  {
   "cell_type": "code",
   "execution_count": null,
   "metadata": {},
   "outputs": [],
   "source": [
    "# Crea un histograma de los tiempos simulados\n",
    "plt.figure(figsize=(10, 6))\n",
    "plt.hist(tiempos_simulados, bins=30, edgecolor='black', alpha=0.7, density=True, label='Simulación')\n",
    "plt.xlabel('Tiempo de Vuelta Simulado')\n",
    "plt.ylabel('Frecuencia')\n",
    "plt.title('Histograma de Tiempos de Vuelta Simulados en Monaco')\n",
    "plt.legend()\n",
    "plt.show()"
   ]
  },
  {
   "cell_type": "code",
   "execution_count": null,
   "metadata": {},
   "outputs": [],
   "source": [
    "# Crea un gráfico de densidad KDE para los tiempos de vuelta simulados\n",
    "plt.figure(figsize=(10, 6))\n",
    "sns.kdeplot(tiempos_simulados, shade=True, label='Simulación', color='blue')\n",
    "plt.xlabel('Tiempo de Vuelta Simulado')\n",
    "plt.ylabel('Densidad')\n",
    "plt.title('Gráfico de Densidad de Tiempos de Vuelta Simulados en Monza')\n",
    "plt.legend()\n",
    "plt.grid(True)\n",
    "plt.show()"
   ]
  },
  {
   "cell_type": "markdown",
   "metadata": {},
   "source": [
    "# Simulación de abandono"
   ]
  },
  {
   "cell_type": "markdown",
   "metadata": {},
   "source": [
    "### Monza"
   ]
  },
  {
   "cell_type": "code",
   "execution_count": null,
   "metadata": {},
   "outputs": [],
   "source": [
    "# Define el número total de vueltas requeridas\n",
    "vueltas_totales = 27\n",
    "\n",
    "# Obtén los pilotos\n",
    "pilotos_unicos = Monza_GP['driverId'].unique()\n",
    "\n",
    "abandonos_por_piloto = {piloto: 0 for piloto in pilotos_unicos}\n",
    "\n",
    "# Número de simulaciones\n",
    "num_simulaciones = 10000\n",
    "\n",
    "# Realiza la simulación\n",
    "for _ in range(num_simulaciones):\n",
    "    for piloto in pilotos_unicos:\n",
    "        # Verifica si el piloto abandona o completa la carrera\n",
    "        abandona = False\n",
    "        if piloto in abandonos_por_piloto:\n",
    "            abandonos_previos = abandonos_por_piloto[piloto]\n",
    "            if abandonos_previos < vueltas_totales:\n",
    "                abandona = True\n",
    "                abandonos_por_piloto[piloto] += 1\n",
    "        else:\n",
    "            abandonos_por_piloto[piloto] = 1 if piloto not in abandonos_por_piloto else 0\n",
    "        \n",
    "# Encuentra el piloto que más veces abandonó\n",
    "piloto_mas_probable_abandonar = max(abandonos_por_piloto, key=abandonos_por_piloto.get)\n",
    "\n",
    "# Imprimir el piloto más probable de abandonar\n",
    "print(\"Piloto más probable de abandonar:\", piloto_mas_probable_abandonar)"
   ]
  },
  {
   "cell_type": "markdown",
   "metadata": {},
   "source": [
    "### Mónaco"
   ]
  },
  {
   "cell_type": "code",
   "execution_count": null,
   "metadata": {},
   "outputs": [],
   "source": [
    "# Define el número total de vueltas requeridas\n",
    "vueltas_totales = 39\n",
    "\n",
    "# Obtén los pilotos únicos en el DataFrame\n",
    "pilotos_unicos = Monaco_GP['driverId'].unique()\n",
    "\n",
    "# Inicializa un diccionario para realizar un seguimiento de los pilotos que abandonaron\n",
    "abandonos_por_piloto = {piloto: 0 for piloto in pilotos_unicos}\n",
    "\n",
    "# Número de simulaciones\n",
    "num_simulaciones = 10000\n",
    "\n",
    "# Realiza la simulación\n",
    "for _ in range(num_simulaciones):\n",
    "    for piloto in pilotos_unicos:\n",
    "        # Verifica si el piloto abandona o completa la carrera\n",
    "        abandona = False\n",
    "        if piloto in abandonos_por_piloto:\n",
    "            abandonos_previos = abandonos_por_piloto[piloto]\n",
    "            if abandonos_previos < vueltas_totales:\n",
    "                abandona = True\n",
    "                abandonos_por_piloto[piloto] += 1\n",
    "        else:\n",
    "            abandonos_por_piloto[piloto] = 1 if piloto not in abandonos_por_piloto else 0\n",
    "        \n",
    "# Encuentra el piloto que más veces abandonó\n",
    "piloto_mas_probable_abandonar = max(abandonos_por_piloto, key=abandonos_por_piloto.get)\n",
    "\n",
    "# Imprimir el piloto más probable de abandonar\n",
    "print(\"Piloto más probable de abandonar:\", piloto_mas_probable_abandonar)"
   ]
  },
  {
   "cell_type": "markdown",
   "metadata": {},
   "source": [
    "### 1.6 Conclusiones.\n",
    "> **Vuelta Rápida**\n",
    "   - En Mónaco se obtuvo como resultado que el piloto más probable a realizar la vuelta rápida con P = 28% es Lewis Hamilton. Este resultado fue certero, dado que en 2021 el piloto que hizo la vuelta rápida fue efectivamente L. Hamilton. \n",
    "   \n",
    ">   \n",
    "   - En Monza se obtuvieron dos pilotos equiprobables de hacer la vuelta rápida con una probabilidad del 14%. Estos pilotos son Lando Norris y Daniel Riccardo. En la hipótesis se menciona que Daniel Riccardo fue quien hizo la vuelta rápida en 2021, por lo que simulación es certera pero también arroja otro posible resultado.\n",
    "   \n",
    ">   \n",
    "   - Se pudo observar que la velocidad alcanzada también es influida por el GP. En Monaco, donde por su pista el movimiento de pocisiones depende de la potencia del monoplaza, se puede observar que solo 4 pilotos tuvieron posibilidad de hacer la vuelta rápida. Estos pilotos pertenecían a las escuderías de Ferrari, Mercedes y RedBull, las cuales tienen los motores con mejor potencia en esta temporada. Este comportamiento no se observó en Monza, donde más pilotos de otras escuderían tenían posibilidad de hacer la vuelta rápida. \n",
    "### 1.7 Referencias.\n",
    "> Citar (en formato APA) la bibliografía utilizada.\n",
    "    - F, S. (2023). STATS F1. https://www.statsf1.com/es/default.aspx"
   ]
  },
  {
   "cell_type": "markdown",
   "metadata": {},
   "source": [
    "___\n",
    "## 2. Especificaciones adicionales.\n",
    "En el grupo deben haber mínimo dos integrantes y máximo tres integrantes. Para propósitos logísticos nada más, por favor enumérense como *integrante 1*, *integrante 2* e *integrante 3*.\n",
    "\n",
    "### 2.1 Notebook de jupyter. \n",
    "> Los anteriores numerales los deben desarrollar todos en un notebook de jupyter y llamarlo de la siguiente manera `ProyectoModulo1_ApellidoN1_ApellidoN2_ApellidoN3`, donde `ApellidoNi` hace referencia al apellido materno y la inicial del primer nombre del integrante `i`.\n",
    "\n",
    "### 2.2 Proyecto en `GitHub`.\n",
    "> El integrante 1 deberá crear un proyecto en `GitHub` llamado **proyecto_modulo1**, donde tendrán todos los archivos relacionados con el proyecto. Los demás integrantes deben hacer un *fork* del proyecto, seguir el proyecto principal con `GitKraken` y hacer al menos dos contribuciones con *pull request* (como se hizo en la tarea). En el proyecto, deben incluir el repositorio remoto del integrante 1.\n",
    "\n",
    "### 2.3 Presentación.\n",
    "> Recuerden que la nota del proyecto es mitad el trabajo, y mitad la presentación. Deben hacer una presentación utlizando un notebook de python para presentar el trabajo durante un horario de clase que se será posteriomente definido. La presentación, además de llevar todos los componentes básicos descritos en el entregable, debe llevar una tabla de contenido.\n",
    "> - Presentación: 10 minutos.\n",
    "> - Seguir estas recomendaciones: https://es.slideshare.net/MeireComputacion/power-point-pautas-para-una-buen-trabajo"
   ]
  },
  {
   "cell_type": "markdown",
   "metadata": {},
   "source": [
    "<script>\n",
    "  $(document).ready(function(){\n",
    "    $('div.prompt').hide();\n",
    "    $('div.back-to-top').hide();\n",
    "    $('nav#menubar').hide();\n",
    "    $('.breadcrumb').hide();\n",
    "    $('.hidden-print').hide();\n",
    "  });\n",
    "</script>\n",
    "\n",
    "<footer id=\"attribution\" style=\"float:right; color:#808080; background:#fff;\">\n",
    "Created with Jupyter by Esteban Jiménez Rodríguez.\n",
    "</footer>"
   ]
  }
 ],
 "metadata": {
  "kernelspec": {
   "display_name": "Python 3",
   "language": "python",
   "name": "python3"
  },
  "language_info": {
   "codemirror_mode": {
    "name": "ipython",
    "version": 3
   },
   "file_extension": ".py",
   "mimetype": "text/x-python",
   "name": "python",
   "nbconvert_exporter": "python",
   "pygments_lexer": "ipython3",
   "version": "3.7.7"
  }
 },
 "nbformat": 4,
 "nbformat_minor": 2
}
