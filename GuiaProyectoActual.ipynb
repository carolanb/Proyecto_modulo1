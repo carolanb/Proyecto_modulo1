{
 "cells": [
  {
   "cell_type": "markdown",
   "metadata": {},
   "source": [
    "___\n",
    "<img style=\"float: left; margin: 30px 15px 15px 15px;\" src=\"https://d33wubrfki0l68.cloudfront.net/4ec62c1c925a380c912ddad740d18554c6822a11/fabe4/img/sponsors/iteso-university.png\" width=\"300\" height=\"500\" /> \n",
    "    \n",
    "    \n",
    "### <font color='navy'> Simulación de procesos financieros. \n",
    "\n",
    "**Nombres:** Carola Navarro Badía y Ana Luisa Espinoza López.\n",
    "\n",
    "**Fecha:** 06 de octubre del 2023.\n",
    "\n",
    "**Expediente** : if722049 e if734753.\n",
    "**Profesor:** Oscar David Jaramillo Zuluaga.\n",
    "    \n",
    "**Link Github**: Link con el enlace del repositorio del creador del proyecto\n",
    "\n",
    "# Proyecto TEMA-2"
   ]
  },
  {
   "cell_type": "markdown",
   "metadata": {},
   "source": [
    "<img style=\"float: right; margin: 0px 0px 15px 15px;\" src=\"https://upload.wikimedia.org/wikipedia/commons/b/b6/Proyecto_en_construccion.jpg\" width=\"300px\" height=\"100px\" />\n",
    "\n",
    "\n",
    "# Proyecto Módulo 2- Guía.\n",
    "> Se especifican los componentes básicos que deberá tener cada proyecto. El proyecto debe ser un problema que utilice datos reales, ya sea de una empresa física real o de alguna página de internet que proporcione bases de datos confiables. Con la información obtenida, se pretende utilizar todas las herramientas vistas durante el curso para la correcta modelación y simulación del cierto problema con ciertas variables de interés."
   ]
  },
  {
   "attachments": {
    "nodos%20proyecto.png": {
     "image/png": "[encoded data removed]"
    }
   },
   "cell_type": "markdown",
   "metadata": {},
   "source": [
    "___\n",
    "## 1. Entregable.\n",
    "Los trabajos deben tener los siguientes componentes básicos.\n",
    "\n",
    "### 1.1 Probabilidades para apuestas F1\n",
    "> Carreras de Fórmula 1 de la temporada 2020.\n",
    "\n",
    "### 1.2 Objetivos.\n",
    "\n",
    "> #### 1.1 Generar información de probabilidad para apuestas en temporada 2021 de F1.\n",
    "\n",
    "> #### 1.2 Objetivos específicos\n",
    ">  - De forma detallada describen cada una de los componentes del trabajo.\n",
    ">  - En conjunto garantizan la consecución del objetivo general.\n",
    "\n",
    "Referencia:\n",
    "- https://es.slideshare.net/rosbur/metodologia-objetivos-generales-y-especficos\n",
    "\n",
    "### 1.3 Definición del problema.\n",
    "> Se seleccionó una base de datos de las carreras de Fórmula 1 de la temporada 2020. Dicho dataset contiene los datos de telemetría, condiciones de pista, tiempos de sectores de pista por cada carrera y los datos de pilotos. En estos archivos se encuentran datos de tiempo de vuelta por piloto por cada gran premio, en total de la vuelta y en cada sector. En el data set se presentan otros datos de telemetría, condiciones de temperatura de la pista y desgaste de llantas los cuales no serán utilizados para este proyecto \n",
    "\n",
    "> Con este dataset buscamos modelar las distribuciones de probabilidad de ganar el gran premio, hacer la vuelta rápida o abandonar el gran premio. Se tomarán en cuenta los datos de tiempo por vuelta de cada piloto para 4 gran premios, los cuales serán los nodos. Se esocogieron como nodos puesto que en las casas de apuesta, las apuestas se realizan por gran premio, se seleccionaron los GP de Monza, Monaco, Silverstone y Spa ya que son de los más populares.\n",
    "\n",
    "> A continuación se presenta un diagrama con los flujos y nodos a simular \n",
    "\n",
    "![nodos%20proyecto.png](attachment:nodos%20proyecto.png)\n",
    "\n",
    "### 1.4 Nodos y variables que se decidieron simular y porqué\n",
    "> Se seleccionaron como nodos 4 Grandes Premios de la temporada 2020. Se seleccionaron como nodos los Grandes Premios porque en cada carrera se realizan apuestas sobre qué piloto será el ganador, quién hará la vuelta rápida, quién es más probable a abandonar, entre otras. Utilizando los GP como nodos permite utilizar los datos de todos los pilotos por lo que se pierde menos información. En esta línea, cada Gran Premio tiene condiciones distintas, por lo que la tendencia del tiempo por vuelta cambia de acuerdo a la pista, clasificando los datos por GP evita el sesgo de datos.\n",
    "\n",
    "> Ahora, para las variables, en cada gran premio se simularán 3 variables: \n",
    "    - el ganador\n",
    "    - quién realiza la vuelta rápida \n",
    "    - quién es más probable a abandonar la carrera. \n",
    "\n",
    "> En los datos se tienen el tiempo en segundos por vuelta de cada piloto de cada gran premio. Para determinar el ganador de la carrera se suman los tiempos de las vueltas de cada piloto (los pilotos que tengan el mismo número de vueltas que las totales del circuito) y el que tenga menor tiempo es el ganador. Para la vuelta rápida, de los pilotos con el mismo número de vueltas que las totales del circuito, se revisa cual fue el menor tiempo y cuál fue el piloto. Finalmente, para determinar los pilotos que abandonaron la carrera se revisará por Gran Premio quienes tienen menos vueltas que las totales del circuito. \n",
    "\n",
    "  \n",
    "\n",
    "### 1.5 Definición de hipótesis y supuestos.\n",
    ">  Para poder modelar un proceso de negocio o cualquiera otro proceso en el área de las ingenierías o ciencias sociales, después de identificar el objeto de estudio, es importante indicar cuales son los supuestos que se dan por verdaderos a lo largo de la ejecución del proceso. Estos supuestos se deben indicar en forma de variables e hipótesis (son diferentes), porque si puedes definir en un valor el supuesto lo llamaremos \"supuesto constante\" y si no es posible identificarlo con un número entonces será una hipótesis que afectará la construcción de los escenarios posibles del proceso.\n",
    "\n",
    "   > Al ser una temporada pasada, la simulación con estos datos históricos (Temporada 2020) serán útiles para la temporada del 2021 de la Fórmula 1. Para validar que las simulaciones permitan la realización de conclusiones congruentes para la temporada 2021, se compararán con las estadísticas de la temporada 2021. De acuerdo con SoyMotor (2021):\n",
    "   \n",
    "   - Ganadores más problables del GP Monza: \n",
    "       1. Max Verstappen\n",
    "       2. Lewis Hamilton\n",
    "       3. Lando Norris    \n",
    "       \n",
    "       \n",
    "   - Ganadores más problables del GP Monaco: \n",
    "       1. Max Verstappen\n",
    "       2. Carlos Sainz\n",
    "       3. Lando Norris    \n",
    "       \n",
    "       \n",
    "   - Ganadores más problables del GP Silverstone: \n",
    "       1. Lewis Hamilton\n",
    "       2. Charles Leclerc\n",
    "       3. Valtteri Bottas\n",
    "       \n",
    "       \n",
    "   - Ganadores más problables del GP Spa: \n",
    "       1. Max Verstappen\n",
    "       2. George Russell\n",
    "       3. Lewis Hamilton \n",
    "       \n",
    "       \n",
    "   - Pilotos más probables a realizar la vuelta rápida:\n",
    "        1. Lewis Hamilton\n",
    "        2. Max Verstappen\n",
    "        3. Valtteri Bottas\n",
    "        4. Sergio Perez\n",
    "        5. Lando Norris\n",
    "        \n",
    "        \n",
    "   - Pilotos más probables a abandonar la carrera:\n",
    "        1. George Russell\n",
    "        2. Valtteri Bottas\n",
    "        3. Nicholas Latifi"
   ]
  },
  {
   "cell_type": "markdown",
   "metadata": {},
   "source": [
    "### 1.6 Obtención de bases de datos\n",
    "> El tercer paso del proyecto es indicar de dónde se obtendrán las bases de datos, que indican como se han comportado las variables que identificaste en tu proceso de negocio que vas a simular. En esta investigación debes haber encontrado información propia de la empresa, organización o institución que vas a simular y otra parte de la información debe provenir de investigación que realices en fuentes de información públicas o privadas como las que tiene SECOBI, ahí normalmente y dependiendo del problema elegido, se investigan variables económicas, como tasas de interés, inflación, tipo de cambio, etc., de varios años, por poner un ejemplo.\n",
    "\n"
   ]
  },
  {
   "cell_type": "markdown",
   "metadata": {},
   "source": [
    ">La base de datos que se utilizará para este proyecto fue obtenida de \"https://www.kaggle.com/datasets/coni57/f1-2020-race-data\" en la cual se pueden ver los tiempos de cada piloto en distintas pistas, las llantas utilizadas y las condiciones de cada pista. Esta base de datos se divide en cuatro categorías: \n",
    "\n",
    "1. Datos de la sesión \n",
    "    - incluye: nombre del GP, clima, temperatura del aire y de la pista y total de vueltas por pista\n",
    "    \n",
    "    \n",
    "2. Datos de participantes\n",
    "    - incluye: lista del nombre de pilotos, un index de piloto, escudería, maxRPM y idleRPM\n",
    "\n",
    "\n",
    "3. Datos de tiempos de la carrera\n",
    "    - incluye: índice de pilotos, tiempo total de vuelta, posición, vuelta actual y tiempos por sector\n",
    "\n",
    "\n",
    "4. Datos de telemetría\n",
    "    - incluye: combustible, desgaste de llanta, entre otros.\n",
    "\n",
    "Para los objetivos de este proyecto, se utilizaron datos de las primeras tres categorías. En total la base de datos se componía de 88 archivos de excel por lo que se requirió procesar los datos utilizando la librería de pandas para poder utilizar los datos.\n"
   ]
  },
  {
   "cell_type": "code",
   "execution_count": 1,
   "metadata": {},
   "outputs": [],
   "source": [
    "import pandas as pd"
   ]
  },
  {
   "cell_type": "code",
   "execution_count": 2,
   "metadata": {
    "scrolled": true
   },
   "outputs": [
    {
     "data": {
      "text/html": [
       "<div>\n",
       "<style scoped>\n",
       "    .dataframe tbody tr th:only-of-type {\n",
       "        vertical-align: middle;\n",
       "    }\n",
       "\n",
       "    .dataframe tbody tr th {\n",
       "        vertical-align: top;\n",
       "    }\n",
       "\n",
       "    .dataframe thead th {\n",
       "        text-align: right;\n",
       "    }\n",
       "</style>\n",
       "<table border=\"1\" class=\"dataframe\">\n",
       "  <thead>\n",
       "    <tr style=\"text-align: right;\">\n",
       "      <th></th>\n",
       "      <th>pilot_index</th>\n",
       "      <th>LapTime</th>\n",
       "      <th>carPosition</th>\n",
       "      <th>currentLapNum</th>\n",
       "      <th>GP</th>\n",
       "      <th>driverId</th>\n",
       "    </tr>\n",
       "  </thead>\n",
       "  <tbody>\n",
       "    <tr>\n",
       "      <th>0</th>\n",
       "      <td>0</td>\n",
       "      <td>92.11968</td>\n",
       "      <td>16</td>\n",
       "      <td>1</td>\n",
       "      <td>Mexico</td>\n",
       "      <td>Pierre Gasly</td>\n",
       "    </tr>\n",
       "    <tr>\n",
       "      <th>1</th>\n",
       "      <td>0</td>\n",
       "      <td>82.83808</td>\n",
       "      <td>17</td>\n",
       "      <td>2</td>\n",
       "      <td>Mexico</td>\n",
       "      <td>Pierre Gasly</td>\n",
       "    </tr>\n",
       "    <tr>\n",
       "      <th>2</th>\n",
       "      <td>0</td>\n",
       "      <td>83.18610</td>\n",
       "      <td>16</td>\n",
       "      <td>3</td>\n",
       "      <td>Mexico</td>\n",
       "      <td>Pierre Gasly</td>\n",
       "    </tr>\n",
       "    <tr>\n",
       "      <th>3</th>\n",
       "      <td>0</td>\n",
       "      <td>83.25229</td>\n",
       "      <td>15</td>\n",
       "      <td>4</td>\n",
       "      <td>Mexico</td>\n",
       "      <td>Pierre Gasly</td>\n",
       "    </tr>\n",
       "    <tr>\n",
       "      <th>4</th>\n",
       "      <td>0</td>\n",
       "      <td>83.40625</td>\n",
       "      <td>14</td>\n",
       "      <td>5</td>\n",
       "      <td>Mexico</td>\n",
       "      <td>Pierre Gasly</td>\n",
       "    </tr>\n",
       "    <tr>\n",
       "      <th>...</th>\n",
       "      <td>...</td>\n",
       "      <td>...</td>\n",
       "      <td>...</td>\n",
       "      <td>...</td>\n",
       "      <td>...</td>\n",
       "      <td>...</td>\n",
       "    </tr>\n",
       "    <tr>\n",
       "      <th>12904</th>\n",
       "      <td>19</td>\n",
       "      <td>97.41235</td>\n",
       "      <td>1</td>\n",
       "      <td>25</td>\n",
       "      <td>Austin</td>\n",
       "      <td>Valtteri Bottas</td>\n",
       "    </tr>\n",
       "    <tr>\n",
       "      <th>12905</th>\n",
       "      <td>19</td>\n",
       "      <td>97.20898</td>\n",
       "      <td>1</td>\n",
       "      <td>26</td>\n",
       "      <td>Austin</td>\n",
       "      <td>Valtteri Bottas</td>\n",
       "    </tr>\n",
       "    <tr>\n",
       "      <th>12906</th>\n",
       "      <td>19</td>\n",
       "      <td>97.19995</td>\n",
       "      <td>1</td>\n",
       "      <td>27</td>\n",
       "      <td>Austin</td>\n",
       "      <td>Valtteri Bottas</td>\n",
       "    </tr>\n",
       "    <tr>\n",
       "      <th>12907</th>\n",
       "      <td>19</td>\n",
       "      <td>95.96313</td>\n",
       "      <td>1</td>\n",
       "      <td>28</td>\n",
       "      <td>Austin</td>\n",
       "      <td>Valtteri Bottas</td>\n",
       "    </tr>\n",
       "    <tr>\n",
       "      <th>12908</th>\n",
       "      <td>19</td>\n",
       "      <td>0.00889</td>\n",
       "      <td>1</td>\n",
       "      <td>29</td>\n",
       "      <td>Austin</td>\n",
       "      <td>Valtteri Bottas</td>\n",
       "    </tr>\n",
       "  </tbody>\n",
       "</table>\n",
       "<p>12909 rows × 6 columns</p>\n",
       "</div>"
      ],
      "text/plain": [
       "       pilot_index   LapTime  carPosition  currentLapNum      GP  \\\n",
       "0                0  92.11968           16              1  Mexico   \n",
       "1                0  82.83808           17              2  Mexico   \n",
       "2                0  83.18610           16              3  Mexico   \n",
       "3                0  83.25229           15              4  Mexico   \n",
       "4                0  83.40625           14              5  Mexico   \n",
       "...            ...       ...          ...            ...     ...   \n",
       "12904           19  97.41235            1             25  Austin   \n",
       "12905           19  97.20898            1             26  Austin   \n",
       "12906           19  97.19995            1             27  Austin   \n",
       "12907           19  95.96313            1             28  Austin   \n",
       "12908           19   0.00889            1             29  Austin   \n",
       "\n",
       "              driverId  \n",
       "0         Pierre Gasly  \n",
       "1         Pierre Gasly  \n",
       "2         Pierre Gasly  \n",
       "3         Pierre Gasly  \n",
       "4         Pierre Gasly  \n",
       "...                ...  \n",
       "12904  Valtteri Bottas  \n",
       "12905  Valtteri Bottas  \n",
       "12906  Valtteri Bottas  \n",
       "12907  Valtteri Bottas  \n",
       "12908  Valtteri Bottas  \n",
       "\n",
       "[12909 rows x 6 columns]"
      ]
     },
     "execution_count": 2,
     "metadata": {},
     "output_type": "execute_result"
    }
   ],
   "source": [
    "#datos procesados en crudo\n",
    "data_raw= pd.read_excel(\"data.xlsx\")\n",
    "dt = pd.DataFrame(data_raw)\n",
    "dt"
   ]
  },
  {
   "cell_type": "code",
   "execution_count": 4,
   "metadata": {},
   "outputs": [],
   "source": [
    "def datos_nodos(l:'lista de nombres de GP',dt:'dataFrame con todos los datos'):\n",
    "    a = dt[dt['GP'] == l[0]]\n",
    "    b = dt[dt['GP'] == l[1]]\n",
    "    c = dt[dt['GP'] == l[2]]\n",
    "    d = dt[dt['GP'] == l[3]]\n",
    "    return a,b,c,d"
   ]
  },
  {
   "cell_type": "code",
   "execution_count": 5,
   "metadata": {},
   "outputs": [],
   "source": [
    "# Datos tentativos para nodos\n",
    "l = ['Monza','Monaco','Silverstone','Spa']\n",
    "Monza_GP, Monaco_GP, Silverstone_GP, Spa_GP = datos_nodos(l,dt)"
   ]
  },
  {
   "cell_type": "code",
   "execution_count": 9,
   "metadata": {},
   "outputs": [
    {
     "name": "stderr",
     "output_type": "stream",
     "text": [
      "C:\\Users\\analo\\anaconda3\\lib\\site-packages\\pandas\\core\\frame.py:4913: SettingWithCopyWarning: \n",
      "A value is trying to be set on a copy of a slice from a DataFrame\n",
      "\n",
      "See the caveats in the documentation: https://pandas.pydata.org/pandas-docs/stable/user_guide/indexing.html#returning-a-view-versus-a-copy\n",
      "  errors=errors,\n"
     ]
    }
   ],
   "source": [
    "dataframes = [Monza_GP, Monaco_GP, Silverstone_GP, Spa_GP]\n",
    "for df in dataframes:\n",
    "    df.drop('pilot_index', axis=1, inplace=True)"
   ]
  },
  {
   "cell_type": "code",
   "execution_count": 10,
   "metadata": {
    "scrolled": true
   },
   "outputs": [],
   "source": [
    "#Diccionario con nombre de pilotos y número del 0 al 20 asociado\n",
    "p= pd.read_excel(\"participant_racet.xlsx\")\n",
    "pilotos = pd.DataFrame(p)\n",
    "pilotos = pilotos['driverId'].iloc[:19]\n",
    "pilotos = pilotos.tolist()\n",
    "pi = [i for i in range(20)]\n",
    "p_id = dict(zip(pi,pilotos))"
   ]
  },
  {
   "cell_type": "code",
   "execution_count": 13,
   "metadata": {
    "scrolled": true
   },
   "outputs": [],
   "source": [
    "#total de vueltas: Monza, Monaco, Silverstone, Spa\n",
    "#número de vueltas reducidas por Covid 19 \n",
    "v_totales = [27, 39, 26, 22]"
   ]
  },
  {
   "cell_type": "markdown",
   "metadata": {},
   "source": [
    "## Piloto más probable a realizar la vuelta rápida"
   ]
  },
  {
   "cell_type": "code",
   "execution_count": 16,
   "metadata": {},
   "outputs": [],
   "source": [
    "import numpy as np"
   ]
  },
  {
   "cell_type": "markdown",
   "metadata": {},
   "source": [
    "### simulación Montecarlo"
   ]
  },
  {
   "cell_type": "code",
   "execution_count": 54,
   "metadata": {
    "scrolled": true
   },
   "outputs": [],
   "source": [
    "nodos_1_2 = pd.concat([Monza_GP, Monaco_GP], ignore_index=True) #nodos 1 y 2\n",
    "\n",
    "#obtiene el promedio de vueltas de los pilotos en cada gran premio\n",
    "avlaps = nodos_1_2.groupby(['GP', 'driverId'])['LapTime'].mean()\n"
   ]
  },
  {
   "cell_type": "code",
   "execution_count": 58,
   "metadata": {},
   "outputs": [
    {
     "name": "stdout",
     "output_type": "stream",
     "text": [
      "El piloto más probable a hacer la vuelta rápida en Monaco es: Max Verstappen\n",
      "El piloto más probable a hacer la vuelta rápida en Monza es: Carlos Sainz\n"
     ]
    }
   ],
   "source": [
    "N = 10000\n",
    "\n",
    "sim_lap_t = [(gp,pilot,time) for (gp, pilot), avg_time in avlaps.items() for time in np.random.normal(avg_time, scale=1, size=N)]\n",
    "\n",
    "# Convertir los datos simulados en un DataFrame\n",
    "sim_data = pd.DataFrame(sim_lap_t, columns=['Gran Premio', 'Piloto', 'Tiempo Simulado'])\n",
    "min_times = sim_data.groupby(['Gran Premio', 'Piloto'])['Tiempo Simulado'].min()\n",
    "\n",
    "#lista con los nombres de los pilotos con menor tiempo de vuelta en la simulación en cada GP\n",
    "p_vr = list(sim_data.loc[sim_data.groupby('Gran Premio')['Tiempo Simulado'].idxmin()]['Piloto']) \n",
    "\n",
    "print(f'El piloto más probable a hacer la vuelta rápida en Monaco es: {p_vr[0]}')\n",
    "print(f'El piloto más probable a hacer la vuelta rápida en Monza es: {p_vr[1]}')"
   ]
  },
  {
   "cell_type": "code",
   "execution_count": 60,
   "metadata": {},
   "outputs": [
    {
     "data": {
      "text/plain": [
       "400000"
      ]
     },
     "execution_count": 60,
     "metadata": {},
     "output_type": "execute_result"
    }
   ],
   "source": [
    "len(simulated_lap_times) #simuló 10000 veces el tiempo de vuelta de cada piloto en 2 GP"
   ]
  },
  {
   "cell_type": "markdown",
   "metadata": {},
   "source": [
    "## Piloto más probable a abandonar"
   ]
  },
  {
   "cell_type": "code",
   "execution_count": 55,
   "metadata": {
    "scrolled": true
   },
   "outputs": [],
   "source": [
    "#función para filtrar a los pilotos que no terminaron la carrera\n",
    "def filtro_nvueltas(df:'DataFrame GP',nv:'total de vueltas del GP'):\n",
    "    conteo_nombres = df['driverId'].value_counts()\n",
    "    # Lista de pilotos con exactamente nv datos\n",
    "    tl = conteo_nombres[conteo_nombres == nv].index.tolist() #tl por total laps\n",
    "    nt = conteo_nombres[conteo_nombres < nv].index.tolist() #lista de pilotos con menos vueltas a las totales\n",
    "    # Filtrar el DataFrame \n",
    "    df_filtrado = df[df['driverId'].isin(n_tl)]\n",
    "    return df_filtrado, nt"
   ]
  },
  {
   "cell_type": "markdown",
   "metadata": {},
   "source": [
    "\n",
    "### 1.7 Visualización de resultados de simulación.\n",
    "> Se deben simular al menos 4  \"nodos\" o \"escenarios\" en tu problema. Para la segunda entrega debes haber elaborado un programa que simule dos de ellos, los primeros dos de tu diagrama.\n",
    "> Para la entrega final deben de tener los 4 nodos con todas sus simulaciones.\n",
    "\n",
    "### 1.6 Conclusiones.\n",
    "> Mucho cuidado, las conclusiones no son cualquier cosa. Se debe concluir respecto a los objetivos planteados de acuerdo a los resultados obtenidos.\n",
    "\n",
    "### 1.7 Referencias.\n",
    "> Citar (en formato APA) la bibliografía utilizada.\n",
    "    - F, S. (2023). STATS F1. https://www.statsf1.com/es/default.aspx"
   ]
  },
  {
   "cell_type": "markdown",
   "metadata": {},
   "source": [
    "___\n",
    "## 2. Especificaciones adicionales.\n",
    "En el grupo deben haber mínimo dos integrantes y máximo tres integrantes. Para propósitos logísticos nada más, por favor enumérense como *integrante 1*, *integrante 2* e *integrante 3*.\n",
    "\n",
    "### 2.1 Notebook de jupyter. \n",
    "> Los anteriores numerales los deben desarrollar todos en un notebook de jupyter y llamarlo de la siguiente manera `ProyectoModulo1_ApellidoN1_ApellidoN2_ApellidoN3`, donde `ApellidoNi` hace referencia al apellido materno y la inicial del primer nombre del integrante `i`.\n",
    "\n",
    "### 2.2 Proyecto en `GitHub`.\n",
    "> El integrante 1 deberá crear un proyecto en `GitHub` llamado **proyecto_modulo1**, donde tendrán todos los archivos relacionados con el proyecto. Los demás integrantes deben hacer un *fork* del proyecto, seguir el proyecto principal con `GitKraken` y hacer al menos dos contribuciones con *pull request* (como se hizo en la tarea). En el proyecto, deben incluir el repositorio remoto del integrante 1.\n",
    "\n",
    "### 2.3 Presentación.\n",
    "> Recuerden que la nota del proyecto es mitad el trabajo, y mitad la presentación. Deben hacer una presentación utlizando un notebook de python para presentar el trabajo durante un horario de clase que se será posteriomente definido. La presentación, además de llevar todos los componentes básicos descritos en el entregable, debe llevar una tabla de contenido.\n",
    "> - Presentación: 10 minutos.\n",
    "> - Seguir estas recomendaciones: https://es.slideshare.net/MeireComputacion/power-point-pautas-para-una-buen-trabajo"
   ]
  },
  {
   "cell_type": "markdown",
   "metadata": {},
   "source": [
    "<script>\n",
    "  $(document).ready(function(){\n",
    "    $('div.prompt').hide();\n",
    "    $('div.back-to-top').hide();\n",
    "    $('nav#menubar').hide();\n",
    "    $('.breadcrumb').hide();\n",
    "    $('.hidden-print').hide();\n",
    "  });\n",
    "</script>\n",
    "\n",
    "<footer id=\"attribution\" style=\"float:right; color:#808080; background:#fff;\">\n",
    "Created with Jupyter by Esteban Jiménez Rodríguez.\n",
    "</footer>"
   ]
  }
 ],
 "metadata": {
  "kernelspec": {
   "display_name": "Python 3",
   "language": "python",
   "name": "python3"
  },
  "language_info": {
   "codemirror_mode": {
    "name": "ipython",
    "version": 3
   },
   "file_extension": ".py",
   "mimetype": "text/x-python",
   "name": "python",
   "nbconvert_exporter": "python",
   "pygments_lexer": "ipython3",
   "version": "3.7.6"
  }
 },
 "nbformat": 4,
 "nbformat_minor": 2
}
