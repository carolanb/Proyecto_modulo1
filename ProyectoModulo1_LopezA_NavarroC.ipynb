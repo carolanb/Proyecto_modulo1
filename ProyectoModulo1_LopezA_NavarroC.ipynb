{
 "cells": [
  {
   "cell_type": "markdown",
   "metadata": {},
   "source": [
    "___\n",
    "<img style=\"float: left; margin: 30px 15px 15px 15px;\" src=\"https://d33wubrfki0l68.cloudfront.net/4ec62c1c925a380c912ddad740d18554c6822a11/fabe4/img/sponsors/iteso-university.png\" width=\"300\" height=\"500\" /> \n",
    "    \n",
    "    \n",
    "### <font color='navy'> Simulación de procesos financieros. \n",
    "\n",
    "**Nombres:** Carola Navarro Badía y Ana Luisa Espinoza López.\n",
    "\n",
    "**Fecha:** 07 de octubre del 2023.\n",
    "\n",
    "**Expediente** : if722049 e if734753.\n",
    "**Profesor:** Oscar David Jaramillo Zuluaga.\n",
    "    \n",
    "**Link Github**: https://github.com/carolanb/Proyecto_modulo1\n",
    "\n",
    "# Proyecto TEMA-2"
   ]
  },
  {
   "cell_type": "markdown",
   "metadata": {},
   "source": [
    "<img style=\"float: right; margin: 0px 0px 15px 15px;\" src=\"https://upload.wikimedia.org/wikipedia/commons/b/b6/Proyecto_en_construccion.jpg\" width=\"300px\" height=\"100px\" />\n",
    "\n",
    "\n",
    "# Probabilidades para apuestas de F1 \n",
    "> En este proyecto se realizarán simulaciones de variables de Fórmula 1 utilizadas en casas de apuesta. Las variables de interés son: ganador del gran premio, piloto con vuelta rápida y piloto más probable a abandonar. Para la simulación se utilizarán datos de la temporada 2020 con el fin de simular posibles resultados para la temporada del 2021. Se simularán las variables para los Grand Prix de Monza, Mónaco, Silverstone y Spa."
   ]
  },
  {
   "cell_type": "markdown",
   "metadata": {},
   "source": [
    "# Tabla de Contenido\n",
    "### <font color='navy'> Objetivos\n",
    "### <font color='navy'> Definición del problema\n",
    "### <font color='navy'> Nodos y variables que se decidieron simular y porqué\n",
    "### <font color='navy'> Definición de hipótesis y supuestos\n",
    "### <font color='navy'> Obtención de bases de datos\n",
    "### <font color='navy'> Importación de datos y librerías\n",
    "### <font color='navy'> Piloto más probable a hacer la vuelta rápida\n",
    "> - Funciones utilizadas\n",
    "> - Prueba de Hipótesis\n",
    "> - Determinación de posibles distribuciones de probabilidad\n",
    "> - Simulación de Mónaco\n",
    "> - Simulación de Monza\n",
    "    \n",
    "### <font color='navy'> Piloto más probable a ganar la carrera\n",
    "### <font color='navy'> Piloto más probable a abandonar la carrera\n",
    "    \n",
    "### <font color='navy'> Visualización de la simulación\n",
    "> - Visualización de resultados de vuelta rápida\n",
    "> - Visualización de resultados de posible ganador\n",
    "> - Visualización de resultados de posible abandono\n",
    "    \n",
    "### <font color='navy'> Conclusiones\n",
    "### <font color='navy'> Referencias"
   ]
  },
  {
   "attachments": {
    "nodos%20proyecto.png": {
     "image/png": "[encoded data removed]"
    }
   },
   "cell_type": "markdown",
   "metadata": {},
   "source": [
    "___\n",
    "## 1. Entregable.\n",
    "Los trabajos deben tener los siguientes componentes básicos.\n",
    "\n",
    "### 1.1 Probabilidades para apuestas F1\n",
    "> Carreras de Fórmula 1 de la temporada 2020.\n",
    "\n",
    "### 1.2 Objetivos.\n",
    "\n",
    "> #### 1.1 Generar información de probabilidad para apuestas en temporada 2021 de F1.\n",
    "\n",
    "> #### 1.2 Objetivos específicos\n",
    ">  - Determinar el piloto más probable a ganar los Grand Prix de Mónaco, Monza, Silverstone y Spa.\n",
    ">  - Determinar el piloto más probable a realizar la vuelta rápida de los Grand Prix de de Mónaco, Monza, Silverstone y Spa.\n",
    ">  - Determinar el piloto más probable a abandonar la carrera en los Grand Prix de Mónaco, Monza, Silverstone y Spa.\n",
    "\n",
    "Referencia:\n",
    "- https://es.slideshare.net/rosbur/metodologia-objetivos-generales-y-especficos\n",
    "\n",
    "### 1.3 Definición del problema.\n",
    "> Se seleccionó una base de datos de las carreras de Fórmula 1 de la temporada 2020. Dicho dataset contiene los datos de telemetría, condiciones de pista, tiempos de sectores de pista por cada carrera y los datos de pilotos. En estos archivos se encuentran datos de tiempo de vuelta por piloto por cada gran premio, en total de la vuelta y en cada sector. En el data set se presentan otros datos de telemetría, condiciones de temperatura de la pista y desgaste de llantas los cuales no serán utilizados para este proyecto \n",
    "\n",
    "> Con este dataset buscamos modelar las distribuciones de probabilidad de ganar el gran premio, hacer la vuelta rápida o abandonar el gran premio. Se tomarán en cuenta los datos de tiempo por vuelta de cada piloto para 4 gran premios, los cuales serán los nodos. Se esocogieron como nodos puesto que en las casas de apuesta, las apuestas se realizan por gran premio, se seleccionaron los GP de Monza, Monaco, Silverstone y Spa ya que son de los más populares.\n",
    "\n",
    "> A continuación se presenta un diagrama con los flujos y nodos a simular \n",
    "\n",
    "![nodos%20proyecto.png](attachment:nodos%20proyecto.png)\n",
    "\n",
    "### 1.4 Nodos y variables que se decidieron simular y porqué\n",
    "> Se seleccionaron como nodos 4 Grandes Premios de la temporada 2020. Se seleccionaron como nodos los Grandes Premios porque en cada carrera se realizan apuestas sobre qué piloto será el ganador, quién hará la vuelta rápida, quién es más probable a abandonar, entre otras. Utilizando los GP como nodos permite utilizar los datos de todos los pilotos por lo que se pierde menos información. En esta línea, cada Gran Premio tiene condiciones distintas, por lo que la tendencia del tiempo por vuelta cambia de acuerdo a la pista, clasificando los datos por GP evita el sesgo de datos.\n",
    "\n",
    "> Nodo 1: Gran Premio de Monza\n",
    "- Su longitud es de 5,798 Km, por medidas de Covid-19 se recortó el total de vueltas a 27 en la temporada 2020. Consta de 11 curvas y se conoce como el \"Templo de la Velocidad\" por sus grandes rectas, se considera un circuito muy rápido con facilidad para el rebase. En esta temporada las condiciones de temperatura fueron templadas; la temperatura del aire fue de 26°C y la pista de 33°C.\n",
    "\n",
    "\n",
    "> Nodo 2: Gran Premio de Monaco\n",
    "- Su longitud es de 3,323 Km, el total de vueltas en la temporada del 2020 fue de 39. Este es un circuito callejero con 19 curvas. En este circuito se dificulta el rebase debido a que las rectas son cortas y hay muchas curvas, por lo que los resultados dependen de la habilidad del piloto frente la potencia del motor. Las condiciones de temperatura fueron de 22°C la temperatura del aire y de 30°C la temperatura de la pista. \n",
    "\n",
    "> Nodo 3: Gran Premio de Silverstone\n",
    "- Tiene una longitud de 5,896 Km, se realizaron 26 vueltas en este Gran Premio, recortadas por medidas contra el Covid-19. Es un circuito con mucho prestigio en Europa, consta de 18 curvas. Este circuito también tiene grandes rectas, que en la Segunda Guerra Mundial eran utilizadas como pistas de despegue. En esta pista las condiciones de temperatura fueron iguales que en Monaco con la temperatura del aire de 22°C y 30°C la temperatura de pista.\n",
    "\n",
    "> Nodo 4: Gran Premio de Spa\n",
    "- La longitud de esta pista es de 7,003 Km y con un total de 22 vueltas, el total de vueltas también se redujo por medidas contra el Covid-19. Este circuito tiene 20 curvas, es de los más largos y antiguos. Este circuito es característico por sus condiciones metereológicas impredecibles. En este circuito en 2019 ocurrió una trágica muerte del piloto de Fórmula 2, Antoine Hubert. En la temporada 2020 la temperatura del aire promedio fue de 21°C y la temperatura de pista de 30°C.\n",
    "\n",
    "> Ahora, para las variables, en cada gran premio se simularán 3 variables: \n",
    "    - El ganador\n",
    "    - Quién realiza la vuelta rápida \n",
    "    - Quién es más probable a abandonar la carrera. \n",
    "\n",
    "> Para determinar el ganador se utilizarán los datos de posición de cada piloto durante la carrera. Para la simulación de vuelta rápida, se utilizarán los tiempos por vuelta que realiza cada piloto y finalmente para los abandonos se determinará la probabilidad en base al número de vueltas que realizan (si es menor que el total de vueltas para el circuito).\n",
    "\n",
    "  \n",
    "\n",
    "### 1.5 Definición de hipótesis y supuestos.\n",
    "   > Al ser una temporada pasada, la simulación con estos datos históricos (Temporada 2020) serán útiles para la temporada del 2021 de la Fórmula 1. Para validar que las simulaciones permitan la realización de conclusiones congruentes para la temporada 2021, se compararán con los resultados de la temporada 2021 (SoyMotor, 2021). Nuestras hipótesis son las siguientes:\n",
    "   \n",
    "   - Ganadores más problables del GP Monza: \n",
    "       1. Max Verstappen\n",
    "       2. Lewis Hamilton\n",
    "       3. Lando Norris    \n",
    "       \n",
    "       \n",
    "   - Ganadores más problables del GP Monaco: \n",
    "       1. Max Verstappen\n",
    "       2. Carlos Sainz\n",
    "       3. Lando Norris    \n",
    "       \n",
    "       \n",
    "   - Ganadores más problables del GP Silverstone: \n",
    "       1. Lewis Hamilton\n",
    "       2. Charles Leclerc\n",
    "       3. Valtteri Bottas\n",
    "       \n",
    "       \n",
    "   - Ganadores más problables del GP Spa: \n",
    "       1. Max Verstappen\n",
    "       2. George Russell\n",
    "       3. Lewis Hamilton \n",
    "       \n",
    "       \n",
    "   - Pilotos más probables a realizar la vuelta rápida:\n",
    "        1. Monza: Daniel Ricciardo\n",
    "        2. Monaco: Lewis Hamilton\n",
    "        3. Silverstone: Sergio Perez\n",
    "        4. Spa: Max Verstappen\n",
    "        \n",
    "        \n",
    "   - Pilotos más probables a abandonar la carrera:\n",
    "        1. George Russell\n",
    "        2. Valtteri Bottas\n",
    "        3. Nicholas Latifi\n",
    "       \n",
    ">Como hipótesis adicionales, se plantearán las posibles distribuciones de probabilidad para los distintos datos de los nodos. Iniciando con las distribuciones posibles para los datos de LapTime:\n",
    "   1. Monza: Jhonson su\n",
    "   2. Monaco: t\n",
    "   3. Silverstone: Jhonson su, Mielke o burr12\n",
    "   4. Spa: "
   ]
  },
  {
   "cell_type": "markdown",
   "metadata": {},
   "source": [
    "El más probable a ganar se esperaba que las distribuciones fueran:\n",
    "1. Monza: Beta, Uniform & Kappa4\n",
    "2. Monaco: Braford, Beta & Uniform\n",
    "3. Silverstone: Braford, Beta & Uniform\n",
    "4. Spa: Braford, Beta & Uniform\n",
    "\n",
    "El más probable a abandonar la carrera se esperaba que las distribuciones fueran:\n",
    "1. Monza: Beta & Kappa4\n",
    "2. Monaco: Beta & Kappa4\n",
    "3. Silverstone: Johnsonsb & Beta\n",
    "4. Spa: Kappa4 & Johnsonsb"
   ]
  },
  {
   "cell_type": "markdown",
   "metadata": {},
   "source": [
    "### 1.6 Obtención de bases de datos"
   ]
  },
  {
   "cell_type": "markdown",
   "metadata": {},
   "source": [
    ">La base de datos que se utilizará para este proyecto fue obtenida de \"https://www.kaggle.com/datasets/coni57/f1-2020-race-data\" en la cual se pueden ver los tiempos de cada piloto en distintas pistas, las llantas utilizadas y las condiciones de cada pista. Esta base de datos se divide en cuatro categorías: \n",
    "\n",
    "1. Datos de la sesión \n",
    "    - Incluye: nombre del GP, clima, temperatura del aire y de la pista y total de vueltas por pista\n",
    "    \n",
    "    \n",
    "2. Datos de participantes\n",
    "    - Incluye: lista del nombre de pilotos, un index de piloto, escudería, maxRPM y idleRPM\n",
    "\n",
    "\n",
    "3. Datos de tiempos de la carrera\n",
    "    - Incluye: índice de pilotos, tiempo total de vuelta, posición, vuelta actual y tiempos por sector\n",
    "\n",
    "\n",
    "4. Datos de telemetría\n",
    "    - Incluye: combustible, desgaste de llanta, entre otros.\n",
    "\n",
    "Para los objetivos de este proyecto, se utilizaron datos de las primeras tres categorías. En total la base de datos se componía de 88 archivos de excel por lo que se requirió procesar los datos utilizando la librería de pandas para poder utilizar los datos.\n"
   ]
  },
  {
   "cell_type": "markdown",
   "metadata": {},
   "source": [
    "## Importación de datos y librerías"
   ]
  },
  {
   "cell_type": "code",
   "execution_count": 1,
   "metadata": {},
   "outputs": [],
   "source": [
    "import pandas as pd\n",
    "import numpy as np\n",
    "import matplotlib.pyplot as plt\n",
    "import seaborn as sns\n",
    "import scipy.stats as st \n",
    "from collections import Counter\n",
    "import warnings\n",
    "warnings.filterwarnings(\"ignore\")\n",
    "import statsmodels.api as sm \n",
    "from sklearn.neighbors import KernelDensity\n",
    "from scipy.stats import gaussian_kde"
   ]
  },
  {
   "cell_type": "code",
   "execution_count": 2,
   "metadata": {
    "scrolled": true
   },
   "outputs": [
    {
     "data": {
      "text/html": [
       "<div>\n",
       "<style scoped>\n",
       "    .dataframe tbody tr th:only-of-type {\n",
       "        vertical-align: middle;\n",
       "    }\n",
       "\n",
       "    .dataframe tbody tr th {\n",
       "        vertical-align: top;\n",
       "    }\n",
       "\n",
       "    .dataframe thead th {\n",
       "        text-align: right;\n",
       "    }\n",
       "</style>\n",
       "<table border=\"1\" class=\"dataframe\">\n",
       "  <thead>\n",
       "    <tr style=\"text-align: right;\">\n",
       "      <th></th>\n",
       "      <th>pilot_index</th>\n",
       "      <th>LapTime</th>\n",
       "      <th>carPosition</th>\n",
       "      <th>currentLapNum</th>\n",
       "      <th>GP</th>\n",
       "      <th>driverId</th>\n",
       "    </tr>\n",
       "  </thead>\n",
       "  <tbody>\n",
       "    <tr>\n",
       "      <th>0</th>\n",
       "      <td>0</td>\n",
       "      <td>92.11968</td>\n",
       "      <td>16</td>\n",
       "      <td>1</td>\n",
       "      <td>Mexico</td>\n",
       "      <td>Pierre Gasly</td>\n",
       "    </tr>\n",
       "    <tr>\n",
       "      <th>1</th>\n",
       "      <td>0</td>\n",
       "      <td>82.83808</td>\n",
       "      <td>17</td>\n",
       "      <td>2</td>\n",
       "      <td>Mexico</td>\n",
       "      <td>Pierre Gasly</td>\n",
       "    </tr>\n",
       "    <tr>\n",
       "      <th>2</th>\n",
       "      <td>0</td>\n",
       "      <td>83.18610</td>\n",
       "      <td>16</td>\n",
       "      <td>3</td>\n",
       "      <td>Mexico</td>\n",
       "      <td>Pierre Gasly</td>\n",
       "    </tr>\n",
       "    <tr>\n",
       "      <th>3</th>\n",
       "      <td>0</td>\n",
       "      <td>83.25229</td>\n",
       "      <td>15</td>\n",
       "      <td>4</td>\n",
       "      <td>Mexico</td>\n",
       "      <td>Pierre Gasly</td>\n",
       "    </tr>\n",
       "    <tr>\n",
       "      <th>4</th>\n",
       "      <td>0</td>\n",
       "      <td>83.40625</td>\n",
       "      <td>14</td>\n",
       "      <td>5</td>\n",
       "      <td>Mexico</td>\n",
       "      <td>Pierre Gasly</td>\n",
       "    </tr>\n",
       "    <tr>\n",
       "      <th>...</th>\n",
       "      <td>...</td>\n",
       "      <td>...</td>\n",
       "      <td>...</td>\n",
       "      <td>...</td>\n",
       "      <td>...</td>\n",
       "      <td>...</td>\n",
       "    </tr>\n",
       "    <tr>\n",
       "      <th>12904</th>\n",
       "      <td>19</td>\n",
       "      <td>97.41235</td>\n",
       "      <td>1</td>\n",
       "      <td>25</td>\n",
       "      <td>Austin</td>\n",
       "      <td>Valtteri Bottas</td>\n",
       "    </tr>\n",
       "    <tr>\n",
       "      <th>12905</th>\n",
       "      <td>19</td>\n",
       "      <td>97.20898</td>\n",
       "      <td>1</td>\n",
       "      <td>26</td>\n",
       "      <td>Austin</td>\n",
       "      <td>Valtteri Bottas</td>\n",
       "    </tr>\n",
       "    <tr>\n",
       "      <th>12906</th>\n",
       "      <td>19</td>\n",
       "      <td>97.19995</td>\n",
       "      <td>1</td>\n",
       "      <td>27</td>\n",
       "      <td>Austin</td>\n",
       "      <td>Valtteri Bottas</td>\n",
       "    </tr>\n",
       "    <tr>\n",
       "      <th>12907</th>\n",
       "      <td>19</td>\n",
       "      <td>95.96313</td>\n",
       "      <td>1</td>\n",
       "      <td>28</td>\n",
       "      <td>Austin</td>\n",
       "      <td>Valtteri Bottas</td>\n",
       "    </tr>\n",
       "    <tr>\n",
       "      <th>12908</th>\n",
       "      <td>19</td>\n",
       "      <td>0.00889</td>\n",
       "      <td>1</td>\n",
       "      <td>29</td>\n",
       "      <td>Austin</td>\n",
       "      <td>Valtteri Bottas</td>\n",
       "    </tr>\n",
       "  </tbody>\n",
       "</table>\n",
       "<p>12909 rows × 6 columns</p>\n",
       "</div>"
      ],
      "text/plain": [
       "       pilot_index   LapTime  carPosition  currentLapNum      GP  \\\n",
       "0                0  92.11968           16              1  Mexico   \n",
       "1                0  82.83808           17              2  Mexico   \n",
       "2                0  83.18610           16              3  Mexico   \n",
       "3                0  83.25229           15              4  Mexico   \n",
       "4                0  83.40625           14              5  Mexico   \n",
       "...            ...       ...          ...            ...     ...   \n",
       "12904           19  97.41235            1             25  Austin   \n",
       "12905           19  97.20898            1             26  Austin   \n",
       "12906           19  97.19995            1             27  Austin   \n",
       "12907           19  95.96313            1             28  Austin   \n",
       "12908           19   0.00889            1             29  Austin   \n",
       "\n",
       "              driverId  \n",
       "0         Pierre Gasly  \n",
       "1         Pierre Gasly  \n",
       "2         Pierre Gasly  \n",
       "3         Pierre Gasly  \n",
       "4         Pierre Gasly  \n",
       "...                ...  \n",
       "12904  Valtteri Bottas  \n",
       "12905  Valtteri Bottas  \n",
       "12906  Valtteri Bottas  \n",
       "12907  Valtteri Bottas  \n",
       "12908  Valtteri Bottas  \n",
       "\n",
       "[12909 rows x 6 columns]"
      ]
     },
     "execution_count": 2,
     "metadata": {},
     "output_type": "execute_result"
    }
   ],
   "source": [
    "#datos procesados en crudo\n",
    "data_raw= pd.read_excel(\"data.xlsx\")\n",
    "dt = pd.DataFrame(data_raw)\n",
    "dt"
   ]
  },
  {
   "cell_type": "code",
   "execution_count": 3,
   "metadata": {},
   "outputs": [],
   "source": [
    "def datos_nodos(l:'lista de nombres de GP',dt:'dataFrame con todos los datos'):\n",
    "    a = dt[dt['GP'] == l[0]]\n",
    "    b = dt[dt['GP'] == l[1]]\n",
    "    c = dt[dt['GP'] == l[2]]\n",
    "    d = dt[dt['GP'] == l[3]]\n",
    "    return a,b,c,d"
   ]
  },
  {
   "cell_type": "code",
   "execution_count": 4,
   "metadata": {},
   "outputs": [],
   "source": [
    "# Datos tentativos para nodos\n",
    "l = ['Monza','Monaco','Silverstone','Spa']\n",
    "Monza_GP, Monaco_GP, Silverstone_GP, Spa_GP = datos_nodos(l,dt)"
   ]
  },
  {
   "cell_type": "code",
   "execution_count": 5,
   "metadata": {},
   "outputs": [],
   "source": [
    "dataframes = [Monza_GP, Monaco_GP, Silverstone_GP, Spa_GP]\n",
    "for df in dataframes:\n",
    "    df.drop('pilot_index', axis=1, inplace=True)"
   ]
  },
  {
   "cell_type": "markdown",
   "metadata": {},
   "source": [
    "## Piloto más probable a realizar la vuelta rápida\n",
    "### <font color='navy'> Nodos 1 & 2."
   ]
  },
  {
   "cell_type": "markdown",
   "metadata": {},
   "source": [
    "#### Funciones"
   ]
  },
  {
   "cell_type": "code",
   "execution_count": 6,
   "metadata": {},
   "outputs": [],
   "source": [
    "def hist(sim_data,columna,titulo,bins):    \n",
    "    plt.figure(figsize=(7, 5))\n",
    "    \n",
    "    plt.hist(sim_data[columna], bins=bins, density=True)    \n",
    "    plt.title(titulo)\n",
    "    plt.xlabel('Tiempo(s)')\n",
    "    plt.show();\n",
    "\n",
    "def boxplt(sim_data,title):\n",
    "    plt.figure(figsize=(10, 6))\n",
    "    sns.boxplot(x='Piloto', y='Tiempo Simulado', data=sim_data)\n",
    "    plt.title(title)\n",
    "    plt.xlabel('Piloto')\n",
    "    plt.ylabel('Tiempo Simulado')\n",
    "    plt.xticks(rotation=90)\n",
    "    plt.show()\n",
    "\n",
    "def remove_outliers(sim_data):\n",
    "    Q1 = sim_data['Tiempo Simulado'].quantile(0.25)\n",
    "    Q3 = sim_data['Tiempo Simulado'].quantile(0.75)\n",
    "    IQR = Q3 - Q1\n",
    "    lower_limit = Q1 - 1.5 * IQR\n",
    "    upper_limit = Q3 + 1.5 * IQR\n",
    "\n",
    "    s_data = sim_data[(sim_data['Tiempo Simulado'] >= lower_limit) & (sim_data['Tiempo Simulado'] <= upper_limit)]\n",
    "    \n",
    "    return s_data,lower_limit,upper_limit\n",
    "\n",
    "def remove_outliers2(sim_data,columna):\n",
    "    Q1 = sim_data[columna].quantile(0.25)\n",
    "    Q3 = sim_data[columna].quantile(0.75)\n",
    "    IQR = Q3 - Q1\n",
    "    lower_limit = Q1 - 1.5 * IQR\n",
    "    upper_limit = Q3 + 1.5 * IQR\n",
    "\n",
    "    s_data = sim_data[(sim_data[columna] >= lower_limit) & (sim_data[columna] <= upper_limit)]\n",
    "    \n",
    "    return s_data,lower_limit,upper_limit\n",
    "\n",
    "#gráfico de barras que por color permita observar piloto de vuelta rápida\n",
    "def g_barras(min_times:'serie de Pd con el tiempo mínimo de cada piloto'):\n",
    "    def set_colors(data):\n",
    "        bar_colors = ['blue'] * len(data)  # Colores por defecto para las barras\n",
    "        min_index = data.idxmin()\n",
    "        m = data.index.get_loc(min_index)  # Posición del valor mínimo\n",
    "        bar_colors[m] = 'red'  # Color rojo para la barra del valor mínimo\n",
    "        return bar_colors, m\n",
    "    def graf(data,axes,m):\n",
    "        data.plot(kind='bar', ax=axes[i], color=bar_colors)\n",
    "        axes[i].set_xlabel('Piloto')\n",
    "        axes[i].get_xticklabels()[m].set_color('red') #cambia color del nombre del piloto con vuelta rápida\n",
    "\n",
    "    s_data = sim_data[(sim_data[columna] >= lower_limit) & (sim_data[columna] <= upper_limit)]\n",
    "    \n",
    "    return s_data,lower_limit,upper_limit\n",
    "\n",
    "\n",
    "def gaussian_KDE(dataframe,columna,label,x1,x2):\n",
    "    kde = st.gaussian_kde(dataframe[columna])\n",
    "    # Generar puntos para el gráfico del KDE\n",
    "    x = range(x1, x2)\n",
    "    y = kde(x)\n",
    "    plt.plot(x, y, label=label)\n",
    "    plt.title('Kernel Density Estimation')\n",
    "    plt.legend()\n",
    "    plt.fill_between(x, y, alpha=0.5)\n",
    "\n",
    "def define_pdist(df,columna):\n",
    "    data = df[columna].values\n",
    "    rv_continuas = [d_i for d_i in dir(st) if isinstance(getattr(st, d_i), getattr(st, 'rv_continuous'))]\n",
    "    error = pd.DataFrame(columns=['distribucion', 'error'])\n",
    "    i = 0\n",
    "    for d_i in rv_continuas[30:55] + ['loglaplace'] + ['norm'] + ['t']+ ['exponnorm']+ ['foldnorm'] + ['beta']:\n",
    "        try:\n",
    "            params = getattr(st, d_i).fit(data)\n",
    "            data_hat = getattr(st, d_i).pdf(x, *params)\n",
    "            ax.plot(x, data_hat, label=d_i)\n",
    "            error.loc[i, :] = [d_i, np.mean((y - data_hat)**2)]\n",
    "            i += 1\n",
    "        except ValueError:\n",
    "            pass\n",
    "    error.set_index('distribucion', inplace=True)\n",
    "    error.sort_values('error', inplace=True)\n",
    "    return error\n",
    "\n",
    "def set_colors(data:'lista de datos',m:'index del valor a resaltar'): \n",
    "    bar_colors = ['blue'] * len(data)  \n",
    "    bar_colors[m] = 'red'\n",
    "    return bar_colors\n",
    "\n",
    "#grafico de barras con los pilotos más probables de hacer la vuelta rápida\n",
    "def visual_resultados_vr(resultados:'lista resultados simulación',title):\n",
    "    frecuencia = {nombre: sum(1 for x in resultados if x == nombre) for nombre in resultados} \n",
    "    piloto_vr =  max(frecuencia, key=frecuencia.get)\n",
    "    drivers = list(frecuencia.keys())\n",
    "    repeticiones = list(frecuencia.values())\n",
    "    m = drivers.index(piloto_vr) \n",
    "    bar_colors = set_colors(drivers,m)\n",
    "    plt.bar(drivers, repeticiones, color=bar_colors)\n",
    "    plt.xlabel('Pilotos')\n",
    "    plt.ylabel('Frecuencia')\n",
    "    plt.title(title)\n",
    "    plt.xticks(rotation=90)  # Rotar los nombres en el eje x para una mejor visualización\n",
    "\n",
    "    plt.gca().get_xticklabels()[m].set_color('red') \n",
    "    #gca devuelve los ejes del gráfico y permite que con el indice m obtenga su etiqueta correspondiente\n",
    "    plt.show()\n",
    "\n",
    "def rectangular_KDE(dataframe,columna,label):\n",
    "    datos, ll, ul = remove_outliers2(dataframe,columna)\n",
    "    b = datos[columna].values\n",
    "    kde = st.gaussian_kde(b, bw_method='silverman')  # bw_method es el ancho de banda\n",
    "\n",
    "    # Generar puntos de la gráfica para el KDE\n",
    "    x = np.linspace(np.min(b), np.max(b), 1000)\n",
    "    y = kde.evaluate(x)\n",
    "\n",
    "    # Gráfico del KDE con kernel rectangular\n",
    "    plt.plot(x, y, label=label, color='blue')\n",
    "    plt.fill_between(x, 0, y, alpha=0.5, color='blue')  # Relleno bajo la curva\n",
    "\n",
    "    # Mostrar el gráfico\n",
    "    plt.title('KDE con Kernel Rectangular')\n",
    "    plt.xlabel('Tiempo (s)')\n",
    "    plt.legend()\n",
    "    plt.show()"
   ]
  },
  {
   "cell_type": "code",
   "execution_count": 7,
   "metadata": {},
   "outputs": [],
   "source": [
    "#Funciones\n",
    "#función KDE\n",
    "def kde_scipy(x, x_grid, bandwidth=0.2, **kwargs):\n",
    "    \"\"\"Kernel Density Estimation with Scipy\"\"\"\n",
    "    # Note that scipy weights its bandwidth by the covariance of the\n",
    "    # input data.  To make the results comparable to the other methods,\n",
    "    # we divide the bandwidth by the sample standard deviation here.\n",
    "    kde = gaussian_kde(x, bw_method=bandwidth / x.std(ddof=1), **kwargs)\n",
    "    return kde.evaluate(x_grid)\n",
    "\n",
    "# Función de aceptación y rechazo\n",
    "def acep_rechazo(\n",
    "    N:'Variables a generar',\n",
    "    Domain:'Dominio de la función f como tupla (a,b)',\n",
    "    f:'funcióna generar',\n",
    "    max_f:'máximo valor de f'\n",
    "):\n",
    "    X = np.zeros(N)\n",
    "    i = 0\n",
    "    while i < N: #usar while para asegurar que sea el número de variables que se pidió con N\n",
    "        R1 = np.random.uniform(*Domain) #*domain desempaqueta la tupla\n",
    "        R2 = np.random.rand(1) #genera aleatorio a comparar\n",
    "        condicion = max_f * R2 <= f(R1)\n",
    "        if condicion:\n",
    "            X[i] = R1\n",
    "            i += 1\n",
    "    return X\n",
    "\n",
    "def f(x):\n",
    "    return kde.evaluate([x])[0]\n",
    "\n",
    "def graf_qq(data:'datos',dist:'distribución a verificar',divisiones:'Cantidad de barras en el histograma'):\n",
    "    fig, ax = plt.subplots(3,1, figsize=(7,5))\n",
    "    fig.tight_layout(pad=3.0)\n",
    "    y, x, _ = ax[0].hist(data, divisiones, density=True)\n",
    "    \n",
    "    dist = dist\n",
    "    params = getattr(st, dist).fit(data)\n",
    "    print(f'Distribución {dist}')\n",
    "    # Graficar PDF de la distribución que queremos probar\n",
    "    # x = np.arange(measurements.min(), measurements.max(), .01)\n",
    "    y_hat = getattr(st, dist).pdf(x, *params)\n",
    "    ax[0].plot(x, y_hat,'r--', label='Distribución ajustada')\n",
    "    ax[0].set_ylabel('Probability')\n",
    "    ax[0].grid()\n",
    "\n",
    "    grap1 = sm.qqplot(data, dist=getattr(st, dist), line='q', fit=True, ax=ax[1])\n",
    "    ax[1].grid()\n",
    "    ax[1].set_title('Usando paquete stats')\n",
    "\n",
    "    grap2 = st.probplot(y, dist=dist, sparams=params, plot=ax[2], fit=True)\n",
    "    ax[2].grid()\n",
    "    ax[2].set_title('Usando paquete scipy')\n",
    "    # plt.xlabel(f'{dist.title()} theorical quantiles')\n",
    "    # plt.ylabel('Data theorical quantiles')\n",
    "    plt.show()"
   ]
  },
  {
   "cell_type": "markdown",
   "metadata": {},
   "source": [
    "### Determinación de posibles distribuciones de probabilidad"
   ]
  },
  {
   "cell_type": "code",
   "execution_count": 8,
   "metadata": {},
   "outputs": [],
   "source": [
    "#medias de cada piloto en nodos 1 y 2\n",
    "tiempos_mon, ll, ul = remove_outliers2(Monaco_GP,'LapTime')\n",
    "tiempos_mz, ll, ul = remove_outliers2(Monza_GP,'LapTime')\n",
    "\n",
    "a = tiempos_mon['LapTime'].values\n",
    "b = tiempos_mz['LapTime'].values\n",
    "\n",
    "avg_monaco = Monaco_GP.groupby('driverId')['LapTime'].mean()\n",
    "avg_monza = Monza_GP.groupby('driverId')['LapTime'].mean()\n"
   ]
  },
  {
   "cell_type": "markdown",
   "metadata": {},
   "source": [
    "**Comportamiento de datos de tiempo por vuelta en el circuito de Mónaco**"
   ]
  },
  {
   "cell_type": "code",
   "execution_count": 9,
   "metadata": {},
   "outputs": [
    {
     "data": {
      "image/png": "[encoded data removed]",
      "text/plain": [
       "<Figure size 576x360 with 1 Axes>"
      ]
     },
     "metadata": {
      "needs_background": "light"
     },
     "output_type": "display_data"
    }
   ],
   "source": [
    "#Histograma tiempos de vuelta en circuito de Mónaco\n",
    "np.set_printoptions(precision=6, suppress=True) #evitar que los datos estén en notación científica\n",
    "\n",
    "# tiempos_monaco, ll, ul = remove_outliers2(Monaco_GP,'LapTime')\n",
    "# a = tiempos_monaco['LapTime'].values\n",
    "\n",
    "fig, ax = plt.subplots(1, 1, figsize=(8,5))\n",
    "y, x, _ = ax.hist(a, bins=55, density=True)\n",
    "plt.title('LapTime en GP de Monaco')\n",
    "plt.xlabel('Tiempo (s)')\n",
    "x = x[1:] #obviar el primer valor"
   ]
  },
  {
   "cell_type": "code",
   "execution_count": 10,
   "metadata": {},
   "outputs": [],
   "source": [
    "#Kernel Density Estimation\n",
    "x_grid = np.linspace(a.min() - 1, a.max() + 1, 1000)\n",
    "#KDE\n",
    "kde = gaussian_kde(dataset=a, bw_method=0.139)\n",
    "pdf = kde.evaluate(x_grid)\n",
    "\n",
    "N = 10000\n",
    "Domain = (min(a), max(a))\n",
    "x_random = acep_rechazo(N, Domain, f, max(pdf))"
   ]
  },
  {
   "cell_type": "code",
   "execution_count": 11,
   "metadata": {},
   "outputs": [
    {
     "data": {
      "image/png": "[encoded data removed]",
      "text/plain": [
       "<Figure size 576x288 with 1 Axes>"
      ]
     },
     "metadata": {
      "needs_background": "light"
     },
     "output_type": "display_data"
    }
   ],
   "source": [
    "#KERNEL DENSITY ESTIMATION\n",
    "fig, ax = plt.subplots(figsize=(8, 4))\n",
    "ax.plot(x_grid, pdf, color='orange', alpha=0.7, lw=3, label='KDE')\n",
    "ax.set_xlim(a.min() - 1, a.max() + 1)\n",
    "\n",
    "ax.hist(x_random, bins=60, density=True, alpha=0.5, label='Generados con Acep_Rechazo')\n",
    "\n",
    "plt.title('Kernel Density e Histograma AyR')\n",
    "plt.legend()\n",
    "plt.show()"
   ]
  },
  {
   "cell_type": "code",
   "execution_count": 12,
   "metadata": {
    "scrolled": false
   },
   "outputs": [
    {
     "data": {
      "image/png": "[encoded data removed]",
      "text/plain": [
       "<Figure size 576x360 with 1 Axes>"
      ]
     },
     "metadata": {
      "needs_background": "light"
     },
     "output_type": "display_data"
    }
   ],
   "source": [
    "fig, ax = plt.subplots(1, 1, figsize=(8,5))\n",
    "y, x, _ = ax.hist(a, bins=60, density=True)\n",
    "plt.title('Ajuste de distribuciones')\n",
    "plt.xlabel('Monaco')\n",
    "x = x[1:]\n",
    "rv_continuas = [d_i for d_i in dir(st) if isinstance(getattr(st, d_i), getattr(st, 'rv_continuous'))]\n",
    "error = pd.DataFrame(columns=['distribucion', 'error'])\n",
    "i = 0\n",
    "for d_i in rv_continuas[40:50] + ['skewnorm']+ ['loggamma'] + ['pearson3'] + ['beta'] + ['johnsonsb']: #45:50\n",
    "    try:\n",
    "        params = getattr(st, d_i).fit(a)\n",
    "        data_hat = getattr(st, d_i).pdf(x, *params)\n",
    "        ax.plot(x, data_hat, label=d_i)            \n",
    "        error.loc[i, :] = [d_i, np.mean((y - data_hat)**2)]\n",
    "        i += 1\n",
    "    except ValueError:\n",
    "        pass\n",
    "\n",
    "plt.legend()\n",
    "error.set_index('distribucion', inplace=True)\n",
    "error.sort_values('error', inplace=True)\n"
   ]
  },
  {
   "cell_type": "code",
   "execution_count": 13,
   "metadata": {
    "scrolled": true
   },
   "outputs": [
    {
     "data": {
      "text/html": [
       "<div>\n",
       "<style scoped>\n",
       "    .dataframe tbody tr th:only-of-type {\n",
       "        vertical-align: middle;\n",
       "    }\n",
       "\n",
       "    .dataframe tbody tr th {\n",
       "        vertical-align: top;\n",
       "    }\n",
       "\n",
       "    .dataframe thead th {\n",
       "        text-align: right;\n",
       "    }\n",
       "</style>\n",
       "<table border=\"1\" class=\"dataframe\">\n",
       "  <thead>\n",
       "    <tr style=\"text-align: right;\">\n",
       "      <th></th>\n",
       "      <th>error</th>\n",
       "    </tr>\n",
       "    <tr>\n",
       "      <th>distribucion</th>\n",
       "      <th></th>\n",
       "    </tr>\n",
       "  </thead>\n",
       "  <tbody>\n",
       "    <tr>\n",
       "      <th>beta</th>\n",
       "      <td>0.004621</td>\n",
       "    </tr>\n",
       "    <tr>\n",
       "      <th>johnsonsb</th>\n",
       "      <td>0.004621</td>\n",
       "    </tr>\n",
       "    <tr>\n",
       "      <th>skewnorm</th>\n",
       "      <td>0.004622</td>\n",
       "    </tr>\n",
       "    <tr>\n",
       "      <th>pearson3</th>\n",
       "      <td>0.004622</td>\n",
       "    </tr>\n",
       "    <tr>\n",
       "      <th>loggamma</th>\n",
       "      <td>0.004623</td>\n",
       "    </tr>\n",
       "  </tbody>\n",
       "</table>\n",
       "</div>"
      ],
      "text/plain": [
       "                 error\n",
       "distribucion          \n",
       "beta          0.004621\n",
       "johnsonsb     0.004621\n",
       "skewnorm      0.004622\n",
       "pearson3      0.004622\n",
       "loggamma      0.004623"
      ]
     },
     "execution_count": 13,
     "metadata": {},
     "output_type": "execute_result"
    }
   ],
   "source": [
    "error.head(5)"
   ]
  },
  {
   "cell_type": "code",
   "execution_count": 14,
   "metadata": {},
   "outputs": [
    {
     "name": "stdout",
     "output_type": "stream",
     "text": [
      "Distribución beta\n"
     ]
    },
    {
     "data": {
      "image/png": "[encoded data removed]",
      "text/plain": [
       "<Figure size 504x360 with 3 Axes>"
      ]
     },
     "metadata": {
      "needs_background": "light"
     },
     "output_type": "display_data"
    }
   ],
   "source": [
    "#PRUEBAS Q-Q para las 3 mejores distribuciones\n",
    "graf_qq(a,'beta',50)"
   ]
  },
  {
   "cell_type": "code",
   "execution_count": 15,
   "metadata": {},
   "outputs": [
    {
     "name": "stdout",
     "output_type": "stream",
     "text": [
      "Distribución johnsonsb\n"
     ]
    },
    {
     "data": {
      "image/png": "[encoded data removed]",
      "text/plain": [
       "<Figure size 504x360 with 3 Axes>"
      ]
     },
     "metadata": {
      "needs_background": "light"
     },
     "output_type": "display_data"
    }
   ],
   "source": [
    "#PRUEBAS Q-Q para las 3 mejores distribuciones\n",
    "graf_qq(a,'johnsonsb',50)"
   ]
  },
  {
   "cell_type": "code",
   "execution_count": 16,
   "metadata": {
    "scrolled": true
   },
   "outputs": [
    {
     "name": "stdout",
     "output_type": "stream",
     "text": [
      "Distribución skewnorm\n"
     ]
    },
    {
     "data": {
      "image/png": "[encoded data removed]",
      "text/plain": [
       "<Figure size 504x360 with 3 Axes>"
      ]
     },
     "metadata": {
      "needs_background": "light"
     },
     "output_type": "display_data"
    }
   ],
   "source": [
    "#PRUEBAS Q-Q para las 3 mejores distribuciones\n",
    "graf_qq(a,'skewnorm',50)"
   ]
  },
  {
   "cell_type": "markdown",
   "metadata": {},
   "source": [
    "Observando la tabla de error relativo y los gráficos de Q-Q, la distribución que parece más apropiada para representar los datos de Silverstone es la distribución 'beta'. Para corroborar esto, se realizará una prueba de hipótesis donde:\n",
    "> $H_0$: la distribución es `beta` \n",
    "\n",
    "> $H_a$: los datos no se distribuyen como `beta`"
   ]
  },
  {
   "cell_type": "code",
   "execution_count": 17,
   "metadata": {},
   "outputs": [],
   "source": [
    "params_mon = st.beta.fit(a)\n",
    "obse = a\n",
    "esp = st.beta.rvs(*params_mon, size=len(a))"
   ]
  },
  {
   "cell_type": "code",
   "execution_count": 18,
   "metadata": {},
   "outputs": [],
   "source": [
    "t_stat, p_value = st.stats.ttest_ind(obse, esp)\n",
    "alpha = 0.05 #intervalo de confianza de 95%\n",
    "acepto_rechazo = lambda x: print(f'Se acepta la Ho, p_value = {p_value}') if x>alpha else print(f'Se rechaza la Ho, p_value = {p_value}')"
   ]
  },
  {
   "cell_type": "code",
   "execution_count": 19,
   "metadata": {},
   "outputs": [
    {
     "name": "stdout",
     "output_type": "stream",
     "text": [
      "Se acepta la Ho, p_value = 0.6635228593691436\n",
      "El estadístico t es: -0.4351479883071173\n"
     ]
    }
   ],
   "source": [
    "acepto_rechazo(p_value)\n",
    "print(f'El estadístico t es: {t_stat}')"
   ]
  },
  {
   "cell_type": "markdown",
   "metadata": {},
   "source": [
    "> **Conclusión**: No podemos rechazar la $H_0$ por lo tanto los datos distribuyen como beta."
   ]
  },
  {
   "cell_type": "markdown",
   "metadata": {},
   "source": [
    "**Comportamiento de datos de tiempo por vuelta en el circuito de Monza**"
   ]
  },
  {
   "cell_type": "code",
   "execution_count": 20,
   "metadata": {
    "scrolled": false
   },
   "outputs": [
    {
     "data": {
      "image/png": "[encoded data removed]",
      "text/plain": [
       "<Figure size 576x360 with 1 Axes>"
      ]
     },
     "metadata": {
      "needs_background": "light"
     },
     "output_type": "display_data"
    }
   ],
   "source": [
    "#Histograma tiempos de vuelta en circuito de Monza\n",
    "np.set_printoptions(precision=6, suppress=True) #evitar que los datos estén en notación científica\n",
    "\n",
    "# tiempos_monza, ll, ul = remove_outliers2(Monza_GP,'LapTime')\n",
    "# b = tiempos_monza['LapTime'].values\n",
    "\n",
    "fig, ax = plt.subplots(1, 1, figsize=(8,5))\n",
    "y2, x2, _ = ax.hist(b, bins=35, density=True)\n",
    "plt.title('LapTime en GP de Monza')\n",
    "plt.xlabel('Tiempo (s)')\n",
    "x2 = x2[1:] #obviar el primer valor"
   ]
  },
  {
   "cell_type": "code",
   "execution_count": 21,
   "metadata": {},
   "outputs": [],
   "source": [
    "#Kernel Density Estimation\n",
    "x_grid = np.linspace(b.min() - 1, b.max() + 1, 1000)\n",
    "#KDE\n",
    "kde = gaussian_kde(dataset=b, bw_method=0.139)\n",
    "pdf = kde.evaluate(x_grid)\n",
    "\n",
    "N = 10000\n",
    "Domain = (min(b), max(b))\n",
    "x_random = acep_rechazo(N, Domain, f, max(pdf))"
   ]
  },
  {
   "cell_type": "code",
   "execution_count": 22,
   "metadata": {},
   "outputs": [
    {
     "data": {
      "image/png": "[encoded data removed]",
      "text/plain": [
       "<Figure size 576x288 with 1 Axes>"
      ]
     },
     "metadata": {
      "needs_background": "light"
     },
     "output_type": "display_data"
    }
   ],
   "source": [
    "#KERNEL DENSITY ESTIMATION\n",
    "fig, ax = plt.subplots(figsize=(8, 4))\n",
    "ax.plot(x_grid, pdf, color='orange', alpha=0.7, lw=3, label='KDE')\n",
    "ax.set_xlim(b.min() - 1, b.max() + 1)\n",
    "\n",
    "ax.hist(x_random, bins=60, density=True, alpha=0.5, label='Generados con Acep_Rechazo')\n",
    "\n",
    "plt.title('Kernel Density e Histograma AyR')\n",
    "plt.legend()\n",
    "plt.show()"
   ]
  },
  {
   "cell_type": "code",
   "execution_count": 23,
   "metadata": {
    "scrolled": false
   },
   "outputs": [
    {
     "data": {
      "image/png": "[encoded data removed]",
      "text/plain": [
       "<Figure size 576x360 with 1 Axes>"
      ]
     },
     "metadata": {
      "needs_background": "light"
     },
     "output_type": "display_data"
    }
   ],
   "source": [
    "fig, ax = plt.subplots(1, 1, figsize=(8,5))\n",
    "y2, x2, _ = ax.hist(b, bins=60, density=True)\n",
    "plt.title('Ajuste de distribuciones')\n",
    "plt.xlabel('Monaco')\n",
    "x2 = x2[1:]\n",
    "rv_continuas = [d_i for d_i in dir(st) if isinstance(getattr(st, d_i), getattr(st, 'rv_continuous'))]\n",
    "error2 = pd.DataFrame(columns=['distribucion', 'error'])\n",
    "i = 0\n",
    "for d_i in rv_continuas[75:90] + ['genextreme']+ ['lognorm'] + ['exponweib'] + ['powerlognorm'] + ['johnsonsu']: #55:65\n",
    "    try:\n",
    "        params = getattr(st, d_i).fit(b)\n",
    "        data_hat = getattr(st, d_i).pdf(x2, *params)\n",
    "        ax.plot(x2, data_hat, label=d_i)            \n",
    "        error2.loc[i, :] = [d_i, np.mean((y2 - data_hat)**2)]\n",
    "        i += 1\n",
    "    except ValueError:\n",
    "        pass\n",
    "\n",
    "plt.legend()\n",
    "error2.set_index('distribucion', inplace=True)\n",
    "error2.sort_values('error', inplace=True)\n"
   ]
  },
  {
   "cell_type": "code",
   "execution_count": 24,
   "metadata": {
    "scrolled": true
   },
   "outputs": [
    {
     "data": {
      "text/html": [
       "<div>\n",
       "<style scoped>\n",
       "    .dataframe tbody tr th:only-of-type {\n",
       "        vertical-align: middle;\n",
       "    }\n",
       "\n",
       "    .dataframe tbody tr th {\n",
       "        vertical-align: top;\n",
       "    }\n",
       "\n",
       "    .dataframe thead th {\n",
       "        text-align: right;\n",
       "    }\n",
       "</style>\n",
       "<table border=\"1\" class=\"dataframe\">\n",
       "  <thead>\n",
       "    <tr style=\"text-align: right;\">\n",
       "      <th></th>\n",
       "      <th>error</th>\n",
       "    </tr>\n",
       "    <tr>\n",
       "      <th>distribucion</th>\n",
       "      <th></th>\n",
       "    </tr>\n",
       "  </thead>\n",
       "  <tbody>\n",
       "    <tr>\n",
       "      <th>skewnorm</th>\n",
       "      <td>0.004294</td>\n",
       "    </tr>\n",
       "    <tr>\n",
       "      <th>exponweib</th>\n",
       "      <td>0.004352</td>\n",
       "    </tr>\n",
       "    <tr>\n",
       "      <th>johnsonsu</th>\n",
       "      <td>0.004359</td>\n",
       "    </tr>\n",
       "    <tr>\n",
       "      <th>genextreme</th>\n",
       "      <td>0.004368</td>\n",
       "    </tr>\n",
       "    <tr>\n",
       "      <th>powerlognorm</th>\n",
       "      <td>0.004388</td>\n",
       "    </tr>\n",
       "  </tbody>\n",
       "</table>\n",
       "</div>"
      ],
      "text/plain": [
       "                 error\n",
       "distribucion          \n",
       "skewnorm      0.004294\n",
       "exponweib     0.004352\n",
       "johnsonsu     0.004359\n",
       "genextreme    0.004368\n",
       "powerlognorm  0.004388"
      ]
     },
     "execution_count": 24,
     "metadata": {},
     "output_type": "execute_result"
    }
   ],
   "source": [
    "error2.head(5)"
   ]
  },
  {
   "cell_type": "code",
   "execution_count": 25,
   "metadata": {},
   "outputs": [
    {
     "name": "stdout",
     "output_type": "stream",
     "text": [
      "Distribución skewnorm\n"
     ]
    },
    {
     "data": {
      "image/png": "[encoded data removed]",
      "text/plain": [
       "<Figure size 504x360 with 3 Axes>"
      ]
     },
     "metadata": {
      "needs_background": "light"
     },
     "output_type": "display_data"
    }
   ],
   "source": [
    "#PRUEBAS Q-Q para las 3 mejores distribuciones\n",
    "graf_qq(b,'skewnorm',40)"
   ]
  },
  {
   "cell_type": "code",
   "execution_count": 26,
   "metadata": {},
   "outputs": [
    {
     "name": "stdout",
     "output_type": "stream",
     "text": [
      "Distribución exponweib\n"
     ]
    },
    {
     "data": {
      "image/png": "[encoded data removed]",
      "text/plain": [
       "<Figure size 504x360 with 3 Axes>"
      ]
     },
     "metadata": {
      "needs_background": "light"
     },
     "output_type": "display_data"
    }
   ],
   "source": [
    "#PRUEBAS Q-Q para las 3 mejores distribuciones\n",
    "graf_qq(b,'exponweib',40)"
   ]
  },
  {
   "cell_type": "code",
   "execution_count": 27,
   "metadata": {
    "scrolled": true
   },
   "outputs": [
    {
     "name": "stdout",
     "output_type": "stream",
     "text": [
      "Distribución johnsonsu\n"
     ]
    },
    {
     "data": {
      "image/png": "[encoded data removed]",
      "text/plain": [
       "<Figure size 504x360 with 3 Axes>"
      ]
     },
     "metadata": {
      "needs_background": "light"
     },
     "output_type": "display_data"
    }
   ],
   "source": [
    "#PRUEBAS Q-Q para las 3 mejores distribuciones\n",
    "graf_qq(b,'johnsonsu',40)"
   ]
  },
  {
   "cell_type": "markdown",
   "metadata": {},
   "source": [
    "Observando la tabla de error relativo y los gráficos de Q-Q, la distribución que parece más apropiada para representar los datos de Silverstone es la distribución 'skewnorm'. Para corroborar esto, se realizará una prueba de hipótesis donde:\n",
    "> $H_0$: la distribución es `skewnorm` \n",
    "\n",
    "> $H_a$: los datos no se distribuyen como `skewnorm`"
   ]
  },
  {
   "cell_type": "code",
   "execution_count": 28,
   "metadata": {},
   "outputs": [
    {
     "name": "stdout",
     "output_type": "stream",
     "text": [
      "(2.5066436817049973, 85.3681427151634, 1.8034526627741485)\n"
     ]
    }
   ],
   "source": [
    "params_mz = st.skewnorm.fit(b)\n",
    "print(params_mz)\n",
    "obse = b\n",
    "esp = st.skewnorm.rvs(*params_mz, size=len(b))"
   ]
  },
  {
   "cell_type": "code",
   "execution_count": 29,
   "metadata": {},
   "outputs": [],
   "source": [
    "t_stat, p_value = st.stats.ttest_ind(obse, esp)\n",
    "alpha = 0.05 #intervalo de confianza de 95%\n",
    "acepto_rechazo = lambda x: print(f'Se acepta la Ho, p_value = {p_value}') if x>alpha else print(f'Se rechaza la Ho, p_value = {p_value}')"
   ]
  },
  {
   "cell_type": "code",
   "execution_count": 30,
   "metadata": {},
   "outputs": [
    {
     "name": "stdout",
     "output_type": "stream",
     "text": [
      "Se acepta la Ho, p_value = 0.7801411476709039\n",
      "El estadístico t es: -0.2792240307089644\n"
     ]
    }
   ],
   "source": [
    "acepto_rechazo(p_value)\n",
    "print(f'El estadístico t es: {t_stat}')"
   ]
  },
  {
   "cell_type": "markdown",
   "metadata": {},
   "source": [
    "> **Conclusión**: No podemos rechazar la $H_0$ por lo tanto los datos distribuyen como skewnorm."
   ]
  },
  {
   "cell_type": "markdown",
   "metadata": {},
   "source": [
    "### Simulación"
   ]
  },
  {
   "cell_type": "markdown",
   "metadata": {},
   "source": [
    "#### Simulación Circuito de Monaco"
   ]
  },
  {
   "cell_type": "markdown",
   "metadata": {},
   "source": [
    "Los tiempos de vuelta en el circuito de Mónaco se asemejan a una distribución t. Para realizar simulaciones utilizando esta distribución de probabilidad se necesita calcular los grados de libertad. Si os datos se encuentran en una tabla de contingencia, los GDL se calculan de la siguiente forma:\n",
    "\n",
    "GDL=(núm. Renglones – 1) (núm. Columnas - 1)\n",
    "\n",
    "Sin embargo, los datos no tienen la estructura para calcular los grados de libertad de esta forma, por lo que este parámetro se obtendrá mediante la función fit y se utilizarán las medias particulares de cada piloto en el circuito. "
   ]
  },
  {
   "cell_type": "code",
   "execution_count": 31,
   "metadata": {},
   "outputs": [
    {
     "data": {
      "text/plain": [
       "(223.13272649634035, 52.89509250448742, 47.21826194979492, 37.369799188662014)"
      ]
     },
     "execution_count": 31,
     "metadata": {},
     "output_type": "execute_result"
    }
   ],
   "source": [
    "params_mon #obtenidos arriba"
   ]
  },
  {
   "cell_type": "code",
   "execution_count": 32,
   "metadata": {},
   "outputs": [
    {
     "name": "stdout",
     "output_type": "stream",
     "text": [
      "223.13272649634035 52.89509250448742 47.21826194979492 37.369799188662014\n"
     ]
    }
   ],
   "source": [
    "#Obtener parámetros para la distribución Johnson su\n",
    "#a, b, media_mon, scale_mon = st.beta.fit(a) #no se utilizará esta media \n",
    "a, b, media_mon, scale_mon = params_mon\n",
    "print(a, b, media_mon, scale_mon)"
   ]
  },
  {
   "cell_type": "code",
   "execution_count": 33,
   "metadata": {},
   "outputs": [],
   "source": [
    "#función específica para simular los tiempos de los pilotos en el GP de Mónaco\n",
    "def vuelta_rapida_mon(N,flag=0):\n",
    "    sim_lap = [(pilot, time) for (pilot, avg_time) in avg_monaco.items() for time in st.beta.rvs(a,b,loc=avg_time,scale=scale_mon,size=N)]\n",
    "    #DataFrame con los tiempos simulados\n",
    "    sim_data_mon = pd.DataFrame(sim_lap, columns=['Piloto', 'Tiempo Simulado'])\n",
    "    #Rango intercuartílico para eliminar outliers\n",
    "    s_data, low_l, up_l = remove_outliers(sim_data_mon) #con rangos intercuartílicos\n",
    "\n",
    "    min_times = s_data.groupby('Piloto')['Tiempo Simulado'].min()\n",
    "    #de min_times se extrae el nombre del piloto con menor tiempo\n",
    "    min_pilot = min_times.idxmin()\n",
    "    piloto = str(min_pilot)\n",
    "    if flag==0:\n",
    "        return piloto\n",
    "    elif flag==1:\n",
    "        return s_data\n",
    "    else:\n",
    "        return sim_data_mon"
   ]
  },
  {
   "cell_type": "code",
   "execution_count": 34,
   "metadata": {},
   "outputs": [
    {
     "name": "stdout",
     "output_type": "stream",
     "text": [
      "El piloto más probable a hacer la vuelta rápida en Monaco es: Charles Leclerc, con una probabilidad de: 27.0%\n"
     ]
    }
   ],
   "source": [
    "#SIMULACION MONTECARLO\n",
    "\n",
    "monaco21_vr = [vuelta_rapida_mon(10000) for i in range(100)] \n",
    "#Lista con nombres de pilotos que en la simulación hicieron la vuelta rápida\n",
    "\n",
    "count = Counter(monaco21_vr)\n",
    "# Encontrar el piloto más repetido\n",
    "piloto= max(count, key=count.get)\n",
    "p = count[piloto]/100\n",
    "print(f'El piloto más probable a hacer la vuelta rápida en Monaco es: {piloto}, con una probabilidad de: {round(p*100,2)}%')\n"
   ]
  },
  {
   "cell_type": "code",
   "execution_count": 35,
   "metadata": {},
   "outputs": [
    {
     "ename": "SyntaxError",
     "evalue": "EOL while scanning string literal (<ipython-input-35-7f0cf8dad36a>, line 16)",
     "output_type": "error",
     "traceback": [
      "\u001b[0;36m  File \u001b[0;32m\"<ipython-input-35-7f0cf8dad36a>\"\u001b[0;36m, line \u001b[0;32m16\u001b[0m\n\u001b[0;31m    plt.title('Ajuste de la Distribución beta)\u001b[0m\n\u001b[0m                                              ^\u001b[0m\n\u001b[0;31mSyntaxError\u001b[0m\u001b[0;31m:\u001b[0m EOL while scanning string literal\n"
     ]
    }
   ],
   "source": [
    "# Ajuste de la distribución a los datos\n",
    "tiempos_monaco, ll, ul = remove_outliers2(Monaco_GP,'LapTime')\n",
    "A = tiempos_monaco['LapTime'].values\n",
    "paramsmonaco = st.beta.fit(A)\n",
    "\n",
    "# Histograma de los datos\n",
    "plt.hist(A, bins=60, density=True, alpha=0.5, color='orange', label='Histograma de datos')\n",
    "\n",
    "# Función de densidad ajustada\n",
    "xmin, xmax = plt.xlim()\n",
    "x = np.linspace(xmin, xmax, 100)\n",
    "pdf_fitted = st.beta.pdf(x, *paramsmonaco)\n",
    "plt.plot(x, pdf_fitted, 'c-', label='PDF ajustada')\n",
    "\n",
    "# Etiquetas y título\n",
    "plt.title('Ajuste de la Distribución beta)\n",
    "plt.xlabel('Valor')\n",
    "plt.ylabel('Densidad de probabilidad')\n",
    "plt.legend()\n",
    "\n",
    "plt.show()\n",
    "print(f'params: loc:{round(paramsmonaco[1],5)}, scale:{round(paramsmonaco[2],5)}')"
   ]
  },
  {
   "cell_type": "markdown",
   "metadata": {},
   "source": [
    "#### Simulación Circuito de Monza"
   ]
  },
  {
   "cell_type": "code",
   "execution_count": null,
   "metadata": {},
   "outputs": [],
   "source": [
    "# params_mz = st.skewnorm.fit(b)\n",
    "params_mz"
   ]
  },
  {
   "cell_type": "code",
   "execution_count": null,
   "metadata": {},
   "outputs": [],
   "source": [
    "#Obtener parámetros para la distribución Johnson su\n",
    "a, media, scale = params_mz #b: arreglo con los tiempos de vuelta en monza\n",
    "print(a, media, scale) #no se utilizará esta media para la simulación, si no la media particular de cada piloto"
   ]
  },
  {
   "cell_type": "code",
   "execution_count": null,
   "metadata": {},
   "outputs": [],
   "source": [
    "#Obtener parámetros para la distribución Johnson su\n",
    "a, media, scale = params_mz #b: arreglo con los tiempos de vuelta en monza\n",
    "print(a, media, scale) #no se utilizará esta media para la simulación, si no la media particular de cada piloto"
   ]
  },
  {
   "cell_type": "code",
   "execution_count": null,
   "metadata": {},
   "outputs": [],
   "source": [
    "#función específica para simular los tiempos de los pilotos en el GP de Monza\n",
    "\n",
    "def vuelta_rapida_mz(N:'numero de vueltas simuladas por piloto',flag=0): \n",
    "    sim_lap_monza = [(pilot, time) for (pilot, avg_time) in avg_monza.items() for time in st.skewnorm(a,loc=avg_time,scale=scale).rvs(size=N)]\n",
    "    #DataFrame con los tiempos simulados\n",
    "    sim_data = pd.DataFrame(sim_lap_monza, columns=['Piloto', 'Tiempo Simulado'])\n",
    "\n",
    "    #Rango intercuartílico para eliminar outliers\n",
    "    s_data, low_l, up_l = remove_outliers(sim_data) #con rangos intercuartílicos\n",
    "\n",
    "    min_times = s_data.groupby('Piloto')['Tiempo Simulado'].min() #serie con los tiempos mínimos de cada piloto\n",
    "\n",
    "    #de min_times se extrae el nombre del piloto con menor tiempo\n",
    "    min_pilot = min_times.idxmin()\n",
    "    piloto = str(min_pilot)\n",
    "    if flag==0:\n",
    "        return piloto #devuelve el nombre del piloto con vuelta más rápida en esta simulación\n",
    "    elif flag==1:\n",
    "        return s_data #simulación sin outliers\n",
    "    else:\n",
    "        return sim_data \n",
    "    "
   ]
  },
  {
   "cell_type": "code",
   "execution_count": null,
   "metadata": {},
   "outputs": [],
   "source": [
    "#SIMULACION MONTECARLO\n",
    "\n",
    "monza21_vr = [vuelta_rapida_mz(10000) for i in range(100)] \n",
    "#Lista con nombres de pilotos que en la simulación hicieron la vuelta rápida\n",
    "\n",
    "count = Counter(monza21_vr)\n",
    "# Encontrar el piloto más repetido\n",
    "piloto= max(count, key=count.get)\n",
    "p = count[piloto]/100\n",
    "print(f'El piloto más probable a hacer la vuelta rápida en Monza es: {piloto}, con una probabilidad de: {round(p*100,2)}%')\n"
   ]
  },
  {
   "cell_type": "code",
   "execution_count": null,
   "metadata": {},
   "outputs": [],
   "source": [
    "# Ajuste de la distribución a los datos\n",
    "tiempos_monza, ll, ul = remove_outliers2(Monza_GP,'LapTime')\n",
    "B = tiempos_monza['LapTime'].values\n",
    "paramsmonza = st.johnsonsu.fit(B)\n",
    "\n",
    "# Histograma de los datos\n",
    "plt.hist(B, bins=50, density=True, alpha=0.5, color='orange', label='Histograma de datos')\n",
    "\n",
    "# Función de densidad ajustada\n",
    "xmin, xmax = plt.xlim()\n",
    "x = np.linspace(xmin, xmax, 100)\n",
    "pdf_fitted = st.johnsonsu.pdf(x, *paramsmonza)\n",
    "plt.plot(x, pdf_fitted, 'c-', label='PDF ajustada')\n",
    "\n",
    "# Etiquetas y título\n",
    "plt.title('Ajuste de la Distribución johnsonsu')\n",
    "plt.xlabel('Valor')\n",
    "plt.ylabel('Densidad de probabilidad')\n",
    "plt.legend()\n",
    "\n",
    "plt.show()\n",
    "print(f'params: loc:{round(paramsmonza[2],5)}, scale:{round(paramsmonza[3],5)}')"
   ]
  },
  {
   "cell_type": "markdown",
   "metadata": {},
   "source": [
    "### <font color='navy'> Nodos 3 & 4.\n",
    "**Determinar distribuciones de probabilidad apropiadas**"
   ]
  },
  {
   "cell_type": "code",
   "execution_count": null,
   "metadata": {},
   "outputs": [],
   "source": [
    "#medias de cada piloto en nodos 3 y 4\n",
    "tiempos_silverstone, ll, ul = remove_outliers2(Silverstone_GP,'LapTime')\n",
    "tiempos_spa, ll, ul = remove_outliers2(Spa_GP,'LapTime')\n",
    "\n",
    "c = tiempos_silverstone['LapTime'].values\n",
    "d = tiempos_spa['LapTime'].values\n",
    "\n",
    "avg_sil = tiempos_silverstone.groupby('driverId')['LapTime'].mean()\n",
    "avg_spa = tiempos_spa.groupby('driverId')['LapTime'].mean()\n",
    "\n",
    "#avg_sil = Silverstone_GP.groupby('driverId')['LapTime'].mean()\n",
    "#avg_spa = Spa_GP.groupby('driverId')['LapTime'].mean()"
   ]
  },
  {
   "cell_type": "markdown",
   "metadata": {},
   "source": [
    "### GP de Silverstone"
   ]
  },
  {
   "cell_type": "code",
   "execution_count": null,
   "metadata": {},
   "outputs": [],
   "source": [
    "#Kernel Density Estimation\n",
    "x_grid = np.linspace(c.min() - 1, c.max() + 1, 1000)\n",
    "#KDE\n",
    "kde = gaussian_kde(dataset=c, bw_method=0.139)\n",
    "pdf = kde.evaluate(x_grid)\n",
    "\n",
    "N = 10000\n",
    "Domain = (min(c), max(c))\n",
    "x_random = acep_rechazo(N, Domain, f, max(pdf))"
   ]
  },
  {
   "cell_type": "code",
   "execution_count": null,
   "metadata": {},
   "outputs": [],
   "source": [
    "#KERNEL DENSITY ESTIMATION\n",
    "fig, ax = plt.subplots(figsize=(8, 4))\n",
    "ax.plot(x_grid, pdf, color='orange', alpha=0.7, lw=3, label='KDE')\n",
    "ax.set_xlim(c.min() - 1, c.max() + 1)\n",
    "\n",
    "ax.hist(x_random, bins=60, density=True, alpha=0.5, label='Generados con Acep_Rechazo')\n",
    "\n",
    "plt.title('Kernel Density e Histograma AyR')\n",
    "plt.legend()\n",
    "plt.show()"
   ]
  },
  {
   "cell_type": "code",
   "execution_count": null,
   "metadata": {
    "scrolled": false
   },
   "outputs": [],
   "source": [
    "fig, ax = plt.subplots(1, 1, figsize=(8,5))\n",
    "y3, x3, _ = ax.hist(c, bins=60, density=True)\n",
    "plt.title('Ajuste de distribuciones')\n",
    "plt.xlabel('Silverstone')\n",
    "x3 = x3[1:]\n",
    "rv_continuas = [d_i for d_i in dir(st) if isinstance(getattr(st, d_i), getattr(st, 'rv_continuous'))]\n",
    "error3 = pd.DataFrame(columns=['distribucion', 'error'])\n",
    "i = 0\n",
    "for d_i in rv_continuas[40:50] + ['johnsonsu'] + ['mielke'] + ['burr12'] + ['burr'] + ['genlogistic'] :\n",
    "    try:\n",
    "        params = getattr(st, d_i).fit(c)\n",
    "        data_hat = getattr(st, d_i).pdf(x3, *params)\n",
    "        ax.plot(x3, data_hat, label=d_i)            \n",
    "        error3.loc[i, :] = [d_i, np.mean((y3 - data_hat)**2)]\n",
    "        i += 1\n",
    "    except ValueError:\n",
    "        pass\n",
    "\n",
    "plt.legend()\n",
    "error3.set_index('distribucion', inplace=True)\n",
    "error3.sort_values('error', inplace=True)\n"
   ]
  },
  {
   "cell_type": "code",
   "execution_count": null,
   "metadata": {
    "scrolled": true
   },
   "outputs": [],
   "source": [
    "error3.head(5)"
   ]
  },
  {
   "cell_type": "code",
   "execution_count": null,
   "metadata": {},
   "outputs": [],
   "source": [
    "#PRUEBAS Q-Q para las 3 mejores distribuciones\n",
    "graf_qq(c,'burr12',45)"
   ]
  },
  {
   "cell_type": "code",
   "execution_count": null,
   "metadata": {},
   "outputs": [],
   "source": [
    "#PRUEBAS Q-Q para las 3 mejores distribuciones\n",
    "graf_qq(c,'johnsonsu',45)"
   ]
  },
  {
   "cell_type": "code",
   "execution_count": null,
   "metadata": {
    "scrolled": true
   },
   "outputs": [],
   "source": [
    "#PRUEBAS Q-Q para las 3 mejores distribuciones\n",
    "graf_qq(c,'mielke',45)"
   ]
  },
  {
   "cell_type": "markdown",
   "metadata": {},
   "source": [
    "Observando la tabla de error relativo y los gráficos de Q-Q, la distribución que parece más apropiada para representar los datos de Silverstone es la distribución 'mielke'. Para corroborar esto, se realizará una prueba de hipótesis donde:\n",
    "> $H_0$: la distribución es `mielke` \n",
    "\n",
    "> $H_a$: los datos no se distribuyen como `mielke`"
   ]
  },
  {
   "cell_type": "code",
   "execution_count": null,
   "metadata": {},
   "outputs": [],
   "source": [
    "params_sil = st.mielke.fit(c)\n",
    "obse = c\n",
    "esp = st.mielke.rvs(*params_sil, size=len(c))"
   ]
  },
  {
   "cell_type": "code",
   "execution_count": null,
   "metadata": {},
   "outputs": [],
   "source": [
    "t_stat, p_value = st.stats.ttest_ind(obse, esp)\n",
    "alpha = 0.05 #intervalo de confianza de 95%\n",
    "acepto_rechazo = lambda x: print(f'Se acepta la Ho, p_value = {p_value}') if x>alpha else print(f'Se rechaza la Ho, p_value = {p_value}')"
   ]
  },
  {
   "cell_type": "code",
   "execution_count": null,
   "metadata": {},
   "outputs": [],
   "source": [
    "acepto_rechazo(p_value)\n",
    "print(f'El estadístico t es: {t_stat}')"
   ]
  },
  {
   "cell_type": "markdown",
   "metadata": {},
   "source": [
    "> **Conclusión**: No podemos rechazar la $H_0$ por lo tanto los datos distribuyen como mielke."
   ]
  },
  {
   "cell_type": "markdown",
   "metadata": {},
   "source": [
    "### Simulación vuelta rápida Silverstone"
   ]
  },
  {
   "cell_type": "code",
   "execution_count": null,
   "metadata": {},
   "outputs": [],
   "source": [
    "params_sil = st.mielke.fit(c)\n",
    "params_sil "
   ]
  },
  {
   "cell_type": "code",
   "execution_count": null,
   "metadata": {
    "scrolled": false
   },
   "outputs": [],
   "source": [
    "#Obtener parámetros para la distribución Johnson su\n",
    "a, b, loc, scale = params_sil #b: arreglo con los tiempos de vuelta en monza\n",
    "print(a, b, scale) #no se utilizará esta media para la simulación, si no la media particular de cada piloto"
   ]
  },
  {
   "cell_type": "code",
   "execution_count": null,
   "metadata": {},
   "outputs": [],
   "source": [
    "#función específica para simular los tiempos de los pilotos en el GP de Monza\n",
    "\n",
    "def vuelta_rapida_sil(N:'numero de vueltas simuladas por piloto',flag=0): \n",
    "    sim_lap = [(pilot, time) for (pilot, avg_time) in avg_sil.items() for time in st.mielke(a, b, loc=avg_time, scale=scale).rvs(size=N)]\n",
    "    #DataFrame con los tiempos simulados\n",
    "    sim_data = pd.DataFrame(sim_lap, columns=['Piloto', 'Tiempo Simulado'])\n",
    "\n",
    "    #Rango intercuartílico para eliminar outliers\n",
    "    s_data, low_l, up_l = remove_outliers(sim_data) #con rangos intercuartílicos\n",
    "\n",
    "    min_times = s_data.groupby('Piloto')['Tiempo Simulado'].min() #serie con los tiempos mínimos de cada piloto\n",
    "\n",
    "    #de min_times se extrae el nombre del piloto con menor tiempo\n",
    "    min_pilot = min_times.idxmin()\n",
    "    piloto = str(min_pilot)\n",
    "    if flag==0:\n",
    "        return piloto #devuelve el nombre del piloto con vuelta más rápida en esta simulación\n",
    "    elif flag==1:\n",
    "        return s_data #simulación sin outliers\n",
    "    else:\n",
    "        return sim_data #simulación cruda con outliers"
   ]
  },
  {
   "cell_type": "code",
   "execution_count": null,
   "metadata": {},
   "outputs": [],
   "source": [
    "#SIMULACION MONTECARLO\n",
    "\n",
    "sil21_vr = [vuelta_rapida_sil(10000) for i in range(100)] \n",
    "#Lista con nombres de pilotos que en la simulación hicieron la vuelta rápida\n",
    "\n",
    "count = Counter(sil21_vr)\n",
    "# Encontrar el piloto más repetido\n",
    "piloto= max(count, key=count.get)\n",
    "p = count[piloto]/100\n",
    "print(f'El piloto más probable a hacer la vuelta rápida en Silverstone es: {piloto}, con una probabilidad de: {round(p*100,2)}%')\n"
   ]
  },
  {
   "cell_type": "code",
   "execution_count": null,
   "metadata": {
    "scrolled": true
   },
   "outputs": [],
   "source": [
    "# Ajuste de la distribución a los datos\n",
    "tiempos_sil, ll, ul = remove_outliers2(Silverstone_GP,'LapTime')\n",
    "C = tiempos_sil['LapTime'].values\n",
    "paramssil = st.mielke.fit(C)\n",
    "\n",
    "# Histograma de los datos\n",
    "plt.hist(C, bins=75, density=True, alpha=0.5, color='orange', label='Histograma de datos')\n",
    "\n",
    "# Función de densidad ajustada\n",
    "xmin, xmax = plt.xlim()\n",
    "x = np.linspace(xmin, xmax, 100)\n",
    "pdf_fitted = st.mielke.pdf(x, *paramssil)\n",
    "plt.plot(x, pdf_fitted, 'c-', label='PDF ajustada')\n",
    "\n",
    "# Etiquetas y título\n",
    "plt.title('Ajuste de la Distribución mielke')\n",
    "plt.xlabel('Valor')\n",
    "plt.ylabel('Densidad de probabilidad')\n",
    "plt.legend()\n",
    "\n",
    "plt.show()\n",
    "print(f'params: loc:{round(paramssil[2],5)}, scale:{round(paramssil[3],5)}')"
   ]
  },
  {
   "cell_type": "markdown",
   "metadata": {},
   "source": [
    "### GP de Spa"
   ]
  },
  {
   "cell_type": "code",
   "execution_count": null,
   "metadata": {},
   "outputs": [],
   "source": [
    "#Kernel Density Estimation\n",
    "x_grid = np.linspace(d.min() - 1, d.max() + 1, 1000)\n",
    "#KDE\n",
    "kde = gaussian_kde(dataset=d, bw_method=0.139)\n",
    "pdf = kde.evaluate(x_grid)\n",
    "\n",
    "N = 10000\n",
    "Domain = (min(d), max(d))\n",
    "x_random = acep_rechazo(N, Domain, f, max(pdf))"
   ]
  },
  {
   "cell_type": "code",
   "execution_count": null,
   "metadata": {},
   "outputs": [],
   "source": [
    "#KERNEL DENSITY ESTIMATION\n",
    "fig, ax = plt.subplots(figsize=(8, 4))\n",
    "ax.plot(x_grid, pdf, color='orange', alpha=0.7, lw=3, label='KDE')\n",
    "ax.set_xlim(d.min() - 1, d.max() + 1)\n",
    "\n",
    "ax.hist(x_random, bins=60, density=True, alpha=0.5, label='Generados con Acep_Rechazo')\n",
    "\n",
    "plt.title('Kernel Density e Histograma AyR')\n",
    "plt.legend()\n",
    "plt.show()"
   ]
  },
  {
   "cell_type": "code",
   "execution_count": null,
   "metadata": {
    "scrolled": false
   },
   "outputs": [],
   "source": [
    "fig, ax = plt.subplots(1, 1, figsize=(8,5))\n",
    "y4, x4, _ = ax.hist(d, bins=60, density=True)\n",
    "plt.title('Ajuste de distribuciones')\n",
    "plt.xlabel('Silverstone')\n",
    "x4 = x4[1:]\n",
    "rv_continuas = [d_i for d_i in dir(st) if isinstance(getattr(st, d_i), getattr(st, 'rv_continuous'))]\n",
    "error4 = pd.DataFrame(columns=['distribucion', 'error'])\n",
    "i = 0\n",
    "for d_i in rv_continuas[70:80] + ['johnsonsu'] + ['mielke'] + ['burr12'] + ['skewnorm'] + ['genlogistic'] : #40:50 70:80 60:70\n",
    "    try:\n",
    "        params = getattr(st, d_i).fit(d)\n",
    "        data_hat = getattr(st, d_i).pdf(x4, *params)\n",
    "        ax.plot(x4, data_hat, label=d_i)            \n",
    "        error4.loc[i, :] = [d_i, np.mean((y4 - data_hat)**2)]\n",
    "        i += 1\n",
    "    except ValueError:\n",
    "        pass\n",
    "\n",
    "plt.legend()\n",
    "error4.set_index('distribucion', inplace=True)\n",
    "error4.sort_values('error', inplace=True)\n"
   ]
  },
  {
   "cell_type": "code",
   "execution_count": null,
   "metadata": {
    "scrolled": true
   },
   "outputs": [],
   "source": [
    "error4.head(5)"
   ]
  },
  {
   "cell_type": "code",
   "execution_count": null,
   "metadata": {},
   "outputs": [],
   "source": [
    "#PRUEBAS Q-Q para las 3 mejores distribuciones\n",
    "graf_qq(d,'johnsonsu',60)"
   ]
  },
  {
   "cell_type": "code",
   "execution_count": null,
   "metadata": {},
   "outputs": [],
   "source": [
    "#PRUEBAS Q-Q para las 3 mejores distribuciones\n",
    "graf_qq(d,'genlogistic',60)"
   ]
  },
  {
   "cell_type": "code",
   "execution_count": null,
   "metadata": {
    "scrolled": true
   },
   "outputs": [],
   "source": [
    "#PRUEBAS Q-Q para las 3 mejores distribuciones\n",
    "graf_qq(d,'mielke',60)"
   ]
  },
  {
   "cell_type": "markdown",
   "metadata": {},
   "source": [
    "Observando la tabla de error relativo y los gráficos de Q-Q, la distribución que parece más apropiada para representar los datos de Silverstone es la distribución 'mielke'. Para corroborar esto, se realizará una prueba de hipótesis donde:\n",
    "> $H_0$: la distribución es `jhonsonsu` \n",
    "\n",
    "> $H_a$: los datos no se distribuyen como `jhonsonsu`"
   ]
  },
  {
   "cell_type": "code",
   "execution_count": null,
   "metadata": {},
   "outputs": [],
   "source": [
    "params_spa = st.johnsonsu.fit(d)\n",
    "obse = d\n",
    "esp = st.johnsonsu.rvs(*params_spa, size=len(d))"
   ]
  },
  {
   "cell_type": "code",
   "execution_count": null,
   "metadata": {},
   "outputs": [],
   "source": [
    "t_stat, p_value = st.stats.ttest_ind(obse, esp)\n",
    "alpha = 0.05 #intervalo de confianza de 95%\n",
    "acepto_rechazo = lambda x: print(f'Se acepta la Ho, p_value = {p_value}') if x>alpha else print(f'Se rechaza la Ho, p_value = {p_value}')"
   ]
  },
  {
   "cell_type": "code",
   "execution_count": null,
   "metadata": {
    "scrolled": true
   },
   "outputs": [],
   "source": [
    "acepto_rechazo(p_value)\n",
    "print(f'El estadístico t es: {t_stat}')"
   ]
  },
  {
   "cell_type": "markdown",
   "metadata": {},
   "source": [
    "> **Conclusión**: Se acepta la $H_0$ por lo tanto los datos distribuyen como jhonsonsu.\n",
    "\n",
    "### Simulación vuelta rápida Spa"
   ]
  },
  {
   "cell_type": "code",
   "execution_count": null,
   "metadata": {},
   "outputs": [],
   "source": [
    "params_spa = st.johnsonsu.fit(d)\n",
    "params_spa"
   ]
  },
  {
   "cell_type": "code",
   "execution_count": null,
   "metadata": {
    "scrolled": true
   },
   "outputs": [],
   "source": [
    "#Obtener parámetros para la distribución Johnson su\n",
    "a, b, media, scale = params_spa #b: arreglo con los tiempos de vuelta en monza\n",
    "print(a, b, media, scale) #no se utilizará esta media para la simulación, si no la media particular de cada piloto"
   ]
  },
  {
   "cell_type": "code",
   "execution_count": null,
   "metadata": {},
   "outputs": [],
   "source": [
    "#función específica para simular los tiempos de los pilotos en el GP de Monza\n",
    "\n",
    "def vuelta_rapida_spa(N:'numero de vueltas simuladas por piloto',flag=0): \n",
    "    sim_lap = [(pilot, time) for (pilot, avg_time) in avg_spa.items() for time in st.johnsonsu(a, b, loc=avg_time, scale=scale).rvs(size=N)]\n",
    "    #DataFrame con los tiempos simulados\n",
    "    sim_data = pd.DataFrame(sim_lap, columns=['Piloto', 'Tiempo Simulado'])\n",
    "\n",
    "    #Rango intercuartílico para eliminar outliers\n",
    "    s_data, low_l, up_l = remove_outliers(sim_data) #con rangos intercuartílicos\n",
    "\n",
    "    min_times = s_data.groupby('Piloto')['Tiempo Simulado'].min() #serie con los tiempos mínimos de cada piloto\n",
    "\n",
    "    #de min_times se extrae el nombre del piloto con menor tiempo\n",
    "    min_pilot = min_times.idxmin()\n",
    "    piloto = str(min_pilot)\n",
    "    if flag==0:\n",
    "        return piloto #devuelve el nombre del piloto con vuelta más rápida en esta simulación\n",
    "    elif flag==1:\n",
    "        return s_data #simulación sin outliers\n",
    "    else:\n",
    "        return sim_data #simulación cruda con outliers"
   ]
  },
  {
   "cell_type": "code",
   "execution_count": null,
   "metadata": {},
   "outputs": [],
   "source": [
    "#SIMULACION MONTECARLO\n",
    "\n",
    "spa21_vr = [vuelta_rapida_spa(10000) for i in range(100)] \n",
    "#Lista con nombres de pilotos que en la simulación hicieron la vuelta rápida\n",
    "\n",
    "count = Counter(spa21_vr)\n",
    "# Encontrar el piloto más repetido\n",
    "piloto= max(count, key=count.get)\n",
    "p = count[piloto]/100\n",
    "print(f'El piloto más probable a hacer la vuelta rápida en Spa es: {piloto}, con una probabilidad de: {round(p*100,2)}%')\n"
   ]
  },
  {
   "cell_type": "code",
   "execution_count": null,
   "metadata": {},
   "outputs": [],
   "source": [
    "#SIMULACION MONTECARLO\n",
    "\n",
    "spa21_vr = [vuelta_rapida_spa(10000) for i in range(100)] \n",
    "#Lista con nombres de pilotos que en la simulación hicieron la vuelta rápida\n",
    "\n",
    "count = Counter(spa21_vr)\n",
    "# Encontrar el piloto más repetido\n",
    "piloto= max(count, key=count.get)\n",
    "p = count[piloto]/100\n",
    "print(f'El piloto más probable a hacer la vuelta rápida en Spa es: {piloto}, con una probabilidad de: {round(p*100,2)}%')\n"
   ]
  },
  {
   "cell_type": "code",
   "execution_count": null,
   "metadata": {},
   "outputs": [],
   "source": [
    "# Ajuste de la distribución a los datos\n",
    "tiempos_spa, ll, ul = remove_outliers2(Spa_GP,'LapTime')\n",
    "D = tiempos_spa['LapTime'].values\n",
    "paramsspa = st.johnsonsu.fit(D)\n",
    "\n",
    "# Histograma de los datos\n",
    "plt.hist(D, bins=50, density=True, alpha=0.5, color='orange', label='Histograma de datos')\n",
    "\n",
    "# Función de densidad ajustada\n",
    "xmin, xmax = plt.xlim()\n",
    "x = np.linspace(xmin, xmax, 100)\n",
    "pdf_fitted = st.johnsonsu.pdf(x, *paramsspa)\n",
    "plt.plot(x, pdf_fitted, 'c-', label='PDF ajustada')\n",
    "\n",
    "# Etiquetas y título\n",
    "plt.title('Ajuste de la Distribución gennorm')\n",
    "plt.xlabel('Valor')\n",
    "plt.ylabel('Densidad de probabilidad')\n",
    "plt.legend()\n",
    "\n",
    "plt.show()\n",
    "print(f'params: loc:{round(paramsspa[2],5)}, scale:{round(paramsspa[3],5)}')"
   ]
  },
  {
   "cell_type": "markdown",
   "metadata": {},
   "source": [
    "## Ganador "
   ]
  },
  {
   "cell_type": "code",
   "execution_count": 36,
   "metadata": {},
   "outputs": [],
   "source": [
    "### Librerias\n",
    "import pandas as pd\n",
    "import numpy as np\n",
    "import scipy.stats as st    \n",
    "import statsmodels.api as sm \n",
    "import matplotlib.pyplot as plt\n",
    "from scipy import optimize\n",
    "\n",
    "from sklearn.neighbors import KernelDensity\n",
    "from scipy.stats import gaussian_kde\n",
    "from statsmodels.nonparametric.kde import KDEUnivariate\n",
    "from statsmodels.nonparametric.kernel_density import KDEMultivariate\n",
    "\n",
    "from sklearn.model_selection import GridSearchCV\n",
    "import seaborn as sns\n",
    "\n",
    "import warnings\n",
    "warnings.filterwarnings(\"ignore\")"
   ]
  },
  {
   "cell_type": "markdown",
   "metadata": {},
   "source": [
    "### Monza"
   ]
  },
  {
   "cell_type": "code",
   "execution_count": 37,
   "metadata": {},
   "outputs": [],
   "source": [
    "Monza = Monza_GP.groupby('driverId')['carPosition'].mean()"
   ]
  },
  {
   "cell_type": "code",
   "execution_count": 38,
   "metadata": {},
   "outputs": [
    {
     "data": {
      "text/plain": [
       "<matplotlib.axes._subplots.AxesSubplot at 0x1a26b6bb90>"
      ]
     },
     "execution_count": 38,
     "metadata": {},
     "output_type": "execute_result"
    },
    {
     "data": {
      "image/png": "[encoded data removed]",
      "text/plain": [
       "<Figure size 432x288 with 1 Axes>"
      ]
     },
     "metadata": {
      "needs_background": "light"
     },
     "output_type": "display_data"
    }
   ],
   "source": [
    "plt.title('Histograma de frecuencia del piloto en la posición')\n",
    "Monza_GP.groupby(['driverId','carPosition'])['GP'].count().hist()"
   ]
  },
  {
   "cell_type": "code",
   "execution_count": 39,
   "metadata": {},
   "outputs": [
    {
     "data": {
      "image/png": "[encoded data removed]",
      "text/plain": [
       "<Figure size 720x432 with 1 Axes>"
      ]
     },
     "metadata": {
      "needs_background": "light"
     },
     "output_type": "display_data"
    }
   ],
   "source": [
    "# Promedio de la posición del coche para cada piloto\n",
    "promedio_posicion = Monza_GP.groupby('driverId')['carPosition'].mean()\n",
    "\n",
    "# Histograma del promedio de la posición del coche\n",
    "plt.figure(figsize=(10, 6))\n",
    "plt.hist(promedio_posicion, bins=10, edgecolor='black', alpha=0.7)\n",
    "plt.xlabel('Promedio de Posición del Coche')\n",
    "plt.ylabel('Frecuencia')\n",
    "plt.title('Histograma del Promedio de Posición del Coche por Piloto')\n",
    "plt.grid(True)\n",
    "plt.show()"
   ]
  },
  {
   "cell_type": "code",
   "execution_count": 40,
   "metadata": {},
   "outputs": [
    {
     "data": {
      "image/png": "[encoded data removed]",
      "text/plain": [
       "<Figure size 720x504 with 1 Axes>"
      ]
     },
     "metadata": {
      "needs_background": "light"
     },
     "output_type": "display_data"
    },
    {
     "name": "stdout",
     "output_type": "stream",
     "text": [
      "   distribución     error\n",
      "0      bradford  0.001499\n",
      "1          beta  0.001583\n",
      "2         expon     0.002\n",
      "3     exponnorm  0.002266\n",
      "4          norm  0.002266\n",
      "5       uniform  0.001558\n",
      "6      foldnorm   0.00182\n",
      "7       gennorm  0.001558\n",
      "8         ksone  0.001573\n",
      "9        kappa4  0.001473\n",
      "10    johnsonsb  0.002437\n"
     ]
    }
   ],
   "source": [
    "# Lista de distribuciones de probabilidad\n",
    "dist_list = ['bradford', 'beta', 'expon', 'exponnorm', 'norm', 'uniform', 'foldnorm', 'gennorm', 'ksone', 'kappa4', 'johnsonsb']\n",
    "\n",
    "fig, ax = plt.subplots(1, 1, figsize=(10, 7))\n",
    "\n",
    "y, x = np.histogram(promedio_posicion, bins=15, density=True)\n",
    "x = (x + np.roll(x, -1))[:-1] / 2\n",
    "\n",
    "i = 0\n",
    "error_df = pd.DataFrame(columns=['distribución', 'error'])\n",
    "\n",
    "for d in dist_list:\n",
    "    param = getattr(st, d).fit(promedio_posicion)\n",
    "    y_hat = getattr(st, d).pdf(x, *param)\n",
    "    error = np.mean((y - y_hat) ** 2)\n",
    "    error_df.loc[i, 'distribución'] = d\n",
    "    error_df.loc[i, 'error'] = error\n",
    "    i += 1\n",
    "\n",
    "# Ajusta el ancho de las barras del histograma\n",
    "width = x[1] - x[0]\n",
    "\n",
    "# Dibuja el histograma\n",
    "ax.bar(x, y, width=width, alpha=0.5, label='Histograma')\n",
    "\n",
    "# Dibuja las líneas de las distribuciones\n",
    "for d in dist_list:\n",
    "    param = getattr(st, d).fit(promedio_posicion)\n",
    "    y_hat = getattr(st, d).pdf(x, *param)\n",
    "    ax.plot(x, y_hat, label=f'{d}')\n",
    "\n",
    "plt.legend()\n",
    "plt.show()\n",
    "\n",
    "# Error cuadrático medio para cada distribución\n",
    "print(error_df)"
   ]
  },
  {
   "cell_type": "markdown",
   "metadata": {},
   "source": [
    "La que tiene menor error es kappa4"
   ]
  },
  {
   "cell_type": "code",
   "execution_count": 41,
   "metadata": {},
   "outputs": [
    {
     "data": {
      "text/plain": [
       "(1.0719131313624262,\n",
       " 0.9749087985405804,\n",
       " 0.3220321817925935,\n",
       " 17.267485807942418)"
      ]
     },
     "execution_count": 41,
     "metadata": {},
     "output_type": "execute_result"
    }
   ],
   "source": [
    "#Parámetros de distibución kappa4 en nuestros datos\n",
    "params_Monza = st.kappa4.fit(promedio_posicion)\n",
    "params_Monza"
   ]
  },
  {
   "cell_type": "code",
   "execution_count": 42,
   "metadata": {},
   "outputs": [
    {
     "data": {
      "text/plain": [
       "KstestResult(statistic=0.09619192085524242, pvalue=0.9925838083545099)"
      ]
     },
     "execution_count": 42,
     "metadata": {},
     "output_type": "execute_result"
    }
   ],
   "source": [
    "# Prueba de hipótesis\n",
    "st.kstest(promedio_posicion, lambda promedio_posicion: st.kappa4.cdf(promedio_posicion,*params_Monza))"
   ]
  },
  {
   "cell_type": "markdown",
   "metadata": {},
   "source": [
    "Observando nuestro \"p-value\", vemos que al ser considereablemente alta, podemos aceptar la hipótesis nula, de manera que podemos decir que estadísticamente el promedio de la posición del coche le ayuda a ganar el primer lugar de la carrera. "
   ]
  },
  {
   "cell_type": "code",
   "execution_count": 43,
   "metadata": {},
   "outputs": [
    {
     "data": {
      "image/png": "[encoded data removed]",
      "text/plain": [
       "<Figure size 432x288 with 1 Axes>"
      ]
     },
     "metadata": {
      "needs_background": "light"
     },
     "output_type": "display_data"
    }
   ],
   "source": [
    "dist = 'kappa4'\n",
    "params1 = getattr(st, dist).fit(promedio_posicion)\n",
    "\n",
    "random_hat1 = getattr(st, dist).rvs(*params1, size = 100)\n",
    "\n",
    "plt.hist(promedio_posicion, bins =15, label = 'data real', density = True)\n",
    "plt.hist(random_hat1, bins = 20, density = True, alpha = .5, label = 'data estimado')\n",
    "plt.legend()\n",
    "plt.show()"
   ]
  },
  {
   "cell_type": "code",
   "execution_count": 44,
   "metadata": {},
   "outputs": [
    {
     "data": {
      "image/png": "[encoded data removed]",
      "text/plain": [
       "<Figure size 576x360 with 1 Axes>"
      ]
     },
     "metadata": {
      "needs_background": "light"
     },
     "output_type": "display_data"
    }
   ],
   "source": [
    "divisiones = 20\n",
    "fig, ax = plt.subplots(1, 1, figsize=(8, 5))\n",
    "\n",
    "grap2 = st.probplot(promedio_posicion, dist='kappa4', sparams=getattr(st, 'kappa4').fit(promedio_posicion)[:-2], plot=ax, fit=True)\n",
    "ax.grid()\n",
    "ax.set_title('Gráfico de Probabilidad Utilizando paquete scipy')\n",
    "\n",
    "plt.show()"
   ]
  },
  {
   "cell_type": "markdown",
   "metadata": {},
   "source": [
    "### Monaco"
   ]
  },
  {
   "cell_type": "code",
   "execution_count": null,
   "metadata": {},
   "outputs": [],
   "source": [
    "Monaco = Monaco_GP.groupby('driverId')['carPosition'].mean()"
   ]
  },
  {
   "cell_type": "code",
   "execution_count": null,
   "metadata": {},
   "outputs": [],
   "source": [
    "# Calcula el promedio de la posición del coche para cada piloto\n",
    "promedio_posicion2 = Monaco_GP.groupby('driverId')['carPosition'].mean()\n",
    "\n",
    "# Crea un histograma del promedio de la posición del coche\n",
    "plt.figure(figsize=(10, 6))\n",
    "plt.hist(promedio_posicion2, bins=10, edgecolor='black', alpha=0.7)\n",
    "plt.xlabel('Promedio de Posición del Coche')\n",
    "plt.ylabel('Frecuencia')\n",
    "plt.title('Histograma del Promedio de Posición del Coche por Piloto')\n",
    "plt.grid(True)\n",
    "plt.show()"
   ]
  },
  {
   "cell_type": "code",
   "execution_count": null,
   "metadata": {},
   "outputs": [],
   "source": [
    "# Lista de distribuciones de probabilidad\n",
    "dist_list = ['bradford', 'beta', 'expon', 'exponnorm', 'norm', 'uniform', 'foldnorm', 'gennorm', 'ksone', 'kappa4', 'johnsonsb']\n",
    "\n",
    "fig, ax = plt.subplots(1, 1, figsize=(10, 7))\n",
    "\n",
    "y, x = np.histogram(promedio_posicion2, bins=15, density=True)\n",
    "x = (x + np.roll(x, -1))[:-1] / 2\n",
    "\n",
    "i = 0\n",
    "error_df = pd.DataFrame(columns=['distribución', 'error'])\n",
    "\n",
    "for d in dist_list:\n",
    "    param = getattr(st, d).fit(promedio_posicion2)\n",
    "    y_hat = getattr(st, d).pdf(x, *param)\n",
    "    error = np.mean((y - y_hat) ** 2)\n",
    "    error_df.loc[i, 'distribución'] = d\n",
    "    error_df.loc[i, 'error'] = error\n",
    "    i += 1\n",
    "\n",
    "# Ajusta el ancho de las barras del histograma\n",
    "width = x[1] - x[0]\n",
    "\n",
    "# Dibuja el histograma\n",
    "ax.bar(x, y, width=width, alpha=0.5, label='Histograma')\n",
    "\n",
    "# Dibuja las líneas de las distribuciones\n",
    "for d in dist_list:\n",
    "    param = getattr(st, d).fit(promedio_posicion2)\n",
    "    y_hat = getattr(st, d).pdf(x, *param)\n",
    "    ax.plot(x, y_hat, label=f'{d}')\n",
    "\n",
    "plt.legend()\n",
    "plt.show()\n",
    "\n",
    "# Error cuadrático medio para cada distribución\n",
    "print(error_df)"
   ]
  },
  {
   "cell_type": "code",
   "execution_count": null,
   "metadata": {},
   "outputs": [],
   "source": [
    "#Parámetros de distibución beta en nuestros datos\n",
    "params_Monaco = st.beta.fit(promedio_posicion2)\n",
    "params_Monaco"
   ]
  },
  {
   "cell_type": "code",
   "execution_count": null,
   "metadata": {},
   "outputs": [],
   "source": [
    "# Prueba de hipótesis\n",
    "st.kstest(promedio_posicion2, lambda promedio_posicion2: st.beta.cdf(promedio_posicion2,*params_Monaco))"
   ]
  },
  {
   "cell_type": "code",
   "execution_count": null,
   "metadata": {},
   "outputs": [],
   "source": [
    "dist='beta'\n",
    "params1 = getattr(st, dist).fit(promedio_posicion2)\n",
    "\n",
    "random_hat1 = getattr(st, dist).rvs(*params1, size = 100)\n",
    "\n",
    "plt.hist(promedio_posicion2, bins =15, label = 'data real', density = True)\n",
    "plt.hist(random_hat1, bins = 20, density = True, alpha = .5, label = 'data estimado')\n",
    "plt.legend()\n",
    "plt.show()"
   ]
  },
  {
   "cell_type": "code",
   "execution_count": null,
   "metadata": {},
   "outputs": [],
   "source": [
    "divisiones = 20\n",
    "fig, ax = plt.subplots(1, 1, figsize=(8, 5))\n",
    "\n",
    "grap2 = st.probplot(promedio_posicion2, dist='beta', sparams=getattr(st, 'beta').fit(promedio_posicion2)[:-2], plot=ax, fit=True)\n",
    "ax.grid()\n",
    "ax.set_title('Gráfico de Probabilidad Utilizando paquete scipy')\n",
    "\n",
    "plt.show()"
   ]
  },
  {
   "cell_type": "markdown",
   "metadata": {},
   "source": [
    "## Silverstone"
   ]
  },
  {
   "cell_type": "code",
   "execution_count": null,
   "metadata": {},
   "outputs": [],
   "source": [
    "Silverstone = Silverstone_GP.groupby('driverId')['carPosition'].mean()"
   ]
  },
  {
   "cell_type": "code",
   "execution_count": null,
   "metadata": {},
   "outputs": [],
   "source": [
    "plt.title('Histograma de frecuencia del piloto en la posición')\n",
    "Silverstone_GP.groupby(['driverId','carPosition'])['GP'].count().hist()"
   ]
  },
  {
   "cell_type": "code",
   "execution_count": null,
   "metadata": {},
   "outputs": [],
   "source": [
    "# Calcula el promedio de la posición del coche para cada piloto\n",
    "promedio_posicion3 = Silverstone_GP.groupby('driverId')['carPosition'].mean()\n",
    "\n",
    "# Crea un histograma del promedio de la posición del coche\n",
    "plt.figure(figsize=(10, 6))\n",
    "plt.hist(promedio_posicion3, bins=10, edgecolor='black', alpha=0.7)\n",
    "plt.xlabel('Promedio de Posición del Coche')\n",
    "plt.ylabel('Frecuencia')\n",
    "plt.title('Histograma del Promedio de Posición del Coche por Piloto')\n",
    "plt.grid(True)\n",
    "plt.show()"
   ]
  },
  {
   "cell_type": "code",
   "execution_count": null,
   "metadata": {},
   "outputs": [],
   "source": [
    "# Lista de distribuciones de probabilidad\n",
    "dist_list = ['bradford', 'beta', 'expon', 'exponnorm', 'norm', 'uniform', 'foldnorm', 'gennorm', 'ksone', 'kappa4', 'johnsonsb']\n",
    "\n",
    "fig, ax = plt.subplots(1, 1, figsize=(10, 7))\n",
    "\n",
    "y, x = np.histogram(promedio_posicion3, bins=15, density=True)\n",
    "x = (x + np.roll(x, -1))[:-1] / 2\n",
    "\n",
    "i = 0\n",
    "error_df = pd.DataFrame(columns=['distribución', 'error'])\n",
    "\n",
    "for d in dist_list:\n",
    "    param = getattr(st, d).fit(promedio_posicion3)\n",
    "    y_hat = getattr(st, d).pdf(x, *param)\n",
    "    error = np.mean((y - y_hat) ** 2)\n",
    "    error_df.loc[i, 'distribución'] = d\n",
    "    error_df.loc[i, 'error'] = error\n",
    "    i += 1\n",
    "\n",
    "# Ajusta el ancho de las barras del histograma\n",
    "width = x[1] - x[0]\n",
    "\n",
    "# Dibuja el histograma\n",
    "ax.bar(x, y, width=width, alpha=0.5, label='Histograma')\n",
    "\n",
    "# Dibuja las líneas de las distribuciones\n",
    "for d in dist_list:\n",
    "    param = getattr(st, d).fit(promedio_posicion3)\n",
    "    y_hat = getattr(st, d).pdf(x, *param)\n",
    "    ax.plot(x, y_hat, label=f'{d}')\n",
    "\n",
    "plt.legend()\n",
    "plt.show()\n",
    "\n",
    "# Error cuadrático medio para cada distribución\n",
    "print(error_df)"
   ]
  },
  {
   "cell_type": "code",
   "execution_count": null,
   "metadata": {},
   "outputs": [],
   "source": [
    "#Parámetros de distibución uniform en nuestros datos\n",
    "params_Silverstone = st.uniform.fit(promedio_posicion3)\n",
    "params_Silverstone"
   ]
  },
  {
   "cell_type": "code",
   "execution_count": null,
   "metadata": {},
   "outputs": [],
   "source": [
    "# Prueba de hipótesis\n",
    "st.kstest(promedio_posicion3, lambda promedio_posicion3: st.uniform.cdf(promedio_posicion3,*params_Silverstone))"
   ]
  },
  {
   "cell_type": "code",
   "execution_count": null,
   "metadata": {},
   "outputs": [],
   "source": [
    "dist = 'uniform'\n",
    "params3 = getattr(st, dist).fit(promedio_posicion3)\n",
    "\n",
    "random_hat3 = getattr(st, dist).rvs(*params3, size = 100)\n",
    "\n",
    "plt.hist(promedio_posicion3, bins =15, label = 'data real', density = True)\n",
    "plt.hist(random_hat3, bins = 20, density = True, alpha = .5, label = 'data estimado')\n",
    "plt.legend()\n",
    "plt.show()"
   ]
  },
  {
   "cell_type": "code",
   "execution_count": null,
   "metadata": {},
   "outputs": [],
   "source": [
    "divisiones = 20\n",
    "fig, ax = plt.subplots(1, 1, figsize=(8, 5))\n",
    "\n",
    "grap2 = st.probplot(promedio_posicion3, dist='uniform', sparams=getattr(st, 'uniform').fit(promedio_posicion3)[:-2], plot=ax, fit=True)\n",
    "ax.grid()\n",
    "ax.set_title('Gráfico de Probabilidad Utilizando paquete scipy')\n",
    "\n",
    "plt.show()"
   ]
  },
  {
   "cell_type": "markdown",
   "metadata": {},
   "source": [
    "## Spa"
   ]
  },
  {
   "cell_type": "code",
   "execution_count": null,
   "metadata": {},
   "outputs": [],
   "source": [
    "Spa = Spa_GP.groupby('driverId')['carPosition'].mean()"
   ]
  },
  {
   "cell_type": "code",
   "execution_count": null,
   "metadata": {},
   "outputs": [],
   "source": [
    "plt.title('Histograma de frecuencia del piloto en la posición')\n",
    "Spa_GP.groupby(['driverId','carPosition'])['GP'].count().hist()"
   ]
  },
  {
   "cell_type": "code",
   "execution_count": null,
   "metadata": {},
   "outputs": [],
   "source": [
    "# Calcula el promedio de la posición del coche para cada piloto\n",
    "promedio_posicion4 = Spa_GP.groupby('driverId')['carPosition'].mean()\n",
    "\n",
    "# Crea un histograma del promedio de la posición del coche\n",
    "plt.figure(figsize=(10, 6))\n",
    "plt.hist(promedio_posicion4, bins=10, edgecolor='black', alpha=0.7)\n",
    "plt.xlabel('Promedio de Posición del Coche')\n",
    "plt.ylabel('Frecuencia')\n",
    "plt.title('Histograma del Promedio de Posición del Coche por Piloto')\n",
    "plt.grid(True)\n",
    "plt.show()"
   ]
  },
  {
   "cell_type": "code",
   "execution_count": null,
   "metadata": {},
   "outputs": [],
   "source": [
    "# Lista de distribuciones de probabilidad\n",
    "dist_list = ['bradford', 'beta', 'expon', 'exponnorm', 'norm', 'uniform', 'foldnorm', 'gennorm', 'ksone', 'kappa4', 'johnsonsb']\n",
    "\n",
    "fig, ax = plt.subplots(1, 1, figsize=(10, 7))\n",
    "\n",
    "y, x = np.histogram(promedio_posicion4, bins=15, density=True)\n",
    "x = (x + np.roll(x, -1))[:-1] / 2\n",
    "\n",
    "i = 0\n",
    "error_df = pd.DataFrame(columns=['distribución', 'error'])\n",
    "\n",
    "for d in dist_list:\n",
    "    param = getattr(st, d).fit(promedio_posicion4)\n",
    "    y_hat = getattr(st, d).pdf(x, *param)\n",
    "    error = np.mean((y - y_hat) ** 2)\n",
    "    error_df.loc[i, 'distribución'] = d\n",
    "    error_df.loc[i, 'error'] = error\n",
    "    i += 1\n",
    "\n",
    "# Ajusta el ancho de las barras del histograma\n",
    "width = x[1] - x[0]\n",
    "\n",
    "# Dibuja el histograma\n",
    "ax.bar(x, y, width=width, alpha=0.5, label='Histograma')\n",
    "\n",
    "# Dibuja las líneas de las distribuciones\n",
    "for d in dist_list:\n",
    "    param = getattr(st, d).fit(promedio_posicion4)\n",
    "    y_hat = getattr(st, d).pdf(x, *param)\n",
    "    ax.plot(x, y_hat, label=f'{d}')\n",
    "\n",
    "plt.legend()\n",
    "plt.show()\n",
    "\n",
    "# Error cuadrático medio para cada distribución\n",
    "print(error_df)"
   ]
  },
  {
   "cell_type": "code",
   "execution_count": null,
   "metadata": {},
   "outputs": [],
   "source": [
    "#Parámetros de distibución kappa4 en nuestros datos\n",
    "params_Spa = st.beta.fit(promedio_posicion4)\n",
    "params_Spa"
   ]
  },
  {
   "cell_type": "code",
   "execution_count": null,
   "metadata": {},
   "outputs": [],
   "source": [
    "# Prueba de hipótesis\n",
    "st.kstest(promedio_posicion4, lambda promedio_posicion4: st.beta.cdf(promedio_posicion4,*params_Spa))"
   ]
  },
  {
   "cell_type": "code",
   "execution_count": null,
   "metadata": {},
   "outputs": [],
   "source": [
    "dist = 'beta'\n",
    "params4 = getattr(st, dist).fit(promedio_posicion4)\n",
    "\n",
    "random_hat4 = getattr(st, dist).rvs(*params4, size = 100)\n",
    "\n",
    "plt.hist(promedio_posicion4, bins =15, label = 'data real', density = True)\n",
    "plt.hist(random_hat4, bins = 20, density = True, alpha = .5, label = 'data estimado')\n",
    "plt.legend()\n",
    "plt.show()"
   ]
  },
  {
   "cell_type": "code",
   "execution_count": null,
   "metadata": {},
   "outputs": [],
   "source": [
    "divisiones = 20\n",
    "fig, ax = plt.subplots(1, 1, figsize=(8, 5))\n",
    "\n",
    "grap3 = st.probplot(promedio_posicion4, dist='beta', sparams=getattr(st, 'beta').fit(promedio_posicion4)[:-2], plot=ax, fit=True)\n",
    "ax.grid()\n",
    "ax.set_title('Gráfico de Probabilidad Utilizando paquete scipy')\n",
    "\n",
    "plt.show()"
   ]
  },
  {
   "cell_type": "markdown",
   "metadata": {},
   "source": [
    "## Más probable a abandonar "
   ]
  },
  {
   "cell_type": "markdown",
   "metadata": {},
   "source": [
    "### Monza"
   ]
  },
  {
   "cell_type": "code",
   "execution_count": null,
   "metadata": {},
   "outputs": [],
   "source": [
    "def histo(Monza_GP):\n",
    "    # Define el número total de vueltas requeridas\n",
    "    vueltas_totales = 27\n",
    "\n",
    "    # Encuentra el último registro de cada piloto\n",
    "    ultimo_registro = Monza_GP.groupby('driverId')['currentLapNum'].max().reset_index()\n",
    "\n",
    "    # Filtra los pilotos que completaron exactamente las 27 vueltas y los que abandonaron\n",
    "    completaron = ultimo_registro[ultimo_registro['currentLapNum'] == vueltas_totales]\n",
    "    abandonaron = ultimo_registro[ultimo_registro['currentLapNum'] != vueltas_totales]\n",
    "\n",
    "    # Crea el histograma\n",
    "    plt.figure(figsize=(8, 6))\n",
    "    plt.bar(['Completaron', 'Abandonaron'], [len(completaron), len(abandonaron)], color=['green', 'red'], alpha=0.7)\n",
    "    plt.xlabel(\"Estado de los Pilotos\")\n",
    "    plt.ylabel(\"Cantidad de Pilotos\")\n",
    "    plt.title(\"Histograma de Pilotos en Monza (Completado vs. Abandono)\")\n",
    "    plt.show()\n",
    "\n",
    "    # Datos para calcular errores\n",
    "    y, x = np.histogram(completaron['currentLapNum'], bins=15, density=True)\n",
    "    x = (x + np.roll(x, -1))[:-1] / 2\n",
    "\n",
    "    # Inicializa un DataFrame para los errores\n",
    "    error_df = pd.DataFrame(columns=['Distribución', 'Error'])\n",
    "\n",
    "    # Lista de distribuciones de probabilidad\n",
    "    dist_list = ['bradford', 'beta', 'expon', 'exponnorm', 'norm', 'uniform', 'foldnorm', 'gennorm', 'ksone', 'kappa4', 'johnsonsb']\n",
    "\n",
    "    # Ajusta y calcula errores para cada distribución\n",
    "    for dist_name in dist_list:\n",
    "        dist = getattr(st, dist_name)\n",
    "        params = dist.fit(completaron['currentLapNum'])\n",
    "        y_hat = dist.pdf(x, *params)\n",
    "        error = np.mean((y - y_hat) ** 2)\n",
    "        error_df = error_df.append({'Distribución': dist_name, 'Error': error}, ignore_index=True)\n",
    "\n",
    "    # Muestra la tabla de errores\n",
    "    print(error_df)\n",
    "\n",
    "# Llama a la función con tus datos\n",
    "histo(Monza_GP)"
   ]
  },
  {
   "cell_type": "markdown",
   "metadata": {},
   "source": [
    "### Mónaco"
   ]
  },
  {
   "cell_type": "code",
   "execution_count": null,
   "metadata": {},
   "outputs": [],
   "source": [
    "def histo(Monaco_GP):\n",
    "    # Define el número total de vueltas requeridas\n",
    "    vueltas_totales = 39\n",
    "\n",
    "    # Encuentra el último registro de cada piloto\n",
    "    ultimo_registro = Monaco_GP.groupby('driverId')['currentLapNum'].max().reset_index()\n",
    "\n",
    "    # Filtra los pilotos que completaron exactamente las 27 vueltas y los que abandonaron\n",
    "    completaron = ultimo_registro[ultimo_registro['currentLapNum'] == vueltas_totales]\n",
    "    abandonaron = ultimo_registro[ultimo_registro['currentLapNum'] != vueltas_totales]\n",
    "\n",
    "    # Crea el histograma\n",
    "    plt.figure(figsize=(8, 6))\n",
    "    plt.bar(['Completaron', 'Abandonaron'], [len(completaron), len(abandonaron)], color=['green', 'red'], alpha=0.7)\n",
    "    plt.xlabel(\"Estado de los Pilotos\")\n",
    "    plt.ylabel(\"Cantidad de Pilotos\")\n",
    "    plt.title(\"Histograma de Pilotos en Monaco (Completado vs. Abandono)\")\n",
    "    plt.show()\n",
    "\n",
    "    # Datos para calcular errores\n",
    "    y, x = np.histogram(completaron['currentLapNum'], bins=15, density=True)\n",
    "    x = (x + np.roll(x, -1))[:-1] / 2\n",
    "\n",
    "    # Inicializa un DataFrame para los errores\n",
    "    error_df = pd.DataFrame(columns=['Distribución', 'Error'])\n",
    "\n",
    "    # Lista de distribuciones de probabilidad\n",
    "    dist_list = ['bradford', 'beta', 'expon', 'exponnorm', 'norm', 'uniform', 'foldnorm', 'gennorm', 'ksone', 'kappa4', 'johnsonsb']\n",
    "\n",
    "    # Ajusta y calcula errores para cada distribución\n",
    "    for dist_name in dist_list:\n",
    "        dist = getattr(st, dist_name)\n",
    "        params = dist.fit(completaron['currentLapNum'])\n",
    "        y_hat = dist.pdf(x, *params)\n",
    "        error = np.mean((y - y_hat) ** 2)\n",
    "        error_df = error_df.append({'Distribución': dist_name, 'Error': error}, ignore_index=True)\n",
    "\n",
    "    # Muestra la tabla de errores\n",
    "    print(error_df)\n",
    "\n",
    "# Llama a la función con tus datos\n",
    "histo(Monaco_GP)"
   ]
  },
  {
   "cell_type": "markdown",
   "metadata": {},
   "source": [
    "### Silverstone"
   ]
  },
  {
   "cell_type": "code",
   "execution_count": null,
   "metadata": {},
   "outputs": [],
   "source": [
    "def histo(Silverstone_GP):\n",
    "    # Define el número total de vueltas requeridas\n",
    "    vueltas_totales = 26\n",
    "\n",
    "    # Encuentra el último registro de cada piloto\n",
    "    ultimo_registro = Silverstone_GP.groupby('driverId')['currentLapNum'].max().reset_index()\n",
    "\n",
    "    # Filtra los pilotos que completaron exactamente las 27 vueltas y los que abandonaron\n",
    "    completaron = ultimo_registro[ultimo_registro['currentLapNum'] == vueltas_totales]\n",
    "    abandonaron = ultimo_registro[ultimo_registro['currentLapNum'] != vueltas_totales]\n",
    "\n",
    "    # Crea el histograma\n",
    "    plt.figure(figsize=(8, 6))\n",
    "    plt.bar(['Completaron', 'Abandonaron'], [len(completaron), len(abandonaron)], color=['green', 'red'], alpha=0.7)\n",
    "    plt.xlabel(\"Estado de los Pilotos\")\n",
    "    plt.ylabel(\"Cantidad de Pilotos\")\n",
    "    plt.title(\"Histograma de Pilotos en Silverstone (Completado vs. Abandono)\")\n",
    "    plt.show()\n",
    "\n",
    "    # Datos para calcular errores\n",
    "    y, x = np.histogram(completaron['currentLapNum'], bins=15, density=True)\n",
    "    x = (x + np.roll(x, -1))[:-1] / 2\n",
    "\n",
    "    # Inicializa un DataFrame para los errores\n",
    "    error_df = pd.DataFrame(columns=['Distribución', 'Error'])\n",
    "\n",
    "    # Lista de distribuciones de probabilidad\n",
    "    dist_list = ['bradford', 'beta', 'expon', 'exponnorm', 'norm', 'uniform', 'foldnorm', 'gennorm', 'ksone', 'kappa4', 'johnsonsb']\n",
    "\n",
    "    # Ajusta y calcula errores para cada distribución\n",
    "    for dist_name in dist_list:\n",
    "        dist = getattr(st, dist_name)\n",
    "        params = dist.fit(completaron['currentLapNum'])\n",
    "        y_hat = dist.pdf(x, *params)\n",
    "        error = np.mean((y - y_hat) ** 2)\n",
    "        error_df = error_df.append({'Distribución': dist_name, 'Error': error}, ignore_index=True)\n",
    "\n",
    "    # Muestra la tabla de errores\n",
    "    print(error_df)\n",
    "\n",
    "# Llama a la función con tus datos\n",
    "histo(Silverstone_GP)"
   ]
  },
  {
   "cell_type": "markdown",
   "metadata": {},
   "source": [
    "### Spa"
   ]
  },
  {
   "cell_type": "code",
   "execution_count": null,
   "metadata": {},
   "outputs": [],
   "source": [
    "def histo(Spa_GP):\n",
    "    # Define el número total de vueltas requeridas\n",
    "    vueltas_totales = 22\n",
    "\n",
    "    # Encuentra el último registro de cada piloto\n",
    "    ultimo_registro = Spa_GP.groupby('driverId')['currentLapNum'].max().reset_index()\n",
    "\n",
    "    # Filtra los pilotos que completaron exactamente las 27 vueltas y los que abandonaron\n",
    "    completaron = ultimo_registro[ultimo_registro['currentLapNum'] == vueltas_totales]\n",
    "    abandonaron = ultimo_registro[ultimo_registro['currentLapNum'] != vueltas_totales]\n",
    "\n",
    "    # Crea el histograma\n",
    "    plt.figure(figsize=(8, 6))\n",
    "    plt.bar(['Completaron', 'Abandonaron'], [len(completaron), len(abandonaron)], color=['green', 'red'], alpha=0.7)\n",
    "    plt.xlabel(\"Estado de los Pilotos\")\n",
    "    plt.ylabel(\"Cantidad de Pilotos\")\n",
    "    plt.title(\"Histograma de Pilotos en Spa (Completado vs. Abandono)\")\n",
    "    plt.show()\n",
    "\n",
    "    # Datos para calcular errores\n",
    "    y, x = np.histogram(completaron['currentLapNum'], bins=15, density=True)\n",
    "    x = (x + np.roll(x, -1))[:-1] / 2\n",
    "\n",
    "    # Inicializa un DataFrame para los errores\n",
    "    error_df = pd.DataFrame(columns=['Distribución', 'Error'])\n",
    "\n",
    "    # Lista de distribuciones de probabilidad\n",
    "    dist_list = ['bradford', 'beta', 'expon', 'exponnorm', 'norm', 'uniform', 'foldnorm', 'gennorm', 'ksone', 'kappa4', 'johnsonsb']\n",
    "\n",
    "    # Ajusta y calcula errores para cada distribución\n",
    "    for dist_name in dist_list:\n",
    "        dist = getattr(st, dist_name)\n",
    "        params = dist.fit(completaron['currentLapNum'])\n",
    "        y_hat = dist.pdf(x, *params)\n",
    "        error = np.mean((y - y_hat) ** 2)\n",
    "        error_df = error_df.append({'Distribución': dist_name, 'Error': error}, ignore_index=True)\n",
    "\n",
    "    # Muestra la tabla de errores\n",
    "    print(error_df)\n",
    "\n",
    "# Llama a la función con tus datos\n",
    "histo(Spa_GP)"
   ]
  },
  {
   "cell_type": "markdown",
   "metadata": {},
   "source": [
    "\n",
    "## 1.7 Visualización de resultados de simulación.\n",
    "> Se deben simular al menos 4  \"nodos\" o \"escenarios\" en tu problema. Para la segunda entrega debes haber elaborado un programa que simule dos de ellos, los primeros dos de tu diagrama.\n",
    "> Para la entrega final deben de tener los 4 nodos con todas sus simulaciones.\n",
    "\n"
   ]
  },
  {
   "cell_type": "markdown",
   "metadata": {},
   "source": [
    "### Simulación Vuelta Rápida"
   ]
  },
  {
   "cell_type": "markdown",
   "metadata": {},
   "source": [
    "A continuación, en los siguientes gráficos se puede observar la distribución de los tiempos por vuelta que se simularon para cada gran premio. Los tiempos que corresponden a la vuelta rápida se encontrarían en las colas de la distribución. Para visualizar y analizar los datos de forma correcta, se eliminaron los outliers de los datos simulados. Se decidió eliminarlos puesto que en carreras de F1 tienen regulaciones de aerodinámica que garantizan cierto rango de velocidades. En esta línea, un valor atípico superior significaría una falla mecánica o una vuelta de atraso, mientras que uno inferior es una velocidad atípica o una colisión. Para el propósito de identificar una vuelta rápida los outliers no son útiles. \n",
    "\n",
    "Para eliminarlos, se utilizará el método del rango intercuartílico. En Fórmula 1 la variación entre tiempos es muy poca, por lo que los outliers de la simulación en general serán los pilotos cuyas medias son desproporcionalmente mayores o menores a la media general, por lo que tal vez no aparezcan todos los pilotos en la visualización general."
   ]
  },
  {
   "cell_type": "markdown",
   "metadata": {},
   "source": [
    "**Vuelta rápida en Mónaco**\n",
    "\n",
    "El tiempo mínimo es en segundos. El piloto con la vuelta rápida en cada gran premio se indicará de color rojo en el gráfico de barras. También se observa un boxplot donde aparecen los pilotos cuyos tiempos no se consideraron outliers. Los pilotos con el boxplot más abajo son los más rápidos y los que tienen el boxplot más elevado fueron los más lentos."
   ]
  },
  {
   "cell_type": "code",
   "execution_count": null,
   "metadata": {
    "scrolled": true
   },
   "outputs": [],
   "source": [
    "visual_resultados_vr(monaco21_vr,'Pilotos más probables a hacer la vuelta rápida en Mónaco 21')"
   ]
  },
  {
   "cell_type": "code",
   "execution_count": null,
   "metadata": {
    "scrolled": false
   },
   "outputs": [],
   "source": [
    "sim_dt_monaco = vuelta_rapida_mon(10000,1)\n",
    "boxplt(sim_dt_monaco,'Tiempos Simulados por Piloto') #sin outliers de la simulación"
   ]
  },
  {
   "cell_type": "markdown",
   "metadata": {},
   "source": [
    "Para ilustrar por qué la decisión de eliminar outliers, se graficó el boxplot para cada piloto. Se puede observar que el tiempo de Nicholas Latifi es mucho mayor al de todos los pilotos por casi dos minutos. Incluirlo en el gráfico no permite visualizar los boxplots de los pilotos de interés, además de que por ser el objetivo identificar el piloto de vuelta rápida, incluir a este piloto no es útil y limita la visualización."
   ]
  },
  {
   "cell_type": "code",
   "execution_count": null,
   "metadata": {
    "scrolled": true
   },
   "outputs": [],
   "source": [
    "sim_dt_monaco = vuelta_rapida_mon(10000,2)\n",
    "boxplt(sim_dt_monaco,'Tiempos Simulados por Piloto') #sin outliers de la simulación"
   ]
  },
  {
   "cell_type": "markdown",
   "metadata": {},
   "source": [
    "**Vuelta rápida en Monza**\n",
    "\n"
   ]
  },
  {
   "cell_type": "code",
   "execution_count": null,
   "metadata": {
    "scrolled": true
   },
   "outputs": [],
   "source": [
    "visual_resultados_vr(monza21_vr,'Pilotos más probables a hacer la vuelta rápida en Monza 21')"
   ]
  },
  {
   "cell_type": "code",
   "execution_count": null,
   "metadata": {},
   "outputs": [],
   "source": [
    "sim_dt_monza = vuelta_rapida_mz(10000,1)\n",
    "boxplt(sim_dt_monza,'Tiempos Simulados por Piloto') #sin outliers de la simulación"
   ]
  },
  {
   "cell_type": "code",
   "execution_count": null,
   "metadata": {
    "scrolled": false
   },
   "outputs": [],
   "source": [
    "sim_dt_monza = vuelta_rapida_mz(10000,2)\n",
    "boxplt(sim_dt_monza,'Tiempos Simulados por Piloto') #simulacion con outliers "
   ]
  },
  {
   "cell_type": "markdown",
   "metadata": {},
   "source": [
    "**Vuelta rápida en Silverstone**\n",
    "\n"
   ]
  },
  {
   "cell_type": "code",
   "execution_count": null,
   "metadata": {
    "scrolled": true
   },
   "outputs": [],
   "source": [
    "visual_resultados_vr(sil21_vr,'Pilotos más probables a hacer la vuelta rápida en Silverstone 21')"
   ]
  },
  {
   "cell_type": "code",
   "execution_count": null,
   "metadata": {
    "scrolled": true
   },
   "outputs": [],
   "source": [
    "sim_dt_sil = vuelta_rapida_sil(10000,2)\n",
    "boxplt(sim_dt_sil,'Tiempos Simulados por Piloto') #sin outliers de la simulación"
   ]
  },
  {
   "cell_type": "markdown",
   "metadata": {},
   "source": [
    "**Vuelta rápida en Spa**\n",
    "\n"
   ]
  },
  {
   "cell_type": "code",
   "execution_count": null,
   "metadata": {
    "scrolled": false
   },
   "outputs": [],
   "source": [
    "visual_resultados_vr(spa21_vr,'Pilotos más probables a hacer la vuelta rápida en Spa 21')"
   ]
  },
  {
   "cell_type": "code",
   "execution_count": null,
   "metadata": {
    "scrolled": true
   },
   "outputs": [],
   "source": [
    "sim_dt_spa = vuelta_rapida_spa(10000,2)\n",
    "boxplt(sim_dt_spa,'Tiempos Simulados por Piloto') "
   ]
  },
  {
   "cell_type": "markdown",
   "metadata": {},
   "source": [
    "### Simulacion de ganador del GP "
   ]
  },
  {
   "cell_type": "markdown",
   "metadata": {},
   "source": [
    "### Monza"
   ]
  },
  {
   "cell_type": "code",
   "execution_count": 45,
   "metadata": {},
   "outputs": [
    {
     "name": "stdout",
     "output_type": "stream",
     "text": [
      "El piloto más probable a ganar en Monza es: Lewis Hamilton\n"
     ]
    }
   ],
   "source": [
    "# Ajusta la distribución kappa4 a los datos de Monza\n",
    "dist_name = 'kappa4'\n",
    "param = st.kappa4.fit(promedio_posicion)\n",
    "\n",
    "# Simula 1000 escenarios de tiempo de vuelta con la distribución Johnson SB\n",
    "num_simulaciones = 10000\n",
    "tiempos_simulados = st.kappa4.rvs(*param, size=num_simulaciones)\n",
    "\n",
    "# Determina el piloto ganador en cada escenario simulado\n",
    "piloto_ganador_simulaciones = []\n",
    "\n",
    "for _ in range(num_simulaciones):\n",
    "    tiempo_simulado = st.kappa4.rvs(*param)\n",
    "    piloto_ganador_simulaciones.append((tiempo_simulado, Monza_GP[Monza_GP['carPosition'] == min(Monza_GP['carPosition'])]['driverId'].values[0]))\n",
    "\n",
    "# Ordena los pilotos ganadores por tiempo simulado\n",
    "piloto_ganador_simulaciones.sort(key=lambda x: x[0])\n",
    "\n",
    "# El piloto más probable a ganar en Monza en el primer escenario simulado\n",
    "piloto_mas_probable_a_ganar = piloto_ganador_simulaciones[0][1]\n",
    "\n",
    "print(f\"El piloto más probable a ganar en Monza es: {piloto_mas_probable_a_ganar}\")"
   ]
  },
  {
   "cell_type": "code",
   "execution_count": 46,
   "metadata": {},
   "outputs": [
    {
     "data": {
      "image/png": "[encoded data removed]",
      "text/plain": [
       "<Figure size 720x432 with 1 Axes>"
      ]
     },
     "metadata": {
      "needs_background": "light"
     },
     "output_type": "display_data"
    }
   ],
   "source": [
    "# Crea un histograma de los tiempos simulados\n",
    "plt.figure(figsize=(10, 6))\n",
    "plt.hist(tiempos_simulados, bins=30, edgecolor='black', alpha=0.7, density=True, label='Simulación')\n",
    "plt.xlabel('Tiempo de Vuelta Simulado')\n",
    "plt.ylabel('Frecuencia')\n",
    "plt.title('Histograma de Tiempos de Vuelta Simulados en Monza')\n",
    "plt.legend()\n",
    "plt.show()"
   ]
  },
  {
   "cell_type": "code",
   "execution_count": 48,
   "metadata": {},
   "outputs": [
    {
     "data": {
      "image/png": "[encoded data removed]",
      "text/plain": [
       "<Figure size 432x288 with 1 Axes>"
      ]
     },
     "metadata": {
      "needs_background": "light"
     },
     "output_type": "display_data"
    },
    {
     "name": "stdout",
     "output_type": "stream",
     "text": [
      "params: loc:0.97491, scale:0.32203\n"
     ]
    }
   ],
   "source": [
    "# Ajuste de la distribución Kappa 4 a los datos\n",
    "param_kappa4 = st.kappa4.fit(promedio_posicion)\n",
    "\n",
    "# Histograma de los datos\n",
    "plt.hist(promedio_posicion, bins=20, density=True, alpha=0.5, color='orange', label='Histograma de datos')\n",
    "\n",
    "# Función de densidad ajustada (PDF Kappa 4)\n",
    "xmin, xmax = plt.xlim()\n",
    "x_kappa4 = np.linspace(xmin, xmax, 100)\n",
    "pdf_fitted_kappa4 = st.kappa4.pdf(x_kappa4, *param_kappa4)\n",
    "plt.plot(x_kappa4, pdf_fitted_kappa4, 'c-', label='PDF ajustada (Kappa 4)')\n",
    "\n",
    "# Simulación de escenarios de tiempo de vuelta con la distribución Kappa 4\n",
    "num_simulaciones = 10000\n",
    "tiempos_simulados_kappa4 = st.kappa4.rvs(*param_kappa4, size=num_simulaciones)\n",
    "\n",
    "# Histograma de los tiempos simulados\n",
    "sns.distplot(tiempos_simulados_kappa4, bins=20, kde=True, color='skyblue', hist_kws={'edgecolor': 'black'}, label='Tiempos Simulados (Kappa 4)')\n",
    "\n",
    "# Etiquetas y título\n",
    "plt.title('Ajuste de la Distribución Kappa4 y Simulación de Tiempos en Monza')\n",
    "plt.xlabel('Tiempo de Vuelta')\n",
    "plt.ylabel('Densidad')\n",
    "plt.legend()\n",
    "plt.show()\n",
    "print(f'params: loc:{round(param_kappa4[1],5)}, scale:{round(param_kappa4[2],5)}')"
   ]
  },
  {
   "cell_type": "code",
   "execution_count": 49,
   "metadata": {},
   "outputs": [
    {
     "data": {
      "image/png": "[encoded data removed]",
      "text/plain": [
       "<Figure size 720x432 with 1 Axes>"
      ]
     },
     "metadata": {
      "needs_background": "light"
     },
     "output_type": "display_data"
    }
   ],
   "source": [
    "# Ajusta la distribución kappa4 a los datos de Monza\n",
    "dist_name = 'kappa4'\n",
    "param = st.kappa4.fit(promedio_posicion)\n",
    "\n",
    "# Simula 10000 escenarios de tiempo de vuelta con la distribución kappa4\n",
    "num_simulaciones = 10000\n",
    "tiempos_simulados = st.kappa4.rvs(*param, size=num_simulaciones)\n",
    "\n",
    "# Genera datos para el método de aceptación y rechazo\n",
    "aceptados = []\n",
    "rechazados = []\n",
    "\n",
    "# Usa el método de aceptación y rechazo para generar datos\n",
    "for i in range(num_simulaciones):\n",
    "    propuesta = st.kappa4.rvs(*param)\n",
    "    f_propuesta = st.kappa4.pdf(propuesta, *param)\n",
    "    u = np.random.uniform(0, st.kappa4.pdf(propuesta, *param))\n",
    "\n",
    "    if u <= f_propuesta:\n",
    "        aceptados.append(propuesta)\n",
    "    else:\n",
    "        rechazados.append(propuesta)\n",
    "\n",
    "# Crea un histograma con kernel de densidad para los datos generados\n",
    "plt.figure(figsize=(10, 6))\n",
    "\n",
    "# Histograma\n",
    "plt.hist(aceptados, bins=60, density=True, alpha=0.5, color='orange', label='Datos Aceptados')\n",
    "\n",
    "# KDE\n",
    "sns.kdeplot(aceptados, color='blue', label='KDE')\n",
    "\n",
    "# Añade etiquetas y título al gráfico\n",
    "plt.title('Histograma con Kernel de Densidad para Datos Generados por Aceptación y Rechazo (Distribución Kappa4)')\n",
    "plt.xlabel('Tiempo de Vuelta Simulado')\n",
    "plt.ylabel('Densidad')\n",
    "plt.legend()\n",
    "\n",
    "# Muestra el gráfico\n",
    "plt.show()"
   ]
  },
  {
   "cell_type": "markdown",
   "metadata": {},
   "source": [
    "### Mónaco"
   ]
  },
  {
   "cell_type": "code",
   "execution_count": 50,
   "metadata": {},
   "outputs": [
    {
     "ename": "NameError",
     "evalue": "name 'promedio_posicion2' is not defined",
     "output_type": "error",
     "traceback": [
      "\u001b[0;31m---------------------------------------------------------------------------\u001b[0m",
      "\u001b[0;31mNameError\u001b[0m                                 Traceback (most recent call last)",
      "\u001b[0;32m<ipython-input-50-1985ad7de970>\u001b[0m in \u001b[0;36m<module>\u001b[0;34m\u001b[0m\n\u001b[1;32m      1\u001b[0m \u001b[0;31m# Ajusta la distribución beta a los datos de Monaco\u001b[0m\u001b[0;34m\u001b[0m\u001b[0;34m\u001b[0m\u001b[0;34m\u001b[0m\u001b[0m\n\u001b[1;32m      2\u001b[0m \u001b[0mdist_name\u001b[0m \u001b[0;34m=\u001b[0m \u001b[0;34m'beta'\u001b[0m\u001b[0;34m\u001b[0m\u001b[0;34m\u001b[0m\u001b[0m\n\u001b[0;32m----> 3\u001b[0;31m \u001b[0mparam\u001b[0m \u001b[0;34m=\u001b[0m \u001b[0mst\u001b[0m\u001b[0;34m.\u001b[0m\u001b[0mbeta\u001b[0m\u001b[0;34m.\u001b[0m\u001b[0mfit\u001b[0m\u001b[0;34m(\u001b[0m\u001b[0mpromedio_posicion2\u001b[0m\u001b[0;34m)\u001b[0m\u001b[0;34m\u001b[0m\u001b[0;34m\u001b[0m\u001b[0m\n\u001b[0m\u001b[1;32m      4\u001b[0m \u001b[0;34m\u001b[0m\u001b[0m\n\u001b[1;32m      5\u001b[0m \u001b[0;31m# Simula 1000 escenarios de tiempo de vuelta con la distribución Johnson SB\u001b[0m\u001b[0;34m\u001b[0m\u001b[0;34m\u001b[0m\u001b[0;34m\u001b[0m\u001b[0m\n",
      "\u001b[0;31mNameError\u001b[0m: name 'promedio_posicion2' is not defined"
     ]
    }
   ],
   "source": [
    "# Ajusta la distribución beta a los datos de Monaco\n",
    "dist_name = 'beta'\n",
    "param = st.beta.fit(promedio_posicion2)\n",
    "\n",
    "# Simula 1000 escenarios de tiempo de vuelta con la distribución Johnson SB\n",
    "num_simulaciones = 10000\n",
    "tiempos_simulados = st.beta.rvs(*param, size=num_simulaciones)\n",
    "\n",
    "# Determina el piloto ganador en cada escenario simulado\n",
    "piloto_ganador_simulaciones = []\n",
    "\n",
    "for _ in range(num_simulaciones):\n",
    "    tiempo_simulado = st.beta.rvs(*param)\n",
    "    piloto_ganador_simulaciones.append((tiempo_simulado, Monaco_GP[Monaco_GP['carPosition'] == min(Monaco_GP['carPosition'])]['driverId'].values[0]))\n",
    "\n",
    "# Ordena los pilotos ganadores por tiempo simulado\n",
    "piloto_ganador_simulaciones.sort(key=lambda x: x[0])\n",
    "\n",
    "# El piloto más probable a ganar en Monza en el primer escenario simulado\n",
    "piloto_mas_probable_a_ganar = piloto_ganador_simulaciones[0][1]\n",
    "\n",
    "print(f\"El piloto más probable a ganar en Monaco es: {piloto_mas_probable_a_ganar}\")"
   ]
  },
  {
   "cell_type": "code",
   "execution_count": null,
   "metadata": {},
   "outputs": [],
   "source": [
    "# Crea un histograma de los tiempos simulados\n",
    "plt.figure(figsize=(10, 6))\n",
    "plt.hist(tiempos_simulados, bins=30, edgecolor='black', alpha=0.7, density=True, label='Simulación')\n",
    "plt.xlabel('Tiempo de Vuelta Simulado')\n",
    "plt.ylabel('Frecuencia')\n",
    "plt.title('Histograma de Tiempos de Vuelta Simulados en Monaco')\n",
    "plt.legend()\n",
    "plt.show()"
   ]
  },
  {
   "cell_type": "code",
   "execution_count": null,
   "metadata": {},
   "outputs": [],
   "source": [
    "# Ajuste de la distribución beta a los datos de Monaco\n",
    "param_beta = st.beta.fit(promedio_posicion2)\n",
    "\n",
    "# Histograma de los datos\n",
    "plt.hist(promedio_posicion2, bins=20, density=True, alpha=0.5, color='orange', label='Histograma de datos')\n",
    "\n",
    "# Función de densidad ajustada (PDF beta)\n",
    "xmin, xmax = plt.xlim()\n",
    "x = np.linspace(xmin, xmax, 100)\n",
    "pdf_fitted_beta = st.beta.pdf(x, *param_beta)\n",
    "plt.plot(x, pdf_fitted_beta, 'c-', label='PDF ajustada (Beta)')\n",
    "\n",
    "# Simulación de escenarios de tiempo de vuelta con la distribución beta\n",
    "num_simulaciones = 10000\n",
    "tiempos_simulados_beta = st.beta.rvs(*param_beta, size=num_simulaciones)\n",
    "\n",
    "# Histograma de los tiempos simulados\n",
    "sns.distplot(tiempos_simulados_beta, bins=20, kde=True, color='skyblue', hist_kws={'edgecolor': 'black'}, label='Tiempos Simulados (Beta)')\n",
    "\n",
    "# Etiquetas y título\n",
    "plt.title('Ajuste de la Distribución Beta y Simulación de Tiempos en Monaco')\n",
    "plt.xlabel('Tiempo de Vuelta')\n",
    "plt.ylabel('Densidad')\n",
    "plt.legend()\n",
    "plt.show()\n",
    "print(f'params: loc:{round(param_beta[1],5)}, scale:{round(param_beta[2],5)}')"
   ]
  },
  {
   "cell_type": "code",
   "execution_count": null,
   "metadata": {},
   "outputs": [],
   "source": [
    "# Ajusta la distribución beta a los datos de Monaco\n",
    "dist_name = 'beta'\n",
    "param = st.beta.fit(promedio_posicion2)\n",
    "\n",
    "# Simula 10000 escenarios de tiempo de vuelta con la distribución beta\n",
    "num_simulaciones = 10000\n",
    "tiempos_simulados = st.beta.rvs(*param, size=num_simulaciones)\n",
    "\n",
    "# Genera datos para el método de aceptación y rechazo\n",
    "aceptados = []\n",
    "rechazados = []\n",
    "\n",
    "# Usa el método de aceptación y rechazo para generar datos\n",
    "for i in range(num_simulaciones):\n",
    "    propuesta = np.random.beta(param[0], param[1])\n",
    "    f_propuesta = st.beta.pdf(propuesta, *param)\n",
    "    u = np.random.uniform(0, st.beta.pdf(propuesta, *param))\n",
    "\n",
    "    if u <= f_propuesta:\n",
    "        aceptados.append(propuesta)\n",
    "    else:\n",
    "        rechazados.append(propuesta)\n",
    "\n",
    "# Crea un histograma con kernel de densidad para los datos generados\n",
    "plt.figure(figsize=(10, 6))\n",
    "\n",
    "# Histograma\n",
    "plt.hist(aceptados, bins=60, density=True, alpha=0.5, color='orange', label='Datos Aceptación y Rechazo')\n",
    "\n",
    "# KDE\n",
    "sns.kdeplot(aceptados, color='blue', label='KDE')\n",
    "\n",
    "# Añade etiquetas y título al gráfico\n",
    "plt.title('Histograma con Kernel de Densidad para Datos Generados por Aceptación y Rechazo (Distribución Beta)')\n",
    "plt.xlabel('Tiempo de Vuelta Simulado')\n",
    "plt.ylabel('Densidad')\n",
    "plt.legend()\n",
    "\n",
    "# Muestra el gráfico\n",
    "plt.show()"
   ]
  },
  {
   "cell_type": "markdown",
   "metadata": {},
   "source": [
    "### Silverstone"
   ]
  },
  {
   "cell_type": "code",
   "execution_count": null,
   "metadata": {},
   "outputs": [],
   "source": [
    "# Ajusta la distribución kappa4 a los datos de Silverstone\n",
    "dist_name = 'uniform'\n",
    "param = st.uniform.fit(promedio_posicion3)\n",
    "\n",
    "# Simula 10000 escenarios de tiempo de vuelta con la distribución kappa4\n",
    "num_simulaciones = 10000\n",
    "tiempos_simulados = st.uniform.rvs(*param, size=num_simulaciones)\n",
    "\n",
    "# Crea un DataFrame para almacenar los resultados\n",
    "resultados_simulacion = pd.DataFrame(columns=['Piloto', 'Tiempo'])\n",
    "\n",
    "for i in range(num_simulaciones):\n",
    "    # Obtiene el tiempo simulado\n",
    "    tiempo_simulado = tiempos_simulados[i]\n",
    "    \n",
    "    # Encuentra al piloto ganador en el escenario simulado\n",
    "    piloto_ganador = Silverstone_GP[Silverstone_GP['carPosition'] == Silverstone_GP['carPosition'].min()]['driverId'].values[0]\n",
    "    \n",
    "    # Agrega los resultados a DataFrame\n",
    "    resultados_simulacion = resultados_simulacion.append({'Piloto': piloto_ganador, 'Tiempo': tiempo_simulado}, ignore_index=True)\n",
    "\n",
    "# Ordena los pilotos ganadores por tiempo simulado\n",
    "resultados_simulacion = resultados_simulacion.sort_values(by='Tiempo')\n",
    "\n",
    "# Obtiene el piloto más probable a ganar en el primer escenario simulado\n",
    "piloto_mas_probable_a_ganar = resultados_simulacion.iloc[0]['Piloto']\n",
    "\n",
    "print(f\"El piloto más probable a ganar en Silverstone en los 10,000 escenarios simulados es el piloto con driverId: {piloto_mas_probable_a_ganar}\")"
   ]
  },
  {
   "cell_type": "code",
   "execution_count": null,
   "metadata": {},
   "outputs": [],
   "source": [
    "# Crea un histograma de los tiempos simulados\n",
    "plt.figure(figsize=(10, 6))\n",
    "plt.hist(tiempos_simulados, bins=30, edgecolor='black', alpha=0.7, density=True, label='Simulación')\n",
    "plt.xlabel('Tiempo de Vuelta Simulado')\n",
    "plt.ylabel('Frecuencia')\n",
    "plt.title('Histograma de Tiempos de Vuelta Simulados en Silverstone')\n",
    "plt.legend()\n",
    "plt.show()"
   ]
  },
  {
   "cell_type": "code",
   "execution_count": 51,
   "metadata": {},
   "outputs": [
    {
     "ename": "NameError",
     "evalue": "name 'promedio_posicion3' is not defined",
     "output_type": "error",
     "traceback": [
      "\u001b[0;31m---------------------------------------------------------------------------\u001b[0m",
      "\u001b[0;31mNameError\u001b[0m                                 Traceback (most recent call last)",
      "\u001b[0;32m<ipython-input-51-1c797cbae479>\u001b[0m in \u001b[0;36m<module>\u001b[0;34m\u001b[0m\n\u001b[1;32m      1\u001b[0m \u001b[0;31m# Ajuste de la distribución uniforme a los datos\u001b[0m\u001b[0;34m\u001b[0m\u001b[0;34m\u001b[0m\u001b[0;34m\u001b[0m\u001b[0m\n\u001b[0;32m----> 2\u001b[0;31m \u001b[0mparam_uniform\u001b[0m \u001b[0;34m=\u001b[0m \u001b[0mst\u001b[0m\u001b[0;34m.\u001b[0m\u001b[0muniform\u001b[0m\u001b[0;34m.\u001b[0m\u001b[0mfit\u001b[0m\u001b[0;34m(\u001b[0m\u001b[0mpromedio_posicion3\u001b[0m\u001b[0;34m)\u001b[0m\u001b[0;34m\u001b[0m\u001b[0;34m\u001b[0m\u001b[0m\n\u001b[0m\u001b[1;32m      3\u001b[0m \u001b[0;34m\u001b[0m\u001b[0m\n\u001b[1;32m      4\u001b[0m \u001b[0;31m# Histograma de los datos\u001b[0m\u001b[0;34m\u001b[0m\u001b[0;34m\u001b[0m\u001b[0;34m\u001b[0m\u001b[0m\n\u001b[1;32m      5\u001b[0m \u001b[0mplt\u001b[0m\u001b[0;34m.\u001b[0m\u001b[0mhist\u001b[0m\u001b[0;34m(\u001b[0m\u001b[0mpromedio_posicion3\u001b[0m\u001b[0;34m,\u001b[0m \u001b[0mbins\u001b[0m\u001b[0;34m=\u001b[0m\u001b[0;36m20\u001b[0m\u001b[0;34m,\u001b[0m \u001b[0mdensity\u001b[0m\u001b[0;34m=\u001b[0m\u001b[0;32mTrue\u001b[0m\u001b[0;34m,\u001b[0m \u001b[0malpha\u001b[0m\u001b[0;34m=\u001b[0m\u001b[0;36m0.5\u001b[0m\u001b[0;34m,\u001b[0m \u001b[0mcolor\u001b[0m\u001b[0;34m=\u001b[0m\u001b[0;34m'orange'\u001b[0m\u001b[0;34m,\u001b[0m \u001b[0mlabel\u001b[0m\u001b[0;34m=\u001b[0m\u001b[0;34m'Histograma de datos'\u001b[0m\u001b[0;34m)\u001b[0m\u001b[0;34m\u001b[0m\u001b[0;34m\u001b[0m\u001b[0m\n",
      "\u001b[0;31mNameError\u001b[0m: name 'promedio_posicion3' is not defined"
     ]
    }
   ],
   "source": [
    "# Ajuste de la distribución uniforme a los datos\n",
    "param_uniform = st.uniform.fit(promedio_posicion3)\n",
    "\n",
    "# Histograma de los datos\n",
    "plt.hist(promedio_posicion3, bins=20, density=True, alpha=0.5, color='orange', label='Histograma de datos')\n",
    "\n",
    "# Función de densidad ajustada (PDF uniforme)\n",
    "xmin, xmax = plt.xlim()\n",
    "x_uniform = np.linspace(xmin, xmax, 100)\n",
    "pdf_fitted_uniform = st.uniform.pdf(x_uniform, *param_uniform)\n",
    "plt.plot(x_uniform, pdf_fitted_uniform, 'c-', label='PDF ajustada (Uniforme)')\n",
    "\n",
    "# Simulación de escenarios de tiempo de vuelta con la distribución uniforme\n",
    "num_simulaciones = 10000\n",
    "tiempos_simulados_uniform = st.uniform.rvs(*param_uniform, size=num_simulaciones)\n",
    "\n",
    "# Histograma de los tiempos simulados\n",
    "sns.distplot(tiempos_simulados_uniform, bins=20, kde=True, color='skyblue', hist_kws={'edgecolor': 'black'}, label='Tiempos Simulados (Uniforme)')\n",
    "\n",
    "# Etiquetas y título\n",
    "plt.title('Ajuste de la Distribución Uniforme y Simulación de Tiempos')\n",
    "plt.xlabel('Tiempo de Vuelta')\n",
    "plt.ylabel('Densidad')\n",
    "plt.legend()\n",
    "plt.show()\n",
    "print(f'params: loc:{round(param_uniform[1],5)}, scale:{round(param_uniform[2],5)}')"
   ]
  },
  {
   "cell_type": "code",
   "execution_count": null,
   "metadata": {},
   "outputs": [],
   "source": [
    "# Ajusta la distribución kappa4 a los datos de Silverstone\n",
    "dist_name = 'uniform'\n",
    "param = st.uniform.fit(promedio_posicion3)\n",
    "\n",
    "# Simula 10000 escenarios de tiempo de vuelta con la distribución kappa4\n",
    "num_simulaciones = 10000\n",
    "tiempos_simulados = st.uniform.rvs(*param, size=num_simulaciones)\n",
    "\n",
    "# Genera datos para el método de aceptación y rechazo\n",
    "aceptados = []\n",
    "rechazados = []\n",
    "\n",
    "# Usa el método de aceptación y rechazo para generar datos\n",
    "for i in range(num_simulaciones):\n",
    "    propuesta = np.random.uniform(*param)\n",
    "    f_propuesta = st.uniform.pdf(propuesta, *param)\n",
    "    u = np.random.uniform(0, st.uniform.pdf(param[1], *param))\n",
    "\n",
    "    if u <= f_propuesta:\n",
    "        aceptados.append(propuesta)\n",
    "    else:\n",
    "        rechazados.append(propuesta)\n",
    "\n",
    "# Crea un histograma con kernel de densidad para los datos generados\n",
    "plt.figure(figsize=(10, 6))\n",
    "\n",
    "# Histograma\n",
    "plt.hist(aceptados, bins=60, density=True, alpha=0.5, color='orange', label='Datos Aceptación y Rechazo')\n",
    "\n",
    "# KDE\n",
    "sns.kdeplot(aceptados, color='blue', label='KDE')\n",
    "\n",
    "# Añade etiquetas y título al gráfico\n",
    "plt.title('Histograma con Kernel de Densidad para Datos Generados por Aceptación y Rechazo')\n",
    "plt.xlabel('Tiempo de Vuelta Simulado')\n",
    "plt.ylabel('Densidad')\n",
    "plt.legend()\n",
    "\n",
    "# Muestra el gráfico\n",
    "plt.show()"
   ]
  },
  {
   "cell_type": "markdown",
   "metadata": {},
   "source": [
    "### Spa"
   ]
  },
  {
   "cell_type": "code",
   "execution_count": null,
   "metadata": {},
   "outputs": [],
   "source": [
    "# Ajusta la distribución beta a los datos de Spa\n",
    "dist_name = 'beta'\n",
    "param = st.beta.fit(promedio_posicion4)\n",
    "\n",
    "# Simula 1000 escenarios de tiempo de vuelta con la distribución beta\n",
    "num_simulaciones = 10000\n",
    "tiempos_simulados = st.beta.rvs(*param, size=num_simulaciones)\n",
    "\n",
    "# Determina el piloto ganador en cada escenario simulado\n",
    "piloto_ganador_simulaciones = []\n",
    "\n",
    "for _ in range(num_simulaciones):\n",
    "    tiempo_simulado = st.beta.rvs(*param)\n",
    "    piloto_ganador_simulaciones.append((tiempo_simulado, Spa_GP[Spa_GP['carPosition'] == min(Spa_GP['carPosition'])]['driverId'].values[0]))\n",
    "\n",
    "# Ordena los pilotos ganadores por tiempo simulado\n",
    "piloto_ganador_simulaciones.sort(key=lambda x: x[0])\n",
    "\n",
    "# El piloto más probable a ganar en Monza en el primer escenario simulado\n",
    "piloto_mas_probable_a_ganar = piloto_ganador_simulaciones[0][1]\n",
    "\n",
    "print(f\"El piloto más probable a ganar en Spa es: {piloto_mas_probable_a_ganar}\")"
   ]
  },
  {
   "cell_type": "code",
   "execution_count": null,
   "metadata": {},
   "outputs": [],
   "source": [
    "# Crea un histograma de los tiempos simulados\n",
    "plt.figure(figsize=(10, 6))\n",
    "plt.hist(tiempos_simulados, bins=30, edgecolor='black', alpha=0.7, density=True, label='Simulación')\n",
    "plt.xlabel('Tiempo de Vuelta Simulado')\n",
    "plt.ylabel('Frecuencia')\n",
    "plt.title('Histograma de Tiempos de Vuelta Simulados en Spa')\n",
    "plt.legend()\n",
    "plt.show()"
   ]
  },
  {
   "cell_type": "code",
   "execution_count": null,
   "metadata": {},
   "outputs": [],
   "source": [
    "# Ajuste de la distribución beta a los datos de Spa\n",
    "param_beta = st.beta.fit(promedio_posicion4)\n",
    "\n",
    "# Histograma de los datos\n",
    "plt.hist(promedio_posicion4, bins=20, density=True, alpha=0.5, color='orange', label='Histograma de datos')\n",
    "\n",
    "# Función de densidad ajustada (PDF beta)\n",
    "xmin, xmax = plt.xlim()\n",
    "x = np.linspace(xmin, xmax, 100)\n",
    "pdf_fitted_beta = st.beta.pdf(x, *param_beta)\n",
    "plt.plot(x, pdf_fitted_beta, 'c-', label='PDF ajustada (Beta)')\n",
    "\n",
    "# Simulación de escenarios de tiempo de vuelta con la distribución beta\n",
    "num_simulaciones = 10000\n",
    "tiempos_simulados_beta = st.beta.rvs(*param_beta, size=num_simulaciones)\n",
    "\n",
    "# Histograma de los tiempos simulados\n",
    "sns.distplot(tiempos_simulados_beta, bins=20, kde=True, color='skyblue', hist_kws={'edgecolor': 'black'}, label='Tiempos Simulados (Beta)')\n",
    "\n",
    "# Etiquetas y título\n",
    "plt.title('Ajuste de la Distribución Beta y Simulación de Tiempos en Spa')\n",
    "plt.xlabel('Tiempo de Vuelta')\n",
    "plt.ylabel('Densidad')\n",
    "plt.legend()\n",
    "plt.show()\n",
    "print(f'params: loc:{round(param_beta[1],5)}, scale:{round(param_beta[2],5)}')"
   ]
  },
  {
   "cell_type": "code",
   "execution_count": null,
   "metadata": {},
   "outputs": [],
   "source": [
    "# Ajusta la distribución beta a los datos de Spa\n",
    "dist_name = 'beta'\n",
    "param = st.beta.fit(promedio_posicion4)\n",
    "\n",
    "# Simula 10000 escenarios de tiempo de vuelta con la distribución beta\n",
    "num_simulaciones = 10000\n",
    "tiempos_simulados = st.beta.rvs(*param, size=num_simulaciones)\n",
    "\n",
    "# Genera datos para el método de aceptación y rechazo\n",
    "aceptados = []\n",
    "rechazados = []\n",
    "\n",
    "# Usa el método de aceptación y rechazo para generar datos\n",
    "for i in range(num_simulaciones):\n",
    "    propuesta = np.random.beta(param[0], param[1])\n",
    "    f_propuesta = st.beta.pdf(propuesta, *param)\n",
    "    u = np.random.uniform(0, st.beta.pdf(propuesta, *param))\n",
    "\n",
    "    if u <= f_propuesta:\n",
    "        aceptados.append(propuesta)\n",
    "    else:\n",
    "        rechazados.append(propuesta)\n",
    "\n",
    "# Crea un histograma con kernel de densidad para los datos generados\n",
    "plt.figure(figsize=(10, 6))\n",
    "\n",
    "# Histograma\n",
    "plt.hist(aceptados, bins=60, density=True, alpha=0.5, color='orange', label='Datos Aceptación y Rechazo')\n",
    "\n",
    "# KDE\n",
    "sns.kdeplot(aceptados, color='blue', label='KDE')\n",
    "\n",
    "# Añade etiquetas y título al gráfico\n",
    "plt.title('Histograma con Kernel de Densidad para Datos Generados por Aceptación y Rechazo (Distribución Beta)')\n",
    "plt.xlabel('Tiempo de Vuelta Simulado')\n",
    "plt.ylabel('Densidad')\n",
    "plt.legend()\n",
    "\n",
    "# Muestra el gráfico\n",
    "plt.show()"
   ]
  },
  {
   "cell_type": "markdown",
   "metadata": {},
   "source": [
    "# Simulación de abandono"
   ]
  },
  {
   "cell_type": "markdown",
   "metadata": {},
   "source": [
    "### Monza"
   ]
  },
  {
   "cell_type": "code",
   "execution_count": null,
   "metadata": {},
   "outputs": [],
   "source": [
    "# Define el número total de vueltas requeridas\n",
    "vueltas_totales = 27\n",
    "\n",
    "# Obtén los pilotos\n",
    "pilotos_unicos = Monza_GP['driverId'].unique()\n",
    "\n",
    "abandonos_por_piloto = {piloto: 0 for piloto in pilotos_unicos}\n",
    "\n",
    "# Número de simulaciones\n",
    "num_simulaciones = 10000\n",
    "\n",
    "# Realiza la simulación\n",
    "for _ in range(num_simulaciones):\n",
    "    for piloto in pilotos_unicos:\n",
    "        # Verifica si el piloto abandona o completa la carrera\n",
    "        abandona = False\n",
    "        if piloto in abandonos_por_piloto:\n",
    "            abandonos_previos = abandonos_por_piloto[piloto]\n",
    "            if abandonos_previos < vueltas_totales:\n",
    "                abandona = True\n",
    "                abandonos_por_piloto[piloto] += 1\n",
    "        else:\n",
    "            abandonos_por_piloto[piloto] = 1 if piloto not in abandonos_por_piloto else 0\n",
    "        \n",
    "# Encuentra el piloto que más veces abandonó\n",
    "piloto_mas_probable_abandonar = max(abandonos_por_piloto, key=abandonos_por_piloto.get)\n",
    "\n",
    "# Imprimir el piloto más probable de abandonar\n",
    "print(\"Piloto más probable de abandonar:\", piloto_mas_probable_abandonar)"
   ]
  },
  {
   "cell_type": "code",
   "execution_count": null,
   "metadata": {},
   "outputs": [],
   "source": [
    "# Obtén todos los tiempos de vuelta de Monza_GP\n",
    "tiempos_vuelta_monzagp = Monza_GP['LapTime']\n",
    "\n",
    "# Ajusta la distribución exponencial\n",
    "parametros_exponencial = st.expon.fit(tiempos_vuelta_monzagp)\n",
    "\n",
    "# Crear gráfica de histograma y PDF ajustada\n",
    "plt.figure(figsize=(12, 8))\n",
    "\n",
    "# Histograma\n",
    "sns.distplot(tiempos_vuelta_monzagp, bins=30, kde=True, color='skyblue', label='Datos - Histograma')\n",
    "\n",
    "# PDF ajustada\n",
    "x = np.linspace(min(tiempos_vuelta_monzagp), max(tiempos_vuelta_monzagp), 1000)\n",
    "pdf_ajustada = st.expon.pdf(x, *parametros_exponencial)\n",
    "plt.plot(x, pdf_ajustada, label='PDF Ajustada - Exponencial', color='orange', linewidth=2)\n",
    "\n",
    "plt.xlabel('Tiempo de Vuelta')\n",
    "plt.ylabel('Densidad de Probabilidad')\n",
    "plt.title('Histograma y PDF Ajustada con Distribución Exponencial para Todos los Pilotos en Monza_GP')\n",
    "plt.legend()\n",
    "\n",
    "# Ajustar límites del eje x para hacer zoom\n",
    "plt.xlim(min(tiempos_vuelta_monzagp), max(tiempos_vuelta_monzagp))\n",
    "\n",
    "plt.show()\n",
    "\n",
    "# Imprimir parámetros de la distribución ajustada\n",
    "print(f'Parámetros para la distribución Exponencial: {parametros_exponencial}')"
   ]
  },
  {
   "cell_type": "markdown",
   "metadata": {},
   "source": [
    "### Mónaco"
   ]
  },
  {
   "cell_type": "code",
   "execution_count": null,
   "metadata": {},
   "outputs": [],
   "source": [
    "# Define el número total de vueltas requeridas\n",
    "vueltas_totales = 39\n",
    "\n",
    "# Obtén los pilotos únicos en el DataFrame\n",
    "pilotos_unicos = Monaco_GP['driverId'].unique()\n",
    "\n",
    "# Inicializa un diccionario para realizar un seguimiento de los pilotos que abandonaron\n",
    "abandonos_por_piloto = {piloto: 0 for piloto in pilotos_unicos}\n",
    "\n",
    "# Número de simulaciones\n",
    "num_simulaciones = 10000\n",
    "\n",
    "# Realiza la simulación\n",
    "for _ in range(num_simulaciones):\n",
    "    for piloto in pilotos_unicos:\n",
    "        # Verifica si el piloto abandona o completa la carrera\n",
    "        abandona = False\n",
    "        if piloto in abandonos_por_piloto:\n",
    "            abandonos_previos = abandonos_por_piloto[piloto]\n",
    "            if abandonos_previos < vueltas_totales:\n",
    "                abandona = True\n",
    "                abandonos_por_piloto[piloto] += 1\n",
    "        else:\n",
    "            abandonos_por_piloto[piloto] = 1 if piloto not in abandonos_por_piloto else 0\n",
    "        \n",
    "# Encuentra el piloto que más veces abandonó\n",
    "piloto_mas_probable_abandonar = max(abandonos_por_piloto, key=abandonos_por_piloto.get)\n",
    "\n",
    "# Imprimir el piloto más probable de abandonar\n",
    "print(\"Piloto más probable de abandonar:\", piloto_mas_probable_abandonar)"
   ]
  },
  {
   "cell_type": "code",
   "execution_count": null,
   "metadata": {},
   "outputs": [],
   "source": [
    "# Obtén todos los tiempos de vuelta de Monaco_GP\n",
    "tiempos_vuelta_monacogp = Monaco_GP['LapTime']\n",
    "\n",
    "# Ajusta la distribución Beta\n",
    "parametros_beta = st.beta.fit(tiempos_vuelta_monacogp)\n",
    "\n",
    "# Crear gráfica de histograma y PDF ajustada\n",
    "plt.figure(figsize=(12, 8))\n",
    "\n",
    "# Histograma\n",
    "sns.distplot(tiempos_vuelta_monacogp, bins=30, kde=True, color='skyblue', label='Datos - Histograma')\n",
    "\n",
    "# PDF ajustada\n",
    "x = np.linspace(min(tiempos_vuelta_monacogp), max(tiempos_vuelta_monacogp), 1000)\n",
    "pdf_ajustada = st.beta.pdf(x, *parametros_beta)\n",
    "plt.plot(x, pdf_ajustada, label='PDF Ajustada - Beta', color='orange', linewidth=2)\n",
    "\n",
    "plt.xlabel('Tiempo de Vuelta')\n",
    "plt.ylabel('Densidad de Probabilidad')\n",
    "plt.title('Histograma y PDF Ajustada con Distribución Beta para Todos los Pilotos en Monaco_GP')\n",
    "plt.legend()\n",
    "\n",
    "# Ajustar límites del eje x para hacer zoom\n",
    "plt.xlim(min(tiempos_vuelta_monacogp), max(tiempos_vuelta_monacogp))\n",
    "\n",
    "plt.show()\n",
    "\n",
    "# Imprimir parámetros de la distribución ajustada\n",
    "print(f'Parámetros para la distribución Beta: {parametros_beta}')\n"
   ]
  },
  {
   "cell_type": "markdown",
   "metadata": {},
   "source": [
    "### Silverstone"
   ]
  },
  {
   "cell_type": "code",
   "execution_count": null,
   "metadata": {},
   "outputs": [],
   "source": [
    "# Define el número total de vueltas requeridas\n",
    "vueltas_totales = 26\n",
    "\n",
    "# Obtén los pilotos únicos en el DataFrame\n",
    "pilotos_unicos = Silverstone_GP['driverId'].unique()\n",
    "\n",
    "# Inicializa un diccionario para realizar un seguimiento de los pilotos que abandonaron\n",
    "abandonos_por_piloto = {piloto: 0 for piloto in pilotos_unicos}\n",
    "\n",
    "# Número de simulaciones\n",
    "num_simulaciones = 10000\n",
    "\n",
    "# Realiza la simulación\n",
    "for _ in range(num_simulaciones):\n",
    "    for piloto in pilotos_unicos:\n",
    "        # Verifica si el piloto abandona o completa la carrera\n",
    "        abandona = False\n",
    "        if piloto in abandonos_por_piloto:\n",
    "            abandonos_previos = abandonos_por_piloto[piloto]\n",
    "            if abandonos_previos < vueltas_totales:\n",
    "                abandona = True\n",
    "                abandonos_por_piloto[piloto] += 1\n",
    "        else:\n",
    "            abandonos_por_piloto[piloto] = 1 if piloto not in abandonos_por_piloto else 0\n",
    "        \n",
    "# Encuentra el piloto que más veces abandonó\n",
    "piloto_mas_probable_abandonar = max(abandonos_por_piloto, key=abandonos_por_piloto.get)\n",
    "\n",
    "# Imprimir el piloto más probable de abandonar\n",
    "print(\"Piloto más probable de abandonar:\", piloto_mas_probable_abandonar)"
   ]
  },
  {
   "cell_type": "code",
   "execution_count": null,
   "metadata": {},
   "outputs": [],
   "source": [
    "# Obtén todos los tiempos de vuelta de Silverstone_GP\n",
    "tiempos_vuelta_silverstonegp = Silverstone_GP['LapTime']\n",
    "\n",
    "# Ajusta la distribución Beta\n",
    "parametros_beta = st.beta.fit(tiempos_vuelta_silverstonegp)\n",
    "\n",
    "# Crear gráfica de histograma y PDF ajustada\n",
    "plt.figure(figsize=(12, 8))\n",
    "\n",
    "# Histograma\n",
    "sns.distplot(tiempos_vuelta_silverstonegp, bins=30, kde=True, color='skyblue', label='Datos - Histograma')\n",
    "\n",
    "# PDF ajustada\n",
    "x = np.linspace(min(tiempos_vuelta_silverstonegp), max(tiempos_vuelta_silverstonegp), 1000)\n",
    "pdf_ajustada = st.beta.pdf(x, *parametros_beta)\n",
    "plt.plot(x, pdf_ajustada, label='PDF Ajustada - Beta', color='orange', linewidth=2)\n",
    "\n",
    "plt.xlabel('Tiempo de Vuelta')\n",
    "plt.ylabel('Densidad de Probabilidad')\n",
    "plt.title('Histograma y PDF Ajustada con Distribución Beta para Todos los Pilotos en Silverstone_GP')\n",
    "plt.legend()\n",
    "\n",
    "# Ajustar límites del eje x para hacer zoom\n",
    "plt.xlim(min(tiempos_vuelta_silverstonegp), max(tiempos_vuelta_silverstonegp))\n",
    "\n",
    "plt.show()\n",
    "\n",
    "# Imprimir parámetros de la distribución ajustada\n",
    "print(f'Parámetros para la distribución Beta: {parametros_beta}')"
   ]
  },
  {
   "cell_type": "markdown",
   "metadata": {},
   "source": [
    "### Spa"
   ]
  },
  {
   "cell_type": "code",
   "execution_count": null,
   "metadata": {},
   "outputs": [],
   "source": [
    "# Define el número total de vueltas requeridas\n",
    "vueltas_totales = 22\n",
    "\n",
    "# Obtén los pilotos únicos en el DataFrame\n",
    "pilotos_unicos = Spa_GP['driverId'].unique()\n",
    "\n",
    "# Inicializa un diccionario para realizar un seguimiento de los pilotos que abandonaron\n",
    "abandonos_por_piloto = {piloto: 0 for piloto in pilotos_unicos}\n",
    "\n",
    "# Número de simulaciones\n",
    "num_simulaciones = 10000\n",
    "\n",
    "# Realiza la simulación\n",
    "for _ in range(num_simulaciones):\n",
    "    for piloto in pilotos_unicos:\n",
    "        # Verifica si el piloto abandona o completa la carrera\n",
    "        abandona = False\n",
    "        if piloto in abandonos_por_piloto:\n",
    "            abandonos_previos = abandonos_por_piloto[piloto]\n",
    "            if abandonos_previos < vueltas_totales:\n",
    "                abandona = True\n",
    "                abandonos_por_piloto[piloto] += 1\n",
    "        else:\n",
    "            abandonos_por_piloto[piloto] = 1 if piloto not in abandonos_por_piloto else 0\n",
    "        \n",
    "# Encuentra el piloto que más veces abandonó\n",
    "piloto_mas_probable_abandonar = max(abandonos_por_piloto, key=abandonos_por_piloto.get)\n",
    "\n",
    "# Imprimir el piloto más probable de abandonar\n",
    "print(\"Piloto más probable de abandonar:\", piloto_mas_probable_abandonar)"
   ]
  },
  {
   "cell_type": "code",
   "execution_count": null,
   "metadata": {},
   "outputs": [],
   "source": [
    "# Obtén todos los tiempos de vuelta de Spa_GP\n",
    "tiempos_vuelta_spagp = Spa_GP['LapTime']\n",
    "\n",
    "# Ajusta la distribución Johnson SB\n",
    "parametros_johnsonsb = st.johnsonsb.fit(tiempos_vuelta_spagp)\n",
    "\n",
    "# Crear gráfica de histograma y PDF ajustada\n",
    "plt.figure(figsize=(12, 8))\n",
    "\n",
    "# Histograma\n",
    "sns.distplot(tiempos_vuelta_spagp, bins=30, kde=True, color='skyblue', label='Datos - Histograma')\n",
    "\n",
    "# PDF ajustada\n",
    "x = np.linspace(min(tiempos_vuelta_spagp), max(tiempos_vuelta_spagp), 1000)\n",
    "pdf_ajustada = st.johnsonsb.pdf(x, *parametros_johnsonsb)\n",
    "plt.plot(x, pdf_ajustada, label='PDF Ajustada - Johnson SB', color='orange', linewidth=2)\n",
    "\n",
    "plt.xlabel('Tiempo de Vuelta')\n",
    "plt.ylabel('Densidad de Probabilidad')\n",
    "plt.title('Histograma y PDF Ajustada con Distribución Johnson SB para Todos los Pilotos en Spa_GP')\n",
    "plt.legend()\n",
    "plt.show()\n",
    "\n",
    "# Imprimir parámetros de la distribución ajustada\n",
    "print(f'Parámetros para la distribución Johnson SB: {parametros_johnsonsb}')"
   ]
  },
  {
   "cell_type": "markdown",
   "metadata": {},
   "source": [
    "### 1.6 Conclusiones.\n",
    "> **Vuelta Rápida**\n",
    "   - En Mónaco se obtuvo como resultado que el piloto más probable a realizar la vuelta rápida con P = 32% es Lewis Hamilton. Este resultado fue certero, dado que en 2021 el piloto que hizo la vuelta rápida fue efectivamente L. Hamilton. \n",
    "   \n",
    ">   \n",
    "   - En Monza se obtuvo que Daniel Riccardo fue el piloto de vuelta rápida con 20% de probabilidad. Esto significa que la simulación es congruente con el resultado de la temporada 2021. En esta simulación a diferencia de Mónaco, hubo muchos más pilotos con probabilidad de hacer la vuelta rápida.  \n",
    "   \n",
    ">   \n",
    "   - Se pudo observar que la velocidad alcanzada también es influida por el GP. En Monaco, donde por su pista el movimiento de pocisiones depende de la potencia del monoplaza, se puede observar que solo 4 pilotos tuvieron posibilidad de hacer la vuelta rápida. Estos pilotos pertenecían a las escuderías de Ferrari, Mercedes y RedBull, las cuales tienen los motores con mejor potencia en esta temporada. Este comportamiento no se observó en Monza, donde más pilotos de otras escuderían tenían posibilidad de hacer la vuelta rápida. \n",
    "\n",
    "> **Ganador del GP**\n",
    "   - En Monza y en Mónaco se obtuvo como resultado Hamilton y Max, que era lo que se esperaba ya que tuvieron una muy buena temporada y fueron de los corredores con mejores tiempos.\n",
    "   - En Silverstone y en Spa se obtuvo como resultado Checo y Leclerc, dos pilotos diferentes a los de que se vieron en los premios pasados pero que tambien era lo que se esperaba.\n",
    "\n",
    "> **Abandonar**\n",
    "   - Al momento de abandonar depende mucho de la pista, como se puede ver en este caso en Monza todos terminaron la carrera mientras que en la de Mónaco que se considera una de las pistas más complicadas un poco menos de la mitad tuvieron que abandonar la carrera.\n",
    "   - Nuestras simulaciones nos muestran que Lance y Sainz son los más probables a abandonar, aunque esto no concuerda con nuestra hipótesis podemos suponer que los datos que se tenían en el dataset de ese año no era lo que esperabamos.\n",
    "   - En los nodos 3 y 4 se ve nuevamente que el más probable a abandonar es Lance al no tener una temporada tan buena o no haber terminado las pistas que se simularon en esta temporada. \n",
    "### 1.7 Referencias.\n",
    "> Citar (en formato APA) la bibliografía utilizada.\n",
    "    - F, S. (2023). STATS F1. https://www.statsf1.com/es/default.aspx"
   ]
  },
  {
   "cell_type": "markdown",
   "metadata": {},
   "source": [
    "___\n",
    "## 2. Especificaciones adicionales.\n",
    "En el grupo deben haber mínimo dos integrantes y máximo tres integrantes. Para propósitos logísticos nada más, por favor enumérense como *integrante 1*, *integrante 2* e *integrante 3*.\n",
    "\n",
    "### 2.1 Notebook de jupyter. \n",
    "> Los anteriores numerales los deben desarrollar todos en un notebook de jupyter y llamarlo de la siguiente manera `ProyectoModulo1_ApellidoN1_ApellidoN2_ApellidoN3`, donde `ApellidoNi` hace referencia al apellido materno y la inicial del primer nombre del integrante `i`.\n",
    "\n",
    "### 2.2 Proyecto en `GitHub`.\n",
    "> El integrante 1 deberá crear un proyecto en `GitHub` llamado **proyecto_modulo1**, donde tendrán todos los archivos relacionados con el proyecto. Los demás integrantes deben hacer un *fork* del proyecto, seguir el proyecto principal con `GitKraken` y hacer al menos dos contribuciones con *pull request* (como se hizo en la tarea). En el proyecto, deben incluir el repositorio remoto del integrante 1.\n",
    "\n",
    "### 2.3 Presentación.\n",
    "> Recuerden que la nota del proyecto es mitad el trabajo, y mitad la presentación. Deben hacer una presentación utlizando un notebook de python para presentar el trabajo durante un horario de clase que se será posteriomente definido. La presentación, además de llevar todos los componentes básicos descritos en el entregable, debe llevar una tabla de contenido.\n",
    "> - Presentación: 10 minutos.\n",
    "> - Seguir estas recomendaciones: https://es.slideshare.net/MeireComputacion/power-point-pautas-para-una-buen-trabajo"
   ]
  },
  {
   "cell_type": "markdown",
   "metadata": {},
   "source": [
    "<script>\n",
    "  $(document).ready(function(){\n",
    "    $('div.prompt').hide();\n",
    "    $('div.back-to-top').hide();\n",
    "    $('nav#menubar').hide();\n",
    "    $('.breadcrumb').hide();\n",
    "    $('.hidden-print').hide();\n",
    "  });\n",
    "</script>\n",
    "\n",
    "<footer id=\"attribution\" style=\"float:right; color:#808080; background:#fff;\">\n",
    "Created with Jupyter by Esteban Jiménez Rodríguez.\n",
    "</footer>"
   ]
  }
 ],
 "metadata": {
  "kernelspec": {
   "display_name": "Python 3",
   "language": "python",
   "name": "python3"
  },
  "language_info": {
   "codemirror_mode": {
    "name": "ipython",
    "version": 3
   },
   "file_extension": ".py",
   "mimetype": "text/x-python",
   "name": "python",
   "nbconvert_exporter": "python",
   "pygments_lexer": "ipython3",
   "version": "3.7.7"
  }
 },
 "nbformat": 4,
 "nbformat_minor": 2
}
